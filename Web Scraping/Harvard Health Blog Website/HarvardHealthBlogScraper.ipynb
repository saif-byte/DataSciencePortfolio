{
  "nbformat": 4,
  "nbformat_minor": 0,
  "metadata": {
    "colab": {
      "name": "HarvardHealthBlogScraper.ipynb",
      "provenance": [],
      "authorship_tag": "ABX9TyMOYTeMwRHK2rMwNZgdCN8t",
      "include_colab_link": true
    },
    "kernelspec": {
      "name": "python3",
      "display_name": "Python 3"
    },
    "language_info": {
      "name": "python"
    }
  },
  "cells": [
    {
      "cell_type": "markdown",
      "metadata": {
        "id": "view-in-github",
        "colab_type": "text"
      },
      "source": [
        "<a href=\"https://colab.research.google.com/github/saif-byte/DataSciencePortfolio/blob/main/Web%20Scraping/Harvard%20Health%20Blog%20Website/HarvardHealthBlogScraper.ipynb\" target=\"_parent\"><img src=\"https://colab.research.google.com/assets/colab-badge.svg\" alt=\"Open In Colab\"/></a>"
      ]
    },
    {
      "cell_type": "markdown",
      "source": [
        "#Blog Information Scraping from [Harvard Health Blog Website](https://www.health.harvard.edu/blog)\n",
        "\n"
      ],
      "metadata": {
        "id": "OXXHSyui4maA"
      }
    },
    {
      "cell_type": "markdown",
      "source": [
        "In this project we will scrape the headline, summary , category , date published and links to the articles on Harvard Health Blog Website using beautiful soup. We will scrape all the information on all pages of this website"
      ],
      "metadata": {
        "id": "074cSJgV4yVK"
      }
    },
    {
      "cell_type": "code",
      "execution_count": 30,
      "metadata": {
        "id": "kuUo3G28mdd1"
      },
      "outputs": [],
      "source": [
        "#importing necessary libraries\n",
        "from bs4 import BeautifulSoup\n",
        "import requests\n",
        "import csv"
      ]
    },
    {
      "cell_type": "code",
      "source": [
        "#getting the source code\n",
        "source = requests.get(\"https://www.health.harvard.edu/blog\").text\n",
        "soup = BeautifulSoup(source , \"lxml\")"
      ],
      "metadata": {
        "id": "OlysYy9Im0Jb"
      },
      "execution_count": 4,
      "outputs": []
    },
    {
      "cell_type": "code",
      "source": [
        "article = soup.find('div' , class_ =\"mb-16 md:flex\")\n",
        "print(article.prettify())"
      ],
      "metadata": {
        "colab": {
          "base_uri": "https://localhost:8080/"
        },
        "id": "o1FFt0UvnnkS",
        "outputId": "e76519fa-0532-4842-8b7d-7d38d822fce2"
      },
      "execution_count": 7,
      "outputs": [
        {
          "output_type": "stream",
          "name": "stdout",
          "text": [
            "<div class=\"mb-16 md:flex\">\n",
            " <div class=\"md:w-1/2 lg:w-1/3 xl:w-2/5\">\n",
            "  <div class=\"h-full\">\n",
            "   <a class=\"inline-block w-full\" href=\"https://www.health.harvard.edu/blog/some-men-whose-prostate-cancer-progresses-can-safely-delay-treatment-202205232749\">\n",
            "    <span class=\"sr-only\">\n",
            "     Read More about Some men whose prostate cancer progresses can safely delay treatment\n",
            "    </span>\n",
            "    <div class=\"aspect-h-5 aspect-w-8 relative\">\n",
            "     <img alt=\"Some men whose prostate cancer progresses can safely delay treatment\" class=\"object-cover h-full w-full\" height=\"215\" loading=\"lazy\" src=\"https://domf5oio6qrcr.cloudfront.net/medialibrary/12760/785e0513-ac8a-4077-b8d5-19ca8a86429f.jpg\" width=\"350\"/>\n",
            "    </div>\n",
            "   </a>\n",
            "  </div>\n",
            " </div>\n",
            " <div class=\"md:w-1/2 lg:w-2/3 xl:w-3/5\">\n",
            "  <div class=\"md:pb-8 md:pl-8\">\n",
            "   <div class=\"-mt-10 bg-white relative z-1 pr-6 pt-6 border-t-4 border-black mr-12 sm:mr-24 md:mt-0 md:p-0 md:border-0 md:mr-0\">\n",
            "    <ul>\n",
            "     <li>\n",
            "      <span class=\"font-bold\">\n",
            "       <a class=\"text-red hover:text-black transition-colors duration-200\" href=\"https://www.health.harvard.edu/topics/mens-health\">\n",
            "        Men's Health\n",
            "       </a>\n",
            "      </span>\n",
            "     </li>\n",
            "    </ul>\n",
            "   </div>\n",
            "   <a class=\"hover:text-red transition-colors duration-200\" href=\"https://www.health.harvard.edu/blog/some-men-whose-prostate-cancer-progresses-can-safely-delay-treatment-202205232749\">\n",
            "    <h2 class=\"text-2xl font-bold mb-1 leading-tight mt-2 group-hover:text-red group-focus:text-red transition-colors duration-200\">\n",
            "     Some men whose prostate cancer progresses can safely delay treatment\n",
            "    </h2>\n",
            "   </a>\n",
            "   <div class=\"mb-1 text-sm italic\">\n",
            "    <span>\n",
            "     Published May 27, 2022\n",
            "    </span>\n",
            "   </div>\n",
            "   <div class=\"prose mt-4\">\n",
            "    <p>\n",
            "     Prostate cancer can progress over long durations, and if a man’s tumor has features that predict slow growth, he can opt for active surveillance instead of immediate treatment. But when the time for treatment comes, up to a third of men still decide against it. Now, a new study finds that for some of these men, treatment\n",
            "     <em>\n",
            "      can\n",
            "     </em>\n",
            "     be safely delayed.\n",
            "    </p>\n",
            "   </div>\n",
            "  </div>\n",
            " </div>\n",
            "</div>\n",
            "\n"
          ]
        }
      ]
    },
    {
      "cell_type": "code",
      "source": [
        "headline = article.h2.text\n",
        "print(headline)"
      ],
      "metadata": {
        "colab": {
          "base_uri": "https://localhost:8080/"
        },
        "id": "JPNXPlg1qqkX",
        "outputId": "1e43e0cf-f387-477b-82b4-df292874823b"
      },
      "execution_count": 13,
      "outputs": [
        {
          "output_type": "stream",
          "name": "stdout",
          "text": [
            "Some men whose prostate cancer progresses can safely delay treatment\n"
          ]
        }
      ]
    },
    {
      "cell_type": "code",
      "source": [
        "summary = article.p.text\n",
        "print(summary)"
      ],
      "metadata": {
        "colab": {
          "base_uri": "https://localhost:8080/"
        },
        "id": "ZswOn_IqrpIM",
        "outputId": "1b9ea220-021c-4b55-b5cc-1ac6fe21fd16"
      },
      "execution_count": 14,
      "outputs": [
        {
          "output_type": "stream",
          "name": "stdout",
          "text": [
            "Prostate cancer can progress over long durations, and if a man’s tumor has features that predict slow growth, he can opt for active surveillance instead of immediate treatment. But when the time for treatment comes, up to a third of men still decide against it. Now, a new study finds that for some of these men, treatment can be safely delayed.\n"
          ]
        }
      ]
    },
    {
      "cell_type": "code",
      "source": [
        "category = article.ul.li.span.a.text\n",
        "print(category)"
      ],
      "metadata": {
        "colab": {
          "base_uri": "https://localhost:8080/"
        },
        "id": "MAa7vlm-s5V8",
        "outputId": "f238ec09-0c09-4d52-a904-aed58e88c984"
      },
      "execution_count": 20,
      "outputs": [
        {
          "output_type": "stream",
          "name": "stdout",
          "text": [
            "Men's Health\n"
          ]
        }
      ]
    },
    {
      "cell_type": "code",
      "source": [
        "date = article.find('div' , class_=\"mb-1 text-sm italic\").span.text\n",
        "date = date.split(\" \",1)[1]\n",
        "\n",
        "print(date)"
      ],
      "metadata": {
        "colab": {
          "base_uri": "https://localhost:8080/"
        },
        "id": "dBELdCpltN1F",
        "outputId": "006d9696-a86d-4e44-a6af-d456243ad988"
      },
      "execution_count": 27,
      "outputs": [
        {
          "output_type": "stream",
          "name": "stdout",
          "text": [
            "May 27, 2022\n"
          ]
        }
      ]
    },
    {
      "cell_type": "code",
      "source": [
        "link = article.a['href']\n",
        "print(link)"
      ],
      "metadata": {
        "colab": {
          "base_uri": "https://localhost:8080/"
        },
        "id": "JoR7j90Ht9Sz",
        "outputId": "369e234d-98a3-40ab-afd0-4b60735cdce8"
      },
      "execution_count": 26,
      "outputs": [
        {
          "output_type": "stream",
          "name": "stdout",
          "text": [
            "https://www.health.harvard.edu/blog/some-men-whose-prostate-cancer-progresses-can-safely-delay-treatment-202205232749\n"
          ]
        }
      ]
    },
    {
      "cell_type": "code",
      "source": [
        "\n",
        "for article in soup.find_all('div' , class_ =\"mb-16 md:flex\"):\n",
        "  headline = article.h2.text\n",
        "  print(headline)\n",
        "  summary = article.p.text\n",
        "  print(summary)\n",
        "  category = article.ul.li.span.a.text\n",
        "  print(category)\n",
        "  date = article.find('div' , class_=\"mb-1 text-sm italic\").span.text\n",
        "  date = date.split(\" \",1)[1]\n",
        "  print(date)\n",
        "  link = article.a['href']\n",
        "  print(link)\n",
        "  print()\n"
      ],
      "metadata": {
        "colab": {
          "base_uri": "https://localhost:8080/"
        },
        "id": "Aw6vOTHKvU84",
        "outputId": "62ea7fa3-9a57-4d6a-c0de-ed21216212ed"
      },
      "execution_count": 29,
      "outputs": [
        {
          "output_type": "stream",
          "name": "stdout",
          "text": [
            "Some men whose prostate cancer progresses can safely delay treatment\n",
            "Prostate cancer can progress over long durations, and if a man’s tumor has features that predict slow growth, he can opt for active surveillance instead of immediate treatment. But when the time for treatment comes, up to a third of men still decide against it. Now, a new study finds that for some of these men, treatment can be safely delayed.\n",
            "Men's Health\n",
            "May 27, 2022\n",
            "https://www.health.harvard.edu/blog/some-men-whose-prostate-cancer-progresses-can-safely-delay-treatment-202205232749\n",
            "\n",
            "Heart-healthy habits for children and teens lengthen lives\n",
            "Researchers who began collecting data on thousands of people, starting when they were children and following up decades later, found that five risk factors influence health outcomes in adulthood. Parents should know the important steps they can take to get their children started toward healthy lives as adults.\n",
            "Child & Teen Health\n",
            "May 26, 2022\n",
            "https://www.health.harvard.edu/blog/heart-healthy-habits-for-children-and-teens-lengthen-lives-202205262753\n",
            "\n",
            "Monkeypox: An unfamiliar virus spreading fast — sound familiar?\n",
            "More than two years after COVID-19 reached the US, an outbreak of monkeypox is spreading fast outside of Africa. This virus is not new, and it’s likely to be less dangerous than COVID, but it’s still important to be aware of its symptoms, spread, treatment, and prevention.\n",
            "Diseases & Conditions\n",
            "May 25, 2022\n",
            "https://www.health.harvard.edu/blog/monkeypox-an-unfamiliar-virus-spreading-fast-sound-familiar-202205252752\n",
            "\n",
            "Diabetes: Does a long-term study reinforce or change approaches to prevention?\n",
            "Over two decades ago, the Diabetes Prevention Program study showed that type 2 diabetes could be slowed or even prevented in people with early signs of it. Now, a long-term follow-up study focusing on death rates from several causes has produced some surprising results.\n",
            "Staying Healthy\n",
            "May 24, 2022\n",
            "https://www.health.harvard.edu/blog/diabetes-does-a-long-term-study-reinforce-or-change-approaches-to-prevention-202205242750\n",
            "\n",
            "War anxiety: How to cope\n",
            "News and social media are filled with disturbing stories and images. Anxiety about war, coming on top of two years of the pandemic, is hitting us particularly hard. The symptoms of war anxiety can be physical or mental; knowing what tools to use and how can help break the anxiety cycle.\n",
            "Staying Healthy\n",
            "May 23, 2022\n",
            "https://www.health.harvard.edu/blog/war-anxiety-how-to-cope-202205232748\n",
            "\n",
            "Can we prevent depression in older adults by treating insomnia?\n",
            "Depression is common among older adults, and insomnia doubles the risk of major depressive disorder. There is increasing evidence that treating insomnia in older people who have both insomnia and major depression has the potential to improve both their sleep and their mood.\n",
            "Mind & Mood\n",
            "February 16, 2022\n",
            "https://www.health.harvard.edu/blog/can-we-prevent-depression-in-older-adults-by-treating-insomnia-202202162687\n",
            "\n",
            "Want to try veganism? Here's how to get started\n",
            "Some people decide to adopt a vegan diet because of concerns about the health effects of eating animal products; for others it’s more about concern for animal welfare and the environment. Regardless of the motivation, those who want to make this change should anticipate potential pitfalls and be aware of issues specific to vegan eating.\n",
            "Staying Healthy\n",
            "May 19, 2022\n",
            "https://www.health.harvard.edu/blog/want-to-try-veganism-heres-how-to-get-started-202205172745\n",
            "\n",
            "Vitamin B6 flies under the radar: Are you getting enough?\n",
            "Vitamin B6 helps with the body’s enzyme reactions, immune system health, brain chemicals, and more, but it doesn’t get a lot of attention. The body can’t synthesize it, so people need to get it from food, and a recent study found that a surprisingly high percentage of people may be deficient in vitamin B6.\n",
            "Nutrition\n",
            "May 18, 2022\n",
            "https://www.health.harvard.edu/blog/vitamin-b6-flies-under-the-radar-are-you-getting-enough-202205182744\n",
            "\n",
            "The formula shortage is hurting families: What parents should know and do\n",
            "With the current baby formula shortage, parents all over the country are upset, confused, and scared. While formula companies and the government are working to restore the supply, it may take a while before it's easy to buy formula. In the meantime, here are some do’s and don’ts for parents to be aware of.\n",
            "Child & Teen Health\n",
            "May 17, 2022\n",
            "https://www.health.harvard.edu/blog/the-formula-shortage-is-hurting-families-what-parents-should-know-and-do-202205172747\n",
            "\n",
            "Gyn Care 101: What to know about seeing a gynecologist\n",
            "There are many reasons you might want or need to see a gynecologist or seek gyn care from your health care team. It helps to understand who will provide your care, what to expect during the visit, what to discuss, and how to have a positive experience during the visit.\n",
            "Women's Health\n",
            "May 16, 2022\n",
            "https://www.health.harvard.edu/blog/gyn-care-101-what-to-know-about-seeing-a-gynecologist-202205162746\n",
            "\n",
            "Swimming lessons save lives: What parents should know\n",
            "Every day, about 11 people die from drowning in the United States. Swimming lessons help save lives and parents should know how to choose the right program and encourage children to learn skills that will help them to stay safe at the beach and around ponds or pools.\n",
            "Child & Teen Health\n",
            "May 6, 2022\n",
            "https://www.health.harvard.edu/blog/swimming-lessons-10-things-parents-should-know-2018061514064\n",
            "\n",
            "Strong legs help power summer activities: Hiking, biking, swimming, and more\n",
            "Legs are the foundation for many enjoyable activities—running, bicycling, swimming, and more. Building strong leg muscles can improve your performance, build endurance, and reduce your risk of injury. These exercises will work all of the major muscle groups in your legs.\n",
            "Exercise & Fitness\n",
            "May 12, 2022\n",
            "https://www.health.harvard.edu/blog/strong-legs-help-power-summer-activities-hiking-biking-swimming-and-more-202205122743\n",
            "\n",
            "What is a successful mindset for weight loss maintenance?\n",
            "Most people are able to lose weight in the short term, but will probably regain that weight as time passes. By studying people who lose weight and are able to maintain the loss for several years, insight into their approach can help others understand the strategies that are most likely to lead to long-term success.\n",
            "Staying Healthy\n",
            "May 11, 2022\n",
            "https://www.health.harvard.edu/blog/what-is-a-successful-mindset-for-weight-loss-maintenance-202205112742\n",
            "\n",
            "French fries versus almonds: Calorie for calorie, which comes out on top?\n",
            "A study compared eating a serving of French fries every day for a month to eating a serving of almonds with the same number of calories, and found that levels of some health markers were similar between the two groups — but those numbers don’t tell the full story.\n",
            "Nutrition\n",
            "May 10, 2022\n",
            "https://www.health.harvard.edu/blog/french-fries-versus-almonds-calorie-for-calorie-which-comes-out-on-top-202205102741\n",
            "\n",
            "Summer camp 2022: Having fun and staying safe\n",
            "After all we’ve been through during the last couple of years, many families and kids are looking forward to being able to return to summer camp. But COVID-19 is still with us and parents need to consider this as they make plans for safe and fun summer activities.\n",
            "Child & Teen Health\n",
            "May 9, 2022\n",
            "https://www.health.harvard.edu/blog/summer-camp-2022-having-fun-and-staying-safe-202205092740\n",
            "\n",
            "Finding balance: 3 simple exercises to steady your steps\n",
            "Being able to maintain balance is crucial to performing everyday activities. As people get older, systems in the body that help maintain balance aren’t as responsive as when they were younger. Practicing these exercises designed to improve balance helps build steadiness and prevent falls.\n",
            "Exercise & Fitness\n",
            "October 13, 2021\n",
            "https://www.health.harvard.edu/blog/finding-balance-3-simple-exercises-to-steady-your-steps-202110132612\n",
            "\n",
            "An action plan to fight unhealthy inflammation\n",
            "Inflammation serves a vital role in the body’s defense and repair systems, but chronic inflammation can be harmful. Learn six of the most effective ways to ward off unhealthy inflammation.\n",
            "Staying Healthy\n",
            "May 5, 2022\n",
            "https://www.health.harvard.edu/blog/an-action-plan-to-fight-unhealthy-inflammation-202205052739\n",
            "\n",
            "How to recognize and tame your cognitive distortions\n",
            "Cognitive distortions are internal mental filters or biases that fuel anxiety and make us feel bad about ourselves. These filters can cause us to devolve into counterproductive brooding that can worsen depression or anxiety and stall positive lifestyle changes. So how can you recognize and overcome these distortions?\n",
            "Mind & Mood\n",
            "May 4, 2022\n",
            "https://www.health.harvard.edu/blog/how-to-recognize-and-tame-your-cognitive-distortions-202205042738\n",
            "\n",
            "LATE: A common cause of dementia you’ve never heard of\n",
            "LATE is a brain disorder that causes dementia in older individuals. In fact it is the third most common cause of dementia, but it affects many of the same brain regions as Alzheimer’s disease so it presents with similar symptoms, and it’s only with the advent of special diagnostic tests that clinicians have realized how common it is.\n",
            "Mind & Mood\n",
            "May 3, 2022\n",
            "https://www.health.harvard.edu/blog/late-a-common-cause-of-dementia-youve-never-heard-of-202205032737\n",
            "\n",
            "How to break a bad habit\n",
            "We all have habits we’d like to break, but the brain doesn’t make changes easily. Breaking an unhealthy habit can be done; to do so, it helps to understand what’s happening in the brain, know why you want to change, and accept that there will be setbacks along the way.\n",
            "Mind & Mood\n",
            "May 2, 2022\n",
            "https://www.health.harvard.edu/blog/how-to-break-a-bad-habit-202205022736\n",
            "\n",
            "Long-lasting healthy changes: Doable and worthwhile\n",
            "Abundant research shows that healthy lifestyle factors protect people against serious health problems like diabetes, high blood pressure, heart disease, stroke, cancer, and more. Even small steps toward a healthier lifestyle can make a big difference in our lives––here's practical advice for making healthy changes stick.\n",
            "Staying Healthy\n",
            "September 14, 2021\n",
            "https://www.health.harvard.edu/blog/long-lasting-healthy-changes-doable-and-worthwhile-202109142594\n",
            "\n",
            "What is alopecia areata and how is it managed?\n",
            "Hair loss is a common problem for many men and women, but what does it mean to have alopecia? Alopecia areata occurs when the body's immune system attacks hair follicles, resulting in hair loss. AA can affect the scalp, eyebrows, eyelashes, or anywhere hair grows on the body.\n",
            "Diseases & Conditions\n",
            "April 28, 2022\n",
            "https://www.health.harvard.edu/blog/what-is-alopecia-areata-and-how-is-it-managed-202204282732\n",
            "\n",
            "New Harvard tool helps fact-check cancer claims\n",
            "Scary or misleading claims about things that may cause cancer are so plentiful that it’s hard to know which ones to take seriously. A new website developed by experts aims to provide reliable information about whether a particular cancer claim is true.\n",
            "Staying Healthy\n",
            "April 27, 2022\n",
            "https://www.health.harvard.edu/blog/new-harvard-tool-helps-fact-check-cancer-claims-202204272735\n",
            "\n",
            "Repeating the story: What to expect in the emergency department\n",
            "If you wind up in an emergency department due to an illness or accident what should you know and what can you expect? It’s frustrating to have to wait for care, and also frustrating to have to explain your situation multiple times to different people, but there are reasons why it all happens.\n",
            "Diseases & Conditions\n",
            "April 26, 2022\n",
            "https://www.health.harvard.edu/blog/repeating-the-story-what-to-expect-in-the-emergency-department-202204262734\n",
            "\n"
          ]
        }
      ]
    },
    {
      "cell_type": "code",
      "source": [
        "#saving all the pages to csv\n",
        "\n",
        "\n",
        "csv_file = open(\"harvard_health_scraper.csv\" , 'w')\n",
        "csv_writer = csv.writer(csv_file)\n",
        "csv_writer.writerow(['Headline' , \"Summary\" , \"Category\" , \"Date Published\" , \"Link to Article\"])\n",
        "\n",
        "for i in range(1 , 114):\n",
        "  source = requests.get('https://www.health.harvard.edu/blog?page=%s'%i).text\n",
        "  soup = BeautifulSoup(source , 'lxml')\n",
        "  for article in soup.find_all('div' , class_ =\"mb-16 md:flex\"):\n",
        "    try:\n",
        "      headline = article.h2.text\n",
        "    except Exception as e:\n",
        "      headline = None\n",
        "    try:\n",
        "      summary = article.p.text\n",
        "    except Exception as e:\n",
        "      summary = None\n",
        "    try:\n",
        "      category = article.ul.li.span.a.text\n",
        "    except Exception as e:\n",
        "      category = None\n",
        "    try:\n",
        "      date = article.find('div' , class_=\"mb-1 text-sm italic\").span.text\n",
        "      date = date.split(\" \",1)[1]\n",
        "    except Exception as e:\n",
        "      date = None\n",
        "    try:\n",
        "      link = article.a['href']\n",
        "    except Exception as e:\n",
        "      link=None\n",
        "    csv_writer.writerow([headline , summary , category , date , link])\n",
        "\n",
        "csv_file.close()"
      ],
      "metadata": {
        "id": "ZMqLvbdjyBIf"
      },
      "execution_count": 34,
      "outputs": []
    },
    {
      "cell_type": "markdown",
      "source": [
        "We have successfully scraped all the blogs with their information from harvard health blog websites."
      ],
      "metadata": {
        "id": "p7vjEbnr4adn"
      }
    }
  ]
}