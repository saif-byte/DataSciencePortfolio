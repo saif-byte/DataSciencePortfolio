{
  "nbformat": 4,
  "nbformat_minor": 0,
  "metadata": {
    "colab": {
      "name": "load_type_classifier.ipynb",
      "provenance": [],
      "authorship_tag": "ABX9TyMHyPjhdED9nfT+dmQb9Ql3",
      "include_colab_link": true
    },
    "kernelspec": {
      "name": "python3",
      "display_name": "Python 3"
    },
    "language_info": {
      "name": "python"
    }
  },
  "cells": [
    {
      "cell_type": "markdown",
      "metadata": {
        "id": "view-in-github",
        "colab_type": "text"
      },
      "source": [
        "<a href=\"https://colab.research.google.com/github/saif-byte/DataSciencePortfolio/blob/main/Steel%20Industry%20Load%20Classification/load_type_classifier.ipynb\" target=\"_parent\"><img src=\"https://colab.research.google.com/assets/colab-badge.svg\" alt=\"Open In Colab\"/></a>"
      ]
    },
    {
      "cell_type": "markdown",
      "source": [
        "#Classifying load type for steel industry"
      ],
      "metadata": {
        "id": "dwsksASgGGso"
      }
    },
    {
      "cell_type": "markdown",
      "source": [
        "In this project , we will train a model to classify load type into light load , medium load and maximum load using the features given in dataset. The data set for this project is taken from UCL data repository. We will use multiple classification algorithm and identify best parameters for them. "
      ],
      "metadata": {
        "id": "dnpiFFaVGfmj"
      }
    },
    {
      "cell_type": "code",
      "execution_count": 521,
      "metadata": {
        "id": "J5ZaVd5XgJhB"
      },
      "outputs": [],
      "source": [
        "#importing necessary libraries\n",
        "import numpy as np\n",
        "import pandas as pd\n",
        "import seaborn as sns\n",
        "import matplotlib.pyplot as plt\n",
        "\n",
        "from sklearn.model_selection import train_test_split\n",
        "from sklearn.feature_extraction import DictVectorizer\n",
        "from sklearn.linear_model import LogisticRegression\n",
        "from sklearn.metrics import roc_auc_score , multilabel_confusion_matrix\n",
        "\n",
        "from sklearn.ensemble import RandomForestClassifier , ExtraTreesClassifier\n",
        "\n",
        "import pickle,requests\n",
        "%matplotlib inline"
      ]
    },
    {
      "cell_type": "markdown",
      "source": [
        "##Reading and Preprocessing Data"
      ],
      "metadata": {
        "id": "QQNVJIlTgf-a"
      }
    },
    {
      "cell_type": "code",
      "source": [
        "df = pd.read_csv(\"/content/Steel_industry_data.csv\")\n",
        "df.head()"
      ],
      "metadata": {
        "colab": {
          "base_uri": "https://localhost:8080/",
          "height": 357
        },
        "id": "9SpfrWQsgj4n",
        "outputId": "5d649c2a-91bb-4658-8536-8d5c5c94c915"
      },
      "execution_count": null,
      "outputs": [
        {
          "output_type": "execute_result",
          "data": {
            "text/plain": [
              "               date  Usage_kWh  Lagging_Current_Reactive.Power_kVarh  \\\n",
              "0  01/01/2018 00:15       3.17                                  2.95   \n",
              "1  01/01/2018 00:30       4.00                                  4.46   \n",
              "2  01/01/2018 00:45       3.24                                  3.28   \n",
              "3  01/01/2018 01:00       3.31                                  3.56   \n",
              "4  01/01/2018 01:15       3.82                                  4.50   \n",
              "\n",
              "   Leading_Current_Reactive_Power_kVarh  CO2(tCO2)  \\\n",
              "0                                   0.0        0.0   \n",
              "1                                   0.0        0.0   \n",
              "2                                   0.0        0.0   \n",
              "3                                   0.0        0.0   \n",
              "4                                   0.0        0.0   \n",
              "\n",
              "   Lagging_Current_Power_Factor  Leading_Current_Power_Factor   NSM  \\\n",
              "0                         73.21                         100.0   900   \n",
              "1                         66.77                         100.0  1800   \n",
              "2                         70.28                         100.0  2700   \n",
              "3                         68.09                         100.0  3600   \n",
              "4                         64.72                         100.0  4500   \n",
              "\n",
              "  WeekStatus Day_of_week   Load_Type  \n",
              "0    Weekday      Monday  Light_Load  \n",
              "1    Weekday      Monday  Light_Load  \n",
              "2    Weekday      Monday  Light_Load  \n",
              "3    Weekday      Monday  Light_Load  \n",
              "4    Weekday      Monday  Light_Load  "
            ],
            "text/html": [
              "\n",
              "  <div id=\"df-7b7e0df9-fb81-422c-aa27-b4ac89c43c45\">\n",
              "    <div class=\"colab-df-container\">\n",
              "      <div>\n",
              "<style scoped>\n",
              "    .dataframe tbody tr th:only-of-type {\n",
              "        vertical-align: middle;\n",
              "    }\n",
              "\n",
              "    .dataframe tbody tr th {\n",
              "        vertical-align: top;\n",
              "    }\n",
              "\n",
              "    .dataframe thead th {\n",
              "        text-align: right;\n",
              "    }\n",
              "</style>\n",
              "<table border=\"1\" class=\"dataframe\">\n",
              "  <thead>\n",
              "    <tr style=\"text-align: right;\">\n",
              "      <th></th>\n",
              "      <th>date</th>\n",
              "      <th>Usage_kWh</th>\n",
              "      <th>Lagging_Current_Reactive.Power_kVarh</th>\n",
              "      <th>Leading_Current_Reactive_Power_kVarh</th>\n",
              "      <th>CO2(tCO2)</th>\n",
              "      <th>Lagging_Current_Power_Factor</th>\n",
              "      <th>Leading_Current_Power_Factor</th>\n",
              "      <th>NSM</th>\n",
              "      <th>WeekStatus</th>\n",
              "      <th>Day_of_week</th>\n",
              "      <th>Load_Type</th>\n",
              "    </tr>\n",
              "  </thead>\n",
              "  <tbody>\n",
              "    <tr>\n",
              "      <th>0</th>\n",
              "      <td>01/01/2018 00:15</td>\n",
              "      <td>3.17</td>\n",
              "      <td>2.95</td>\n",
              "      <td>0.0</td>\n",
              "      <td>0.0</td>\n",
              "      <td>73.21</td>\n",
              "      <td>100.0</td>\n",
              "      <td>900</td>\n",
              "      <td>Weekday</td>\n",
              "      <td>Monday</td>\n",
              "      <td>Light_Load</td>\n",
              "    </tr>\n",
              "    <tr>\n",
              "      <th>1</th>\n",
              "      <td>01/01/2018 00:30</td>\n",
              "      <td>4.00</td>\n",
              "      <td>4.46</td>\n",
              "      <td>0.0</td>\n",
              "      <td>0.0</td>\n",
              "      <td>66.77</td>\n",
              "      <td>100.0</td>\n",
              "      <td>1800</td>\n",
              "      <td>Weekday</td>\n",
              "      <td>Monday</td>\n",
              "      <td>Light_Load</td>\n",
              "    </tr>\n",
              "    <tr>\n",
              "      <th>2</th>\n",
              "      <td>01/01/2018 00:45</td>\n",
              "      <td>3.24</td>\n",
              "      <td>3.28</td>\n",
              "      <td>0.0</td>\n",
              "      <td>0.0</td>\n",
              "      <td>70.28</td>\n",
              "      <td>100.0</td>\n",
              "      <td>2700</td>\n",
              "      <td>Weekday</td>\n",
              "      <td>Monday</td>\n",
              "      <td>Light_Load</td>\n",
              "    </tr>\n",
              "    <tr>\n",
              "      <th>3</th>\n",
              "      <td>01/01/2018 01:00</td>\n",
              "      <td>3.31</td>\n",
              "      <td>3.56</td>\n",
              "      <td>0.0</td>\n",
              "      <td>0.0</td>\n",
              "      <td>68.09</td>\n",
              "      <td>100.0</td>\n",
              "      <td>3600</td>\n",
              "      <td>Weekday</td>\n",
              "      <td>Monday</td>\n",
              "      <td>Light_Load</td>\n",
              "    </tr>\n",
              "    <tr>\n",
              "      <th>4</th>\n",
              "      <td>01/01/2018 01:15</td>\n",
              "      <td>3.82</td>\n",
              "      <td>4.50</td>\n",
              "      <td>0.0</td>\n",
              "      <td>0.0</td>\n",
              "      <td>64.72</td>\n",
              "      <td>100.0</td>\n",
              "      <td>4500</td>\n",
              "      <td>Weekday</td>\n",
              "      <td>Monday</td>\n",
              "      <td>Light_Load</td>\n",
              "    </tr>\n",
              "  </tbody>\n",
              "</table>\n",
              "</div>\n",
              "      <button class=\"colab-df-convert\" onclick=\"convertToInteractive('df-7b7e0df9-fb81-422c-aa27-b4ac89c43c45')\"\n",
              "              title=\"Convert this dataframe to an interactive table.\"\n",
              "              style=\"display:none;\">\n",
              "        \n",
              "  <svg xmlns=\"http://www.w3.org/2000/svg\" height=\"24px\"viewBox=\"0 0 24 24\"\n",
              "       width=\"24px\">\n",
              "    <path d=\"M0 0h24v24H0V0z\" fill=\"none\"/>\n",
              "    <path d=\"M18.56 5.44l.94 2.06.94-2.06 2.06-.94-2.06-.94-.94-2.06-.94 2.06-2.06.94zm-11 1L8.5 8.5l.94-2.06 2.06-.94-2.06-.94L8.5 2.5l-.94 2.06-2.06.94zm10 10l.94 2.06.94-2.06 2.06-.94-2.06-.94-.94-2.06-.94 2.06-2.06.94z\"/><path d=\"M17.41 7.96l-1.37-1.37c-.4-.4-.92-.59-1.43-.59-.52 0-1.04.2-1.43.59L10.3 9.45l-7.72 7.72c-.78.78-.78 2.05 0 2.83L4 21.41c.39.39.9.59 1.41.59.51 0 1.02-.2 1.41-.59l7.78-7.78 2.81-2.81c.8-.78.8-2.07 0-2.86zM5.41 20L4 18.59l7.72-7.72 1.47 1.35L5.41 20z\"/>\n",
              "  </svg>\n",
              "      </button>\n",
              "      \n",
              "  <style>\n",
              "    .colab-df-container {\n",
              "      display:flex;\n",
              "      flex-wrap:wrap;\n",
              "      gap: 12px;\n",
              "    }\n",
              "\n",
              "    .colab-df-convert {\n",
              "      background-color: #E8F0FE;\n",
              "      border: none;\n",
              "      border-radius: 50%;\n",
              "      cursor: pointer;\n",
              "      display: none;\n",
              "      fill: #1967D2;\n",
              "      height: 32px;\n",
              "      padding: 0 0 0 0;\n",
              "      width: 32px;\n",
              "    }\n",
              "\n",
              "    .colab-df-convert:hover {\n",
              "      background-color: #E2EBFA;\n",
              "      box-shadow: 0px 1px 2px rgba(60, 64, 67, 0.3), 0px 1px 3px 1px rgba(60, 64, 67, 0.15);\n",
              "      fill: #174EA6;\n",
              "    }\n",
              "\n",
              "    [theme=dark] .colab-df-convert {\n",
              "      background-color: #3B4455;\n",
              "      fill: #D2E3FC;\n",
              "    }\n",
              "\n",
              "    [theme=dark] .colab-df-convert:hover {\n",
              "      background-color: #434B5C;\n",
              "      box-shadow: 0px 1px 3px 1px rgba(0, 0, 0, 0.15);\n",
              "      filter: drop-shadow(0px 1px 2px rgba(0, 0, 0, 0.3));\n",
              "      fill: #FFFFFF;\n",
              "    }\n",
              "  </style>\n",
              "\n",
              "      <script>\n",
              "        const buttonEl =\n",
              "          document.querySelector('#df-7b7e0df9-fb81-422c-aa27-b4ac89c43c45 button.colab-df-convert');\n",
              "        buttonEl.style.display =\n",
              "          google.colab.kernel.accessAllowed ? 'block' : 'none';\n",
              "\n",
              "        async function convertToInteractive(key) {\n",
              "          const element = document.querySelector('#df-7b7e0df9-fb81-422c-aa27-b4ac89c43c45');\n",
              "          const dataTable =\n",
              "            await google.colab.kernel.invokeFunction('convertToInteractive',\n",
              "                                                     [key], {});\n",
              "          if (!dataTable) return;\n",
              "\n",
              "          const docLinkHtml = 'Like what you see? Visit the ' +\n",
              "            '<a target=\"_blank\" href=https://colab.research.google.com/notebooks/data_table.ipynb>data table notebook</a>'\n",
              "            + ' to learn more about interactive tables.';\n",
              "          element.innerHTML = '';\n",
              "          dataTable['output_type'] = 'display_data';\n",
              "          await google.colab.output.renderOutput(dataTable, element);\n",
              "          const docLink = document.createElement('div');\n",
              "          docLink.innerHTML = docLinkHtml;\n",
              "          element.appendChild(docLink);\n",
              "        }\n",
              "      </script>\n",
              "    </div>\n",
              "  </div>\n",
              "  "
            ]
          },
          "metadata": {},
          "execution_count": 467
        }
      ]
    },
    {
      "cell_type": "code",
      "source": [
        "#make columns consitent\n",
        "df.columns = df.columns.str.lower().str.replace(\" \",\"_\")\n",
        "string_columns = list(df.dtypes[df.dtypes == 'object'].index)\n",
        "\n",
        "for col in string_columns:\n",
        "  df[col] = df[col].str.lower().str.replace(\" \",\"_\")\n",
        "df.head()"
      ],
      "metadata": {
        "colab": {
          "base_uri": "https://localhost:8080/",
          "height": 270
        },
        "id": "0VJs54sEgpyG",
        "outputId": "3c20f991-e890-46df-f98c-76f6d077c40d"
      },
      "execution_count": null,
      "outputs": [
        {
          "output_type": "execute_result",
          "data": {
            "text/plain": [
              "               date  usage_kwh  lagging_current_reactive.power_kvarh  \\\n",
              "0  01/01/2018_00:15       3.17                                  2.95   \n",
              "1  01/01/2018_00:30       4.00                                  4.46   \n",
              "2  01/01/2018_00:45       3.24                                  3.28   \n",
              "3  01/01/2018_01:00       3.31                                  3.56   \n",
              "4  01/01/2018_01:15       3.82                                  4.50   \n",
              "\n",
              "   leading_current_reactive_power_kvarh  co2(tco2)  \\\n",
              "0                                   0.0        0.0   \n",
              "1                                   0.0        0.0   \n",
              "2                                   0.0        0.0   \n",
              "3                                   0.0        0.0   \n",
              "4                                   0.0        0.0   \n",
              "\n",
              "   lagging_current_power_factor  leading_current_power_factor   nsm  \\\n",
              "0                         73.21                         100.0   900   \n",
              "1                         66.77                         100.0  1800   \n",
              "2                         70.28                         100.0  2700   \n",
              "3                         68.09                         100.0  3600   \n",
              "4                         64.72                         100.0  4500   \n",
              "\n",
              "  weekstatus day_of_week   load_type  \n",
              "0    weekday      monday  light_load  \n",
              "1    weekday      monday  light_load  \n",
              "2    weekday      monday  light_load  \n",
              "3    weekday      monday  light_load  \n",
              "4    weekday      monday  light_load  "
            ],
            "text/html": [
              "\n",
              "  <div id=\"df-ac36ae07-4dab-403d-938f-ef0778159876\">\n",
              "    <div class=\"colab-df-container\">\n",
              "      <div>\n",
              "<style scoped>\n",
              "    .dataframe tbody tr th:only-of-type {\n",
              "        vertical-align: middle;\n",
              "    }\n",
              "\n",
              "    .dataframe tbody tr th {\n",
              "        vertical-align: top;\n",
              "    }\n",
              "\n",
              "    .dataframe thead th {\n",
              "        text-align: right;\n",
              "    }\n",
              "</style>\n",
              "<table border=\"1\" class=\"dataframe\">\n",
              "  <thead>\n",
              "    <tr style=\"text-align: right;\">\n",
              "      <th></th>\n",
              "      <th>date</th>\n",
              "      <th>usage_kwh</th>\n",
              "      <th>lagging_current_reactive.power_kvarh</th>\n",
              "      <th>leading_current_reactive_power_kvarh</th>\n",
              "      <th>co2(tco2)</th>\n",
              "      <th>lagging_current_power_factor</th>\n",
              "      <th>leading_current_power_factor</th>\n",
              "      <th>nsm</th>\n",
              "      <th>weekstatus</th>\n",
              "      <th>day_of_week</th>\n",
              "      <th>load_type</th>\n",
              "    </tr>\n",
              "  </thead>\n",
              "  <tbody>\n",
              "    <tr>\n",
              "      <th>0</th>\n",
              "      <td>01/01/2018_00:15</td>\n",
              "      <td>3.17</td>\n",
              "      <td>2.95</td>\n",
              "      <td>0.0</td>\n",
              "      <td>0.0</td>\n",
              "      <td>73.21</td>\n",
              "      <td>100.0</td>\n",
              "      <td>900</td>\n",
              "      <td>weekday</td>\n",
              "      <td>monday</td>\n",
              "      <td>light_load</td>\n",
              "    </tr>\n",
              "    <tr>\n",
              "      <th>1</th>\n",
              "      <td>01/01/2018_00:30</td>\n",
              "      <td>4.00</td>\n",
              "      <td>4.46</td>\n",
              "      <td>0.0</td>\n",
              "      <td>0.0</td>\n",
              "      <td>66.77</td>\n",
              "      <td>100.0</td>\n",
              "      <td>1800</td>\n",
              "      <td>weekday</td>\n",
              "      <td>monday</td>\n",
              "      <td>light_load</td>\n",
              "    </tr>\n",
              "    <tr>\n",
              "      <th>2</th>\n",
              "      <td>01/01/2018_00:45</td>\n",
              "      <td>3.24</td>\n",
              "      <td>3.28</td>\n",
              "      <td>0.0</td>\n",
              "      <td>0.0</td>\n",
              "      <td>70.28</td>\n",
              "      <td>100.0</td>\n",
              "      <td>2700</td>\n",
              "      <td>weekday</td>\n",
              "      <td>monday</td>\n",
              "      <td>light_load</td>\n",
              "    </tr>\n",
              "    <tr>\n",
              "      <th>3</th>\n",
              "      <td>01/01/2018_01:00</td>\n",
              "      <td>3.31</td>\n",
              "      <td>3.56</td>\n",
              "      <td>0.0</td>\n",
              "      <td>0.0</td>\n",
              "      <td>68.09</td>\n",
              "      <td>100.0</td>\n",
              "      <td>3600</td>\n",
              "      <td>weekday</td>\n",
              "      <td>monday</td>\n",
              "      <td>light_load</td>\n",
              "    </tr>\n",
              "    <tr>\n",
              "      <th>4</th>\n",
              "      <td>01/01/2018_01:15</td>\n",
              "      <td>3.82</td>\n",
              "      <td>4.50</td>\n",
              "      <td>0.0</td>\n",
              "      <td>0.0</td>\n",
              "      <td>64.72</td>\n",
              "      <td>100.0</td>\n",
              "      <td>4500</td>\n",
              "      <td>weekday</td>\n",
              "      <td>monday</td>\n",
              "      <td>light_load</td>\n",
              "    </tr>\n",
              "  </tbody>\n",
              "</table>\n",
              "</div>\n",
              "      <button class=\"colab-df-convert\" onclick=\"convertToInteractive('df-ac36ae07-4dab-403d-938f-ef0778159876')\"\n",
              "              title=\"Convert this dataframe to an interactive table.\"\n",
              "              style=\"display:none;\">\n",
              "        \n",
              "  <svg xmlns=\"http://www.w3.org/2000/svg\" height=\"24px\"viewBox=\"0 0 24 24\"\n",
              "       width=\"24px\">\n",
              "    <path d=\"M0 0h24v24H0V0z\" fill=\"none\"/>\n",
              "    <path d=\"M18.56 5.44l.94 2.06.94-2.06 2.06-.94-2.06-.94-.94-2.06-.94 2.06-2.06.94zm-11 1L8.5 8.5l.94-2.06 2.06-.94-2.06-.94L8.5 2.5l-.94 2.06-2.06.94zm10 10l.94 2.06.94-2.06 2.06-.94-2.06-.94-.94-2.06-.94 2.06-2.06.94z\"/><path d=\"M17.41 7.96l-1.37-1.37c-.4-.4-.92-.59-1.43-.59-.52 0-1.04.2-1.43.59L10.3 9.45l-7.72 7.72c-.78.78-.78 2.05 0 2.83L4 21.41c.39.39.9.59 1.41.59.51 0 1.02-.2 1.41-.59l7.78-7.78 2.81-2.81c.8-.78.8-2.07 0-2.86zM5.41 20L4 18.59l7.72-7.72 1.47 1.35L5.41 20z\"/>\n",
              "  </svg>\n",
              "      </button>\n",
              "      \n",
              "  <style>\n",
              "    .colab-df-container {\n",
              "      display:flex;\n",
              "      flex-wrap:wrap;\n",
              "      gap: 12px;\n",
              "    }\n",
              "\n",
              "    .colab-df-convert {\n",
              "      background-color: #E8F0FE;\n",
              "      border: none;\n",
              "      border-radius: 50%;\n",
              "      cursor: pointer;\n",
              "      display: none;\n",
              "      fill: #1967D2;\n",
              "      height: 32px;\n",
              "      padding: 0 0 0 0;\n",
              "      width: 32px;\n",
              "    }\n",
              "\n",
              "    .colab-df-convert:hover {\n",
              "      background-color: #E2EBFA;\n",
              "      box-shadow: 0px 1px 2px rgba(60, 64, 67, 0.3), 0px 1px 3px 1px rgba(60, 64, 67, 0.15);\n",
              "      fill: #174EA6;\n",
              "    }\n",
              "\n",
              "    [theme=dark] .colab-df-convert {\n",
              "      background-color: #3B4455;\n",
              "      fill: #D2E3FC;\n",
              "    }\n",
              "\n",
              "    [theme=dark] .colab-df-convert:hover {\n",
              "      background-color: #434B5C;\n",
              "      box-shadow: 0px 1px 3px 1px rgba(0, 0, 0, 0.15);\n",
              "      filter: drop-shadow(0px 1px 2px rgba(0, 0, 0, 0.3));\n",
              "      fill: #FFFFFF;\n",
              "    }\n",
              "  </style>\n",
              "\n",
              "      <script>\n",
              "        const buttonEl =\n",
              "          document.querySelector('#df-ac36ae07-4dab-403d-938f-ef0778159876 button.colab-df-convert');\n",
              "        buttonEl.style.display =\n",
              "          google.colab.kernel.accessAllowed ? 'block' : 'none';\n",
              "\n",
              "        async function convertToInteractive(key) {\n",
              "          const element = document.querySelector('#df-ac36ae07-4dab-403d-938f-ef0778159876');\n",
              "          const dataTable =\n",
              "            await google.colab.kernel.invokeFunction('convertToInteractive',\n",
              "                                                     [key], {});\n",
              "          if (!dataTable) return;\n",
              "\n",
              "          const docLinkHtml = 'Like what you see? Visit the ' +\n",
              "            '<a target=\"_blank\" href=https://colab.research.google.com/notebooks/data_table.ipynb>data table notebook</a>'\n",
              "            + ' to learn more about interactive tables.';\n",
              "          element.innerHTML = '';\n",
              "          dataTable['output_type'] = 'display_data';\n",
              "          await google.colab.output.renderOutput(dataTable, element);\n",
              "          const docLink = document.createElement('div');\n",
              "          docLink.innerHTML = docLinkHtml;\n",
              "          element.appendChild(docLink);\n",
              "        }\n",
              "      </script>\n",
              "    </div>\n",
              "  </div>\n",
              "  "
            ]
          },
          "metadata": {},
          "execution_count": 468
        }
      ]
    },
    {
      "cell_type": "code",
      "source": [
        "#now check the dtypes of columns\n",
        "df.dtypes"
      ],
      "metadata": {
        "colab": {
          "base_uri": "https://localhost:8080/"
        },
        "id": "RN19DWPbhUCR",
        "outputId": "d5d6067b-049b-405e-ccd8-5c33fedcb2fe"
      },
      "execution_count": null,
      "outputs": [
        {
          "output_type": "execute_result",
          "data": {
            "text/plain": [
              "date                                     object\n",
              "usage_kwh                               float64\n",
              "lagging_current_reactive.power_kvarh    float64\n",
              "leading_current_reactive_power_kvarh    float64\n",
              "co2(tco2)                               float64\n",
              "lagging_current_power_factor            float64\n",
              "leading_current_power_factor            float64\n",
              "nsm                                       int64\n",
              "weekstatus                               object\n",
              "day_of_week                              object\n",
              "load_type                                object\n",
              "dtype: object"
            ]
          },
          "metadata": {},
          "execution_count": 469
        }
      ]
    },
    {
      "cell_type": "code",
      "source": [
        "#let us delete date column as its of no use to us\n",
        "del(df['date'])"
      ],
      "metadata": {
        "id": "IisEBRkvh2rL"
      },
      "execution_count": null,
      "outputs": []
    },
    {
      "cell_type": "code",
      "source": [
        "#we can also see a summary of our dataset \n",
        "df.describe()"
      ],
      "metadata": {
        "colab": {
          "base_uri": "https://localhost:8080/",
          "height": 364
        },
        "id": "_eyaLjeqS-LP",
        "outputId": "698a83b4-5ffb-498c-aedb-87ff93d5d3cc"
      },
      "execution_count": null,
      "outputs": [
        {
          "output_type": "execute_result",
          "data": {
            "text/plain": [
              "          usage_kwh  lagging_current_reactive.power_kvarh  \\\n",
              "count  35040.000000                          35040.000000   \n",
              "mean      27.386892                             13.035384   \n",
              "std       33.444380                             16.306000   \n",
              "min        0.000000                              0.000000   \n",
              "25%        3.200000                              2.300000   \n",
              "50%        4.570000                              5.000000   \n",
              "75%       51.237500                             22.640000   \n",
              "max      157.180000                             96.910000   \n",
              "\n",
              "       leading_current_reactive_power_kvarh     co2(tco2)  \\\n",
              "count                          35040.000000  35040.000000   \n",
              "mean                               3.870949      0.011524   \n",
              "std                                7.424463      0.016151   \n",
              "min                                0.000000      0.000000   \n",
              "25%                                0.000000      0.000000   \n",
              "50%                                0.000000      0.000000   \n",
              "75%                                2.090000      0.020000   \n",
              "max                               27.760000      0.070000   \n",
              "\n",
              "       lagging_current_power_factor  leading_current_power_factor  \\\n",
              "count                  35040.000000                  35040.000000   \n",
              "mean                      80.578056                     84.367870   \n",
              "std                       18.921322                     30.456535   \n",
              "min                        0.000000                      0.000000   \n",
              "25%                       63.320000                     99.700000   \n",
              "50%                       87.960000                    100.000000   \n",
              "75%                       99.022500                    100.000000   \n",
              "max                      100.000000                    100.000000   \n",
              "\n",
              "                nsm  \n",
              "count  35040.000000  \n",
              "mean   42750.000000  \n",
              "std    24940.534317  \n",
              "min        0.000000  \n",
              "25%    21375.000000  \n",
              "50%    42750.000000  \n",
              "75%    64125.000000  \n",
              "max    85500.000000  "
            ],
            "text/html": [
              "\n",
              "  <div id=\"df-0c079e7f-a29c-4162-8e5b-d47bafa39bc5\">\n",
              "    <div class=\"colab-df-container\">\n",
              "      <div>\n",
              "<style scoped>\n",
              "    .dataframe tbody tr th:only-of-type {\n",
              "        vertical-align: middle;\n",
              "    }\n",
              "\n",
              "    .dataframe tbody tr th {\n",
              "        vertical-align: top;\n",
              "    }\n",
              "\n",
              "    .dataframe thead th {\n",
              "        text-align: right;\n",
              "    }\n",
              "</style>\n",
              "<table border=\"1\" class=\"dataframe\">\n",
              "  <thead>\n",
              "    <tr style=\"text-align: right;\">\n",
              "      <th></th>\n",
              "      <th>usage_kwh</th>\n",
              "      <th>lagging_current_reactive.power_kvarh</th>\n",
              "      <th>leading_current_reactive_power_kvarh</th>\n",
              "      <th>co2(tco2)</th>\n",
              "      <th>lagging_current_power_factor</th>\n",
              "      <th>leading_current_power_factor</th>\n",
              "      <th>nsm</th>\n",
              "    </tr>\n",
              "  </thead>\n",
              "  <tbody>\n",
              "    <tr>\n",
              "      <th>count</th>\n",
              "      <td>35040.000000</td>\n",
              "      <td>35040.000000</td>\n",
              "      <td>35040.000000</td>\n",
              "      <td>35040.000000</td>\n",
              "      <td>35040.000000</td>\n",
              "      <td>35040.000000</td>\n",
              "      <td>35040.000000</td>\n",
              "    </tr>\n",
              "    <tr>\n",
              "      <th>mean</th>\n",
              "      <td>27.386892</td>\n",
              "      <td>13.035384</td>\n",
              "      <td>3.870949</td>\n",
              "      <td>0.011524</td>\n",
              "      <td>80.578056</td>\n",
              "      <td>84.367870</td>\n",
              "      <td>42750.000000</td>\n",
              "    </tr>\n",
              "    <tr>\n",
              "      <th>std</th>\n",
              "      <td>33.444380</td>\n",
              "      <td>16.306000</td>\n",
              "      <td>7.424463</td>\n",
              "      <td>0.016151</td>\n",
              "      <td>18.921322</td>\n",
              "      <td>30.456535</td>\n",
              "      <td>24940.534317</td>\n",
              "    </tr>\n",
              "    <tr>\n",
              "      <th>min</th>\n",
              "      <td>0.000000</td>\n",
              "      <td>0.000000</td>\n",
              "      <td>0.000000</td>\n",
              "      <td>0.000000</td>\n",
              "      <td>0.000000</td>\n",
              "      <td>0.000000</td>\n",
              "      <td>0.000000</td>\n",
              "    </tr>\n",
              "    <tr>\n",
              "      <th>25%</th>\n",
              "      <td>3.200000</td>\n",
              "      <td>2.300000</td>\n",
              "      <td>0.000000</td>\n",
              "      <td>0.000000</td>\n",
              "      <td>63.320000</td>\n",
              "      <td>99.700000</td>\n",
              "      <td>21375.000000</td>\n",
              "    </tr>\n",
              "    <tr>\n",
              "      <th>50%</th>\n",
              "      <td>4.570000</td>\n",
              "      <td>5.000000</td>\n",
              "      <td>0.000000</td>\n",
              "      <td>0.000000</td>\n",
              "      <td>87.960000</td>\n",
              "      <td>100.000000</td>\n",
              "      <td>42750.000000</td>\n",
              "    </tr>\n",
              "    <tr>\n",
              "      <th>75%</th>\n",
              "      <td>51.237500</td>\n",
              "      <td>22.640000</td>\n",
              "      <td>2.090000</td>\n",
              "      <td>0.020000</td>\n",
              "      <td>99.022500</td>\n",
              "      <td>100.000000</td>\n",
              "      <td>64125.000000</td>\n",
              "    </tr>\n",
              "    <tr>\n",
              "      <th>max</th>\n",
              "      <td>157.180000</td>\n",
              "      <td>96.910000</td>\n",
              "      <td>27.760000</td>\n",
              "      <td>0.070000</td>\n",
              "      <td>100.000000</td>\n",
              "      <td>100.000000</td>\n",
              "      <td>85500.000000</td>\n",
              "    </tr>\n",
              "  </tbody>\n",
              "</table>\n",
              "</div>\n",
              "      <button class=\"colab-df-convert\" onclick=\"convertToInteractive('df-0c079e7f-a29c-4162-8e5b-d47bafa39bc5')\"\n",
              "              title=\"Convert this dataframe to an interactive table.\"\n",
              "              style=\"display:none;\">\n",
              "        \n",
              "  <svg xmlns=\"http://www.w3.org/2000/svg\" height=\"24px\"viewBox=\"0 0 24 24\"\n",
              "       width=\"24px\">\n",
              "    <path d=\"M0 0h24v24H0V0z\" fill=\"none\"/>\n",
              "    <path d=\"M18.56 5.44l.94 2.06.94-2.06 2.06-.94-2.06-.94-.94-2.06-.94 2.06-2.06.94zm-11 1L8.5 8.5l.94-2.06 2.06-.94-2.06-.94L8.5 2.5l-.94 2.06-2.06.94zm10 10l.94 2.06.94-2.06 2.06-.94-2.06-.94-.94-2.06-.94 2.06-2.06.94z\"/><path d=\"M17.41 7.96l-1.37-1.37c-.4-.4-.92-.59-1.43-.59-.52 0-1.04.2-1.43.59L10.3 9.45l-7.72 7.72c-.78.78-.78 2.05 0 2.83L4 21.41c.39.39.9.59 1.41.59.51 0 1.02-.2 1.41-.59l7.78-7.78 2.81-2.81c.8-.78.8-2.07 0-2.86zM5.41 20L4 18.59l7.72-7.72 1.47 1.35L5.41 20z\"/>\n",
              "  </svg>\n",
              "      </button>\n",
              "      \n",
              "  <style>\n",
              "    .colab-df-container {\n",
              "      display:flex;\n",
              "      flex-wrap:wrap;\n",
              "      gap: 12px;\n",
              "    }\n",
              "\n",
              "    .colab-df-convert {\n",
              "      background-color: #E8F0FE;\n",
              "      border: none;\n",
              "      border-radius: 50%;\n",
              "      cursor: pointer;\n",
              "      display: none;\n",
              "      fill: #1967D2;\n",
              "      height: 32px;\n",
              "      padding: 0 0 0 0;\n",
              "      width: 32px;\n",
              "    }\n",
              "\n",
              "    .colab-df-convert:hover {\n",
              "      background-color: #E2EBFA;\n",
              "      box-shadow: 0px 1px 2px rgba(60, 64, 67, 0.3), 0px 1px 3px 1px rgba(60, 64, 67, 0.15);\n",
              "      fill: #174EA6;\n",
              "    }\n",
              "\n",
              "    [theme=dark] .colab-df-convert {\n",
              "      background-color: #3B4455;\n",
              "      fill: #D2E3FC;\n",
              "    }\n",
              "\n",
              "    [theme=dark] .colab-df-convert:hover {\n",
              "      background-color: #434B5C;\n",
              "      box-shadow: 0px 1px 3px 1px rgba(0, 0, 0, 0.15);\n",
              "      filter: drop-shadow(0px 1px 2px rgba(0, 0, 0, 0.3));\n",
              "      fill: #FFFFFF;\n",
              "    }\n",
              "  </style>\n",
              "\n",
              "      <script>\n",
              "        const buttonEl =\n",
              "          document.querySelector('#df-0c079e7f-a29c-4162-8e5b-d47bafa39bc5 button.colab-df-convert');\n",
              "        buttonEl.style.display =\n",
              "          google.colab.kernel.accessAllowed ? 'block' : 'none';\n",
              "\n",
              "        async function convertToInteractive(key) {\n",
              "          const element = document.querySelector('#df-0c079e7f-a29c-4162-8e5b-d47bafa39bc5');\n",
              "          const dataTable =\n",
              "            await google.colab.kernel.invokeFunction('convertToInteractive',\n",
              "                                                     [key], {});\n",
              "          if (!dataTable) return;\n",
              "\n",
              "          const docLinkHtml = 'Like what you see? Visit the ' +\n",
              "            '<a target=\"_blank\" href=https://colab.research.google.com/notebooks/data_table.ipynb>data table notebook</a>'\n",
              "            + ' to learn more about interactive tables.';\n",
              "          element.innerHTML = '';\n",
              "          dataTable['output_type'] = 'display_data';\n",
              "          await google.colab.output.renderOutput(dataTable, element);\n",
              "          const docLink = document.createElement('div');\n",
              "          docLink.innerHTML = docLinkHtml;\n",
              "          element.appendChild(docLink);\n",
              "        }\n",
              "      </script>\n",
              "    </div>\n",
              "  </div>\n",
              "  "
            ]
          },
          "metadata": {},
          "execution_count": 471
        }
      ]
    },
    {
      "cell_type": "code",
      "source": [
        "# we need to check if our dataset has any null value\n",
        "df.isnull().sum()"
      ],
      "metadata": {
        "colab": {
          "base_uri": "https://localhost:8080/"
        },
        "id": "SlS5F6fYTNr_",
        "outputId": "4997e116-cbdb-4dc7-d3cd-d42ded0a216c"
      },
      "execution_count": null,
      "outputs": [
        {
          "output_type": "execute_result",
          "data": {
            "text/plain": [
              "usage_kwh                               0\n",
              "lagging_current_reactive.power_kvarh    0\n",
              "leading_current_reactive_power_kvarh    0\n",
              "co2(tco2)                               0\n",
              "lagging_current_power_factor            0\n",
              "leading_current_power_factor            0\n",
              "nsm                                     0\n",
              "weekstatus                              0\n",
              "day_of_week                             0\n",
              "load_type                               0\n",
              "dtype: int64"
            ]
          },
          "metadata": {},
          "execution_count": 472
        }
      ]
    },
    {
      "cell_type": "code",
      "source": [
        "#our dataset has no null value"
      ],
      "metadata": {
        "id": "QQbVl2qfTUjn"
      },
      "execution_count": null,
      "outputs": []
    },
    {
      "cell_type": "code",
      "source": [
        "#now let us look at target variable\n",
        "df['load_type'].unique()\n",
        "#we can see that our target variable has three values"
      ],
      "metadata": {
        "id": "Mv7xpEeB3ce9",
        "colab": {
          "base_uri": "https://localhost:8080/"
        },
        "outputId": "8d410f1e-9987-4797-deaf-cdd94a3070ce"
      },
      "execution_count": null,
      "outputs": [
        {
          "output_type": "execute_result",
          "data": {
            "text/plain": [
              "array(['light_load', 'medium_load', 'maximum_load'], dtype=object)"
            ]
          },
          "metadata": {},
          "execution_count": 474
        }
      ]
    },
    {
      "cell_type": "code",
      "source": [
        "df['load_type'].value_counts()"
      ],
      "metadata": {
        "colab": {
          "base_uri": "https://localhost:8080/"
        },
        "id": "dacTVRwNS0AZ",
        "outputId": "43df9824-606d-45a6-f620-f9f40c90d357"
      },
      "execution_count": null,
      "outputs": [
        {
          "output_type": "execute_result",
          "data": {
            "text/plain": [
              "light_load      18072\n",
              "medium_load      9696\n",
              "maximum_load     7272\n",
              "Name: load_type, dtype: int64"
            ]
          },
          "metadata": {},
          "execution_count": 475
        }
      ]
    },
    {
      "cell_type": "markdown",
      "source": [
        "##Dataset Preparation"
      ],
      "metadata": {
        "id": "Pvi5yKFdUarK"
      }
    },
    {
      "cell_type": "code",
      "source": [
        "[df.columns]"
      ],
      "metadata": {
        "colab": {
          "base_uri": "https://localhost:8080/"
        },
        "id": "nyCAyN_nkgu9",
        "outputId": "a84616a8-ef9c-48dc-93bc-6fe3f54cc6c7"
      },
      "execution_count": null,
      "outputs": [
        {
          "output_type": "execute_result",
          "data": {
            "text/plain": [
              "[Index(['usage_kwh', 'lagging_current_reactive.power_kvarh',\n",
              "        'leading_current_reactive_power_kvarh', 'co2(tco2)',\n",
              "        'lagging_current_power_factor', 'leading_current_power_factor', 'nsm',\n",
              "        'weekstatus', 'day_of_week', 'load_type'],\n",
              "       dtype='object')]"
            ]
          },
          "metadata": {},
          "execution_count": 476
        }
      ]
    },
    {
      "cell_type": "code",
      "source": [
        "#now we will split our dataset into test train and validation sets\n",
        "df_train_full, df_test = train_test_split(df , test_size = 0.2 , random_state = 2)\n",
        "df_train , df_val = train_test_split(df_train_full , test_size= 0.25 , random_state = 2)\n"
      ],
      "metadata": {
        "id": "NBBXmOfxTrD5"
      },
      "execution_count": null,
      "outputs": []
    },
    {
      "cell_type": "code",
      "source": [
        "print((len(df_train) , len(df_val) , len(df_test)))"
      ],
      "metadata": {
        "colab": {
          "base_uri": "https://localhost:8080/"
        },
        "id": "yGEUlofhleHl",
        "outputId": "1dcc25f9-9ed0-467b-8f0c-3ad17998107b"
      },
      "execution_count": null,
      "outputs": [
        {
          "output_type": "stream",
          "name": "stdout",
          "text": [
            "(21024, 7008, 7008)\n"
          ]
        }
      ]
    },
    {
      "cell_type": "code",
      "source": [
        "y_train = df_train.load_type.values\n",
        "y_val = df_val.load_type.values\n",
        "\n",
        "del(df_train[\"load_type\"])\n",
        "del[df_val['load_type']]"
      ],
      "metadata": {
        "id": "hPq_yYpGmSFN"
      },
      "execution_count": null,
      "outputs": []
    },
    {
      "cell_type": "code",
      "source": [
        "#now we will do one hot encoding to our categorical variables\n",
        "train_dict  = df_train.to_dict(\"records\")\n",
        "val_dict = df_val.to_dict(\"records\")\n",
        "train_dict[0]"
      ],
      "metadata": {
        "colab": {
          "base_uri": "https://localhost:8080/"
        },
        "id": "UEC5Weccm0L4",
        "outputId": "35d79ff4-fc2c-40f0-b4ae-e19c814b8fbe"
      },
      "execution_count": null,
      "outputs": [
        {
          "output_type": "execute_result",
          "data": {
            "text/plain": [
              "{'co2(tco2)': 0.04,\n",
              " 'day_of_week': 'tuesday',\n",
              " 'lagging_current_power_factor': 90.9,\n",
              " 'lagging_current_reactive.power_kvarh': 43.7,\n",
              " 'leading_current_power_factor': 100.0,\n",
              " 'leading_current_reactive_power_kvarh': 0.0,\n",
              " 'nsm': 67500,\n",
              " 'usage_kwh': 95.29,\n",
              " 'weekstatus': 'weekday'}"
            ]
          },
          "metadata": {},
          "execution_count": 480
        }
      ]
    },
    {
      "cell_type": "code",
      "source": [
        "#now we can use this list of dictionaries to use in DictVectorizer\n",
        "dv = DictVectorizer(sparse = False)\n",
        "X_train = dv.fit_transform(train_dict)\n",
        "X_val = dv.transform(val_dict)"
      ],
      "metadata": {
        "id": "JvtGJFZ1m6ca"
      },
      "execution_count": null,
      "outputs": []
    },
    {
      "cell_type": "code",
      "source": [
        "dv.get_feature_names_out()"
      ],
      "metadata": {
        "colab": {
          "base_uri": "https://localhost:8080/"
        },
        "id": "U2XpUZF4n79g",
        "outputId": "0b68777c-2730-484e-cca6-c636451b2939"
      },
      "execution_count": null,
      "outputs": [
        {
          "output_type": "execute_result",
          "data": {
            "text/plain": [
              "array(['co2(tco2)', 'day_of_week=friday', 'day_of_week=monday',\n",
              "       'day_of_week=saturday', 'day_of_week=sunday',\n",
              "       'day_of_week=thursday', 'day_of_week=tuesday',\n",
              "       'day_of_week=wednesday', 'lagging_current_power_factor',\n",
              "       'lagging_current_reactive.power_kvarh',\n",
              "       'leading_current_power_factor',\n",
              "       'leading_current_reactive_power_kvarh', 'nsm', 'usage_kwh',\n",
              "       'weekstatus=weekday', 'weekstatus=weekend'], dtype=object)"
            ]
          },
          "metadata": {},
          "execution_count": 482
        }
      ]
    },
    {
      "cell_type": "code",
      "source": [
        "#now we will use three different models that is logistic regression , random forest and ExtraTreesClassifier"
      ],
      "metadata": {
        "id": "mR2JJ81Rn9tP"
      },
      "execution_count": null,
      "outputs": []
    },
    {
      "cell_type": "markdown",
      "source": [
        "##Logistic Regression"
      ],
      "metadata": {
        "id": "Gc8sQikdoYlY"
      }
    },
    {
      "cell_type": "code",
      "source": [
        "lr = LogisticRegression(solver = 'liblinear',random_state = 2)\n",
        "lr.fit(X_train , y_train)\n",
        "y_pred = lr.predict_proba(X_val)\n"
      ],
      "metadata": {
        "id": "g13K-C6kobMS"
      },
      "execution_count": null,
      "outputs": []
    },
    {
      "cell_type": "code",
      "source": [
        "roc_auc_score(y_val,y_pred , multi_class = 'ovr')"
      ],
      "metadata": {
        "colab": {
          "base_uri": "https://localhost:8080/"
        },
        "id": "18WW0EJ2pP3K",
        "outputId": "a152c9c2-96f4-4b6e-fac9-09f5b739acd7"
      },
      "execution_count": null,
      "outputs": [
        {
          "output_type": "execute_result",
          "data": {
            "text/plain": [
              "0.8860570964476172"
            ]
          },
          "metadata": {},
          "execution_count": 485
        }
      ]
    },
    {
      "cell_type": "code",
      "source": [
        "#let us see if we can further improve our auc score\n",
        "aucs = []\n",
        "aucs_train = []\n",
        "for c in [0.001 , 0.01 , 0.1 , 1 , 5 ,10]:\n",
        "  lr = LogisticRegression(solver = 'liblinear',random_state = 2, C=c)\n",
        "  lr.fit(X_train , y_train)\n",
        "  y_pred = lr.predict_proba(X_val)\n",
        "  y_pred_train = lr.predict_proba(X_train)\n",
        "  auc = roc_auc_score(y_val,y_pred , multi_class = 'ovr')\n",
        "  auc_train = roc_auc_score(y_train,y_pred_train , multi_class = 'ovr')  \n",
        "  aucs.append(auc)\n",
        "  aucs_train.append(auc_train)\n",
        "plt.plot([0.001 , 0.01 , 0.1 , 1 , 5 ,10] , aucs, label = \"Validation AUC\")\n",
        "plt.plot([0.001 , 0.01 , 0.1 , 1 , 5 ,10] , aucs_train , label = \"Train AUC\")\n",
        "plt.xlabel(\"Value of C\")\n",
        "plt.ylabel(\"AUC\")\n",
        "plt.title(\"C vs AUC\")\n",
        "plt.legend()"
      ],
      "metadata": {
        "colab": {
          "base_uri": "https://localhost:8080/",
          "height": 312
        },
        "id": "GSfyhZ3GH9Vn",
        "outputId": "0c5d9c13-eda3-4fe0-e7a3-173ee8c291f1"
      },
      "execution_count": null,
      "outputs": [
        {
          "output_type": "execute_result",
          "data": {
            "text/plain": [
              "<matplotlib.legend.Legend at 0x7fe348fa4390>"
            ]
          },
          "metadata": {},
          "execution_count": 486
        },
        {
          "output_type": "display_data",
          "data": {
            "text/plain": [
              "<Figure size 432x288 with 1 Axes>"
            ],
            "image/png": "[encoded data removed]"
          },
          "metadata": {
            "needs_background": "light"
          }
        }
      ]
    },
    {
      "cell_type": "code",
      "source": [
        "#as we can see that best auc is acheivable when value of C is 5 but its not much different than our default value t\n",
        "#that is 88.6% so we go with default parameter value\n",
        "\n",
        "lr = LogisticRegression(solver = \"liblinear\" , random_state = 2, C=5)\n",
        "lr.fit(X_train , y_train)\n",
        "y_pred = lr.predict(X_val)\n",
        "cm = confusion_matrix(y_val , y_pred)"
      ],
      "metadata": {
        "id": "6jB7V7-NKHpt"
      },
      "execution_count": null,
      "outputs": []
    },
    {
      "cell_type": "code",
      "source": [
        "sns.heatmap(cm ,annot=True)\n",
        "plt.xlabel(\"Prediction\")\n",
        "plt.ylabel(\"Truth\")"
      ],
      "metadata": {
        "colab": {
          "base_uri": "https://localhost:8080/",
          "height": 296
        },
        "id": "a4gERF7TeXpk",
        "outputId": "816ffc35-6eb4-4282-b12a-bfbb81e66039"
      },
      "execution_count": null,
      "outputs": [
        {
          "output_type": "execute_result",
          "data": {
            "text/plain": [
              "Text(33.0, 0.5, 'Truth')"
            ]
          },
          "metadata": {},
          "execution_count": 488
        },
        {
          "output_type": "display_data",
          "data": {
            "text/plain": [
              "<Figure size 432x288 with 2 Axes>"
            ],
            "image/png": "[encoded data removed]"
          },
          "metadata": {
            "needs_background": "light"
          }
        }
      ]
    },
    {
      "cell_type": "code",
      "source": [
        "def percent_cm(cm):\n",
        "  return np.array([cm[0]/cm[0].sum(),\n",
        "  cm[1]/cm[1].sum(),\n",
        "  cm[2]/cm[2].sum()])\n",
        "\n",
        "sns.heatmap(percent_cm(cm) , annot=True)\n",
        "plt.xlabel(\"Prediction\")\n",
        "plt.ylabel(\"Truth\")"
      ],
      "metadata": {
        "colab": {
          "base_uri": "https://localhost:8080/",
          "height": 296
        },
        "id": "28Lo6YdNhI8p",
        "outputId": "8c24e64e-c2d7-4c53-b2b5-66c28f12ccde"
      },
      "execution_count": null,
      "outputs": [
        {
          "output_type": "execute_result",
          "data": {
            "text/plain": [
              "Text(33.0, 0.5, 'Truth')"
            ]
          },
          "metadata": {},
          "execution_count": 489
        },
        {
          "output_type": "display_data",
          "data": {
            "text/plain": [
              "<Figure size 432x288 with 2 Axes>"
            ],
            "image/png": "[encoded data removed]"
          },
          "metadata": {
            "needs_background": "light"
          }
        }
      ]
    },
    {
      "cell_type": "code",
      "source": [
        "#we can see that our model has done pretty good job in predicting the class 0 , 88% of the values of class light_load  \n",
        "#are predicted correctly , but it has not done very well in predicting other classes as almost 20% of values of \n",
        "#medium_load and almost 44% of maximum_load class are predicted wrong."
      ],
      "metadata": {
        "id": "bSGHGNF8fPoo"
      },
      "execution_count": null,
      "outputs": []
    },
    {
      "cell_type": "markdown",
      "source": [
        "##Random Forest Classifier"
      ],
      "metadata": {
        "id": "aEJikrSTK3Nd"
      }
    },
    {
      "cell_type": "code",
      "source": [
        "rf = RandomForestClassifier()\n",
        "rf.fit(X_train , y_train)\n",
        "y_pred = rf.predict_proba(X_val)\n",
        "roc_auc_score(y_val , y_pred , multi_class = 'ovr')"
      ],
      "metadata": {
        "colab": {
          "base_uri": "https://localhost:8080/"
        },
        "id": "TCsRFLt8K7MA",
        "outputId": "558f8817-fa7b-403f-fd2f-559d21a84791"
      },
      "execution_count": null,
      "outputs": [
        {
          "output_type": "execute_result",
          "data": {
            "text/plain": [
              "0.98173953394442"
            ]
          },
          "metadata": {},
          "execution_count": 491
        }
      ]
    },
    {
      "cell_type": "code",
      "source": [
        "#as we can see that this model is overfitting, let us tune max_depth\n",
        "max_depth = np.arange(2 , 50 , 1)\n",
        "aucs = []\n",
        "aucs_train = []\n",
        "for d in max_depth:\n",
        "  rf = RandomForestClassifier(max_depth = d)\n",
        "  rf.fit(X_train , y_train)\n",
        "  y_pred = rf.predict_proba(X_val)\n",
        "  y_pred_train = rf.predict_proba(X_train)\n",
        "  auc = roc_auc_score(y_val , y_pred , multi_class = 'ovr')\n",
        "  auc_train = roc_auc_score(y_train , y_pred_train , multi_class = 'ovr')\n",
        "  aucs.append(auc)\n",
        "  aucs_train.append(auc_train)\n",
        "\n",
        "plt.plot(max_depth , aucs , label = \"Validation\")\n",
        "plt.plot(max_depth , aucs_train , label = \"Train\")\n",
        "plt.xlabel(\"max_depth\")\n",
        "plt.ylabel(\"AUC\")\n",
        "plt.title(\"max_depth vs AUC\")\n",
        "plt.legend()"
      ],
      "metadata": {
        "colab": {
          "base_uri": "https://localhost:8080/",
          "height": 313
        },
        "id": "qdKtRkZnoq1L",
        "outputId": "08cd0fec-1bee-4640-fc8a-27a3281fcf09"
      },
      "execution_count": null,
      "outputs": [
        {
          "output_type": "execute_result",
          "data": {
            "text/plain": [
              "<matplotlib.legend.Legend at 0x7fe347f08f50>"
            ]
          },
          "metadata": {},
          "execution_count": 492
        },
        {
          "output_type": "display_data",
          "data": {
            "text/plain": [
              "<Figure size 432x288 with 1 Axes>"
            ],
            "image/png": "[encoded data removed]"
          },
          "metadata": {
            "needs_background": "light"
          }
        }
      ]
    },
    {
      "cell_type": "code",
      "source": [
        "#we can take max_depth as 10 for our model"
      ],
      "metadata": {
        "id": "oDFiUGZcqpqX"
      },
      "execution_count": null,
      "outputs": []
    },
    {
      "cell_type": "code",
      "source": [
        "#let us also tune min_samples_leaf\n",
        "min_samples_leaf = [0.001 , 0.01 , 0.1 , 1 , 5, 10 ,20]\n",
        "aucs = []\n",
        "aucs_train = []\n",
        "for m in min_samples_leaf:\n",
        "  rf = RandomForestClassifier(max_depth = 10 , min_samples_leaf = m)\n",
        "  rf.fit(X_train , y_train)\n",
        "  y_pred = rf.predict_proba(X_val)\n",
        "  y_pred_train = rf.predict_proba(X_train)\n",
        "  auc = roc_auc_score(y_val , y_pred , multi_class = 'ovr')\n",
        "  auc_train = roc_auc_score(y_train , y_pred_train , multi_class = 'ovr')\n",
        "  aucs.append(auc)\n",
        "  aucs_train.append(auc_train)\n",
        "\n",
        "plt.plot(min_samples_leaf , aucs , label = \"Validation\")\n",
        "plt.plot(min_samples_leaf , aucs_train , label = \"Train\")\n",
        "plt.xlabel(\"min_samples_leaf\")\n",
        "plt.ylabel(\"AUC\")\n",
        "plt.title(\"min_samples_leaf vs AUC\")\n",
        "plt.legend()"
      ],
      "metadata": {
        "colab": {
          "base_uri": "https://localhost:8080/",
          "height": 313
        },
        "id": "oe9Aq0i3q9Rq",
        "outputId": "c9be5f57-511a-4bc7-9edd-821c9217d120"
      },
      "execution_count": null,
      "outputs": [
        {
          "output_type": "execute_result",
          "data": {
            "text/plain": [
              "<matplotlib.legend.Legend at 0x7fe347d9b050>"
            ]
          },
          "metadata": {},
          "execution_count": 494
        },
        {
          "output_type": "display_data",
          "data": {
            "text/plain": [
              "<Figure size 432x288 with 1 Axes>"
            ],
            "image/png": "[encoded data removed]"
          },
          "metadata": {
            "needs_background": "light"
          }
        }
      ]
    },
    {
      "cell_type": "code",
      "source": [
        "#as we can see for every values its almost same so we go with default value"
      ],
      "metadata": {
        "id": "Ggtz0FxduM9Z"
      },
      "execution_count": null,
      "outputs": []
    },
    {
      "cell_type": "code",
      "source": [
        "#now let us look at number of estimators\n",
        "n_estimators = [10,20,50,100,120,150,200]\n",
        "aucs = []\n",
        "aucs_train = []\n",
        "for n in n_estimators:\n",
        "  rf = RandomForestClassifier(n_estimators = n , max_depth = 10)\n",
        "  rf.fit(X_train , y_train)\n",
        "  y_pred = rf.predict_proba(X_val)\n",
        "  y_pred_train = rf.predict_proba(X_train)\n",
        "  auc = roc_auc_score(y_val , y_pred , multi_class = 'ovr')\n",
        "  auc_train = roc_auc_score(y_train , y_pred_train , multi_class = 'ovr')\n",
        "  aucs.append(auc)\n",
        "  aucs_train.append(auc_train)\n",
        "\n",
        "plt.plot(n_estimators , aucs , label = \"Validation\")\n",
        "plt.plot(n_estimators , aucs_train , label = \"Train\")\n",
        "plt.xlabel(\"n_estimators\")\n",
        "plt.ylabel(\"AUC\")\n",
        "plt.title(\"n_estimators vs AUC\")\n",
        "plt.legend()\n"
      ],
      "metadata": {
        "colab": {
          "base_uri": "https://localhost:8080/",
          "height": 313
        },
        "id": "WdIUsk1Cm5Id",
        "outputId": "ccf4d449-0706-4d49-990b-58f710477d2f"
      },
      "execution_count": null,
      "outputs": [
        {
          "output_type": "execute_result",
          "data": {
            "text/plain": [
              "<matplotlib.legend.Legend at 0x7fe34b72bc90>"
            ]
          },
          "metadata": {},
          "execution_count": 496
        },
        {
          "output_type": "display_data",
          "data": {
            "text/plain": [
              "<Figure size 432x288 with 1 Axes>"
            ],
            "image/png": "[encoded data removed]"
          },
          "metadata": {
            "needs_background": "light"
          }
        }
      ]
    },
    {
      "cell_type": "code",
      "source": [
        "#as we can see that default value that is 100 is best "
      ],
      "metadata": {
        "id": "RGVFY8iJunbO"
      },
      "execution_count": null,
      "outputs": []
    },
    {
      "cell_type": "code",
      "source": [
        "rf = RandomForestClassifier(max_depth = 10)\n",
        "rf.fit(X_train , y_train)\n",
        "y_pred = rf.predict(X_val)\n",
        "cm = confusion_matrix(y_val , y_pred)\n",
        "sns.heatmap(cm , annot=True)"
      ],
      "metadata": {
        "colab": {
          "base_uri": "https://localhost:8080/",
          "height": 282
        },
        "id": "NUpXjwjqurnN",
        "outputId": "14750415-cf0d-4a7f-ccb0-70a1601ec7cc"
      },
      "execution_count": null,
      "outputs": [
        {
          "output_type": "execute_result",
          "data": {
            "text/plain": [
              "<matplotlib.axes._subplots.AxesSubplot at 0x7fe349360250>"
            ]
          },
          "metadata": {},
          "execution_count": 498
        },
        {
          "output_type": "display_data",
          "data": {
            "text/plain": [
              "<Figure size 432x288 with 2 Axes>"
            ],
            "image/png": "[encoded data removed]"
          },
          "metadata": {
            "needs_background": "light"
          }
        }
      ]
    },
    {
      "cell_type": "code",
      "source": [
        "sns.heatmap(percent_cm(cm) , annot=True)\n",
        "plt.xlabel(\"Truth\")\n",
        "plt.ylabel(\"Predictions\")"
      ],
      "metadata": {
        "colab": {
          "base_uri": "https://localhost:8080/",
          "height": 296
        },
        "id": "Irnr9x8evB4C",
        "outputId": "b0dd7658-ee1b-4e39-a028-b16f1c1a43dc"
      },
      "execution_count": null,
      "outputs": [
        {
          "output_type": "execute_result",
          "data": {
            "text/plain": [
              "Text(33.0, 0.5, 'Predictions')"
            ]
          },
          "metadata": {},
          "execution_count": 499
        },
        {
          "output_type": "display_data",
          "data": {
            "text/plain": [
              "<Figure size 432x288 with 2 Axes>"
            ],
            "image/png": "[encoded data removed]"
          },
          "metadata": {
            "needs_background": "light"
          }
        }
      ]
    },
    {
      "cell_type": "code",
      "source": [
        "# we can see that our model done a great job in classifying all classes with more than 80% accuracay"
      ],
      "metadata": {
        "id": "Y-ws1e1lwjQb"
      },
      "execution_count": null,
      "outputs": []
    },
    {
      "cell_type": "markdown",
      "source": [
        "##ExtraTreesClassifer"
      ],
      "metadata": {
        "id": "KV3pMeLPw2MI"
      }
    },
    {
      "cell_type": "code",
      "source": [
        "et = ExtraTreesClassifier()\n",
        "et.fit(X_train , y_train)\n",
        "y_pred =et.predict_proba(X_val)\n",
        "roc_auc_score(y_val , y_pred , multi_class = \"ovr\")"
      ],
      "metadata": {
        "colab": {
          "base_uri": "https://localhost:8080/"
        },
        "id": "DHReZIl2xgIM",
        "outputId": "527b99e2-2d3f-4d51-f2c6-df5d6f87af1d"
      },
      "execution_count": null,
      "outputs": [
        {
          "output_type": "execute_result",
          "data": {
            "text/plain": [
              "0.973265742907402"
            ]
          },
          "metadata": {},
          "execution_count": 501
        }
      ]
    },
    {
      "cell_type": "code",
      "source": [
        "#let us tune some parameter to see if our model improves\n",
        "max_depth = np.arange(2 , 50 , 1)\n",
        "aucs = []\n",
        "aucs_train = []\n",
        "for d in max_depth:\n",
        "  et = ExtraTreesClassifier(max_depth = d)\n",
        "  et.fit(X_train , y_train)\n",
        "  y_pred = et.predict_proba(X_val)\n",
        "  y_pred_train = et.predict_proba(X_train)\n",
        "  auc = roc_auc_score(y_val , y_pred , multi_class = 'ovr')\n",
        "  auc_train = roc_auc_score(y_train , y_pred_train , multi_class = 'ovr')\n",
        "  aucs.append(auc)\n",
        "  aucs_train.append(auc_train)\n",
        "\n",
        "plt.plot(max_depth , aucs , label = \"Validation\")\n",
        "plt.plot(max_depth , aucs_train , label = \"Train\")\n",
        "plt.xlabel(\"max_depth\")\n",
        "plt.ylabel(\"AUC\")\n",
        "plt.title(\"max_depth vs AUC\")\n",
        "plt.legend()"
      ],
      "metadata": {
        "colab": {
          "base_uri": "https://localhost:8080/",
          "height": 313
        },
        "id": "YZ4by-xCyPFA",
        "outputId": "82d888b4-cea6-418b-e27a-b8466d7d3e9c"
      },
      "execution_count": null,
      "outputs": [
        {
          "output_type": "execute_result",
          "data": {
            "text/plain": [
              "<matplotlib.legend.Legend at 0x7fe349d97210>"
            ]
          },
          "metadata": {},
          "execution_count": 502
        },
        {
          "output_type": "display_data",
          "data": {
            "text/plain": [
              "<Figure size 432x288 with 1 Axes>"
            ],
            "image/png": "[encoded data removed]"
          },
          "metadata": {
            "needs_background": "light"
          }
        }
      ]
    },
    {
      "cell_type": "code",
      "source": [
        "#as we can see that after max_depth=10 our value does not improve much so we will take 10 as our depth\n",
        "#let us also tune max_feature parameter\n",
        "\n",
        "def train_et(feature):\n",
        "  dict_ = {}\n",
        "  et = ExtraTreesClassifier(max_depth = 10 , max_features = feature)\n",
        "  et.fit(X_train , y_train)\n",
        "  y_pred = et.predict_proba(X_val)\n",
        "  y_pred_train = et.predict_proba(X_train)\n",
        "  dict_[\"val\"] = roc_auc_score(y_val , y_pred , multi_class = 'ovr')\n",
        "  dict_[\"train\"] = roc_auc_score(y_train , y_pred_train, multi_class = 'ovr')\n",
        "  return dict_\n",
        "\n",
        "\n",
        "auc_sqrt = train_et('sqrt')\n",
        "auc_log2 = train_et('log2')\n",
        "auc_none = train_et(None)\n",
        "\n",
        "X = np.arange(len(auc_sqrt))\n",
        "ax = plt.subplot(111)\n",
        "ax.bar(X, auc_sqrt.values(), width=0.2, color='lightblue', align='center')\n",
        "ax.bar(X-0.2, auc_log2.values(), width=0.2, color='lightgreen', align='center')\n",
        "ax.bar(X-0.4, auc_none.values(), width=0.2, color='pink', align='center')\n",
        "ax.legend(('auc_sqrt','auc_log2','auc_none'))\n",
        "plt.xticks(X, auc_sqrt.keys())\n",
        "plt.title(\"AUC\")\n",
        "plt.show()"
      ],
      "metadata": {
        "colab": {
          "base_uri": "https://localhost:8080/",
          "height": 281
        },
        "id": "rCt-DzjpzcDa",
        "outputId": "93c7ac08-7539-45eb-c1dc-599d2b7b64ed"
      },
      "execution_count": null,
      "outputs": [
        {
          "output_type": "display_data",
          "data": {
            "text/plain": [
              "<Figure size 432x288 with 1 Axes>"
            ],
            "image/png": "[encoded data removed]"
          },
          "metadata": {
            "needs_background": "light"
          }
        }
      ]
    },
    {
      "cell_type": "code",
      "source": [
        "#we can see that default values for max_features is optimal"
      ],
      "metadata": {
        "id": "l2fqZSUq4tRL"
      },
      "execution_count": null,
      "outputs": []
    },
    {
      "cell_type": "code",
      "source": [
        "#let us make a confusion matrix for ur model\n",
        "et = ExtraTreesClassifier(max_depth = 10)\n",
        "et.fit(X_train , y_train)\n",
        "y_pred = et.predict(X_val)\n",
        "cm = confusion_matrix(y_val , y_pred)\n",
        "sns.heatmap(percent_cm(cm) , annot=True)\n",
        "plt.xlabel(\"Truth\")\n",
        "plt.ylabel(\"Predictions\")"
      ],
      "metadata": {
        "colab": {
          "base_uri": "https://localhost:8080/",
          "height": 296
        },
        "id": "4AY1KYy184Aq",
        "outputId": "20360d50-920e-45d0-e418-e691ac236f9d"
      },
      "execution_count": null,
      "outputs": [
        {
          "output_type": "execute_result",
          "data": {
            "text/plain": [
              "Text(33.0, 0.5, 'Predictions')"
            ]
          },
          "metadata": {},
          "execution_count": 505
        },
        {
          "output_type": "display_data",
          "data": {
            "text/plain": [
              "<Figure size 432x288 with 2 Axes>"
            ],
            "image/png": "[encoded data removed]"
          },
          "metadata": {
            "needs_background": "light"
          }
        }
      ]
    },
    {
      "cell_type": "code",
      "source": [
        "#now let us check our models on test sets\n",
        "y_test = df_test.load_type.values\n",
        "del(df_test['load_type'])"
      ],
      "metadata": {
        "id": "MO2VQqH4-fz1"
      },
      "execution_count": null,
      "outputs": []
    },
    {
      "cell_type": "code",
      "source": [
        "test_dict = df_test.to_dict(\"records\")\n",
        "X_test = dv.transform(test_dict)"
      ],
      "metadata": {
        "id": "Vvifrxzq-7Rz"
      },
      "execution_count": null,
      "outputs": []
    },
    {
      "cell_type": "code",
      "source": [
        "y_pred_lr =  lr.predict_proba(X_test)\n",
        "auc_lr = roc_auc_score(y_test ,y_pred_lr ,multi_class= 'ovr')\n",
        "y_pred_rf =  rf.predict_proba(X_test)\n",
        "auc_rf = roc_auc_score(y_test ,y_pred_rf ,multi_class= 'ovr')\n",
        "y_pred_et =  et.predict_proba(X_test)\n",
        "auc_et = roc_auc_score(y_test ,y_pred_et ,multi_class= 'ovr')\n",
        "\n",
        "print(f'logistic regression auc: {auc_lr}\\nRandomForestClassifier: {auc_rf}\\nExtraTreesClassifier: {auc_et}')"
      ],
      "metadata": {
        "colab": {
          "base_uri": "https://localhost:8080/"
        },
        "id": "LHV9f1cJBNL-",
        "outputId": "fac26007-d8f5-4bab-d5f2-d508dcba02b0"
      },
      "execution_count": null,
      "outputs": [
        {
          "output_type": "stream",
          "name": "stdout",
          "text": [
            "logistic regression auc: 0.8894237719515025\n",
            "RandomForestClassifier: 0.9740310717212921\n",
            "ExtraTreesClassifier: 0.9515785915744996\n"
          ]
        }
      ]
    },
    {
      "cell_type": "code",
      "source": [
        "#we can see that RandomForestClassifier model is best , so we save it.\n",
        "\n",
        "with open('load_type.bin','wb') as f_out:\n",
        "  pickle.dump((dv,rf), f_out)"
      ],
      "metadata": {
        "id": "a9Iv3Xq-BOB1"
      },
      "execution_count": null,
      "outputs": []
    },
    {
      "cell_type": "markdown",
      "source": [
        "##Real World Problem"
      ],
      "metadata": {
        "id": "xK2_7zffHlAF"
      }
    },
    {
      "cell_type": "code",
      "source": [
        "df.iloc[3241].to_dict()"
      ],
      "metadata": {
        "colab": {
          "base_uri": "https://localhost:8080/"
        },
        "id": "ShC0_PevHno6",
        "outputId": "a80e5c4f-8aef-47aa-812c-ca14e0041250"
      },
      "execution_count": null,
      "outputs": [
        {
          "output_type": "execute_result",
          "data": {
            "text/plain": [
              "{'co2(tco2)': 0.02,\n",
              " 'day_of_week': 'saturday',\n",
              " 'lagging_current_power_factor': 92.11,\n",
              " 'lagging_current_reactive.power_kvarh': 17.32,\n",
              " 'leading_current_power_factor': 100.0,\n",
              " 'leading_current_reactive_power_kvarh': 0.0,\n",
              " 'load_type': 'maximum_load',\n",
              " 'nsm': 66600,\n",
              " 'usage_kwh': 40.97,\n",
              " 'weekstatus': 'weekend'}"
            ]
          },
          "metadata": {},
          "execution_count": 519
        }
      ]
    },
    {
      "cell_type": "code",
      "source": [
        "att = {'co2(tco2)': 0.02,\n",
        " 'day_of_week': 'saturday',\n",
        " 'lagging_current_power_factor': 92.11,\n",
        " 'lagging_current_reactive.power_kvarh': 17.32,\n",
        " 'leading_current_power_factor': 100.0,\n",
        " 'leading_current_reactive_power_kvarh': 0.0,\n",
        " 'nsm': 66600,\n",
        " 'usage_kwh': 40.97,\n",
        " 'weekstatus': 'weekend'}\n",
        "\n",
        "url = 'http://localhost:9696/predict'\n",
        "response = requests.post(url, json=att) \n",
        "result = response.json()\n",
        "result"
      ],
      "metadata": {
        "colab": {
          "base_uri": "https://localhost:8080/"
        },
        "id": "Uoi6ncDaJls7",
        "outputId": "e5f4e4ad-258d-461f-9583-916bb3f370f8"
      },
      "execution_count": 540,
      "outputs": [
        {
          "output_type": "execute_result",
          "data": {
            "text/plain": [
              "{'load_type': 'maximum_load'}"
            ]
          },
          "metadata": {},
          "execution_count": 540
        }
      ]
    },
    {
      "cell_type": "markdown",
      "source": [
        "Our model has correctly predicted the result. \n",
        "In this project , we have trained three different models that are Logistic Regression, Random Tree Classifier and Extra Tree Classifier. then we tuned each model to find the best auc score. we also evaluated each model using heatmaps of confusion matrix. In the end we fond that Random Forest Classifier is the best model for this dataset. so we saved this model and serve it on web usinf Flask"
      ],
      "metadata": {
        "id": "c4Au_cqFRNou"
      }
    }
  ]
}