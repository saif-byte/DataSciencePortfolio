{
  "nbformat": 4,
  "nbformat_minor": 0,
  "metadata": {
    "colab": {
      "name": "fashion_classification.ipynb",
      "provenance": [],
      "authorship_tag": "ABX9TyPOMnDiwIbjCXFrLZSp3Ni+",
      "include_colab_link": true
    },
    "kernelspec": {
      "name": "python3",
      "display_name": "Python 3"
    },
    "language_info": {
      "name": "python"
    }
  },
  "cells": [
    {
      "cell_type": "markdown",
      "metadata": {
        "id": "view-in-github",
        "colab_type": "text"
      },
      "source": [
        "<a href=\"https://colab.research.google.com/github/saif-byte/DataSciencePortfolio/blob/main/fashion_classification.ipynb\" target=\"_parent\"><img src=\"https://colab.research.google.com/assets/colab-badge.svg\" alt=\"Open In Colab\"/></a>"
      ]
    },
    {
      "cell_type": "markdown",
      "source": [
        "#Classifying the clothes and accessories images"
      ],
      "metadata": {
        "id": "lSAMZwz3tt2G"
      }
    },
    {
      "cell_type": "markdown",
      "source": [
        "In this project we will load the dataset from tensorflow library and predict the image with the help of a keras model. We will classify each image into one out of 10 categories."
      ],
      "metadata": {
        "id": "0tRevezXt50h"
      }
    },
    {
      "cell_type": "code",
      "execution_count": 31,
      "metadata": {
        "id": "CP8fIE1SkAYc"
      },
      "outputs": [],
      "source": [
        "#importing necessary libraries\n",
        "%tensorflow_version 2.x\n",
        "import tensorflow as tf\n",
        "from tensorflow import keras\n",
        "import numpy as np\n",
        "import matplotlib.pyplot as plt"
      ]
    },
    {
      "cell_type": "markdown",
      "source": [
        "##Data Reading"
      ],
      "metadata": {
        "id": "Y_30W6euunW-"
      }
    },
    {
      "cell_type": "code",
      "source": [
        "fashion_mnist = keras.datasets.fashion_mnist\n",
        "(train_images,train_labels) ,(test_images,test_labels) = fashion_mnist.load_data()"
      ],
      "metadata": {
        "colab": {
          "base_uri": "https://localhost:8080/"
        },
        "id": "QJ1SbSwyJDNs",
        "outputId": "eb56ee39-1861-4cc0-c91c-669bff0b467c"
      },
      "execution_count": 2,
      "outputs": [
        {
          "output_type": "stream",
          "name": "stdout",
          "text": [
            "Downloading data from https://storage.googleapis.com/tensorflow/tf-keras-datasets/train-labels-idx1-ubyte.gz\n",
            "32768/29515 [=================================] - 0s 0us/step\n",
            "40960/29515 [=========================================] - 0s 0us/step\n",
            "Downloading data from https://storage.googleapis.com/tensorflow/tf-keras-datasets/train-images-idx3-ubyte.gz\n",
            "26427392/26421880 [==============================] - 0s 0us/step\n",
            "26435584/26421880 [==============================] - 0s 0us/step\n",
            "Downloading data from https://storage.googleapis.com/tensorflow/tf-keras-datasets/t10k-labels-idx1-ubyte.gz\n",
            "16384/5148 [===============================================================================================] - 0s 0us/step\n",
            "Downloading data from https://storage.googleapis.com/tensorflow/tf-keras-datasets/t10k-images-idx3-ubyte.gz\n",
            "4423680/4422102 [==============================] - 0s 0us/step\n",
            "4431872/4422102 [==============================] - 0s 0us/step\n"
          ]
        }
      ]
    },
    {
      "cell_type": "code",
      "source": [
        "train_images.shape"
      ],
      "metadata": {
        "colab": {
          "base_uri": "https://localhost:8080/"
        },
        "id": "Eqtm_wQKkgiq",
        "outputId": "f3dba8de-cfed-435e-a074-37b0a68443b4"
      },
      "execution_count": 3,
      "outputs": [
        {
          "output_type": "execute_result",
          "data": {
            "text/plain": [
              "(60000, 28, 28)"
            ]
          },
          "metadata": {},
          "execution_count": 3
        }
      ]
    },
    {
      "cell_type": "code",
      "source": [
        "#we have 60000 images that are made of 28x28 pixels"
      ],
      "metadata": {
        "id": "UhEPJU0PJ8tQ"
      },
      "execution_count": 4,
      "outputs": []
    },
    {
      "cell_type": "code",
      "source": [
        "#let us look for the labels in our dataset\n",
        "train_labels[:10]\n"
      ],
      "metadata": {
        "colab": {
          "base_uri": "https://localhost:8080/"
        },
        "id": "Y8p8lFkEKFgV",
        "outputId": "84bd2db1-34a1-405e-c430-062e4ecf1eb1"
      },
      "execution_count": 9,
      "outputs": [
        {
          "output_type": "execute_result",
          "data": {
            "text/plain": [
              "array([9, 0, 0, 3, 0, 2, 7, 2, 5, 5], dtype=uint8)"
            ]
          },
          "metadata": {},
          "execution_count": 9
        }
      ]
    },
    {
      "cell_type": "code",
      "source": [
        "#we can see that we have 10 types of wearinngs in our dataset 0 to 9"
      ],
      "metadata": {
        "id": "GC2M9OMWKnva"
      },
      "execution_count": 11,
      "outputs": []
    },
    {
      "cell_type": "code",
      "source": [
        "class_names = ['Tshirt' , 'Trouser' , 'Pullover' , 'Dress' , 'Coat' , 'Sandal' ,'Shirt' , 'Sneaker' , 'Bag' , 'Ankle boot']"
      ],
      "metadata": {
        "id": "Ei5NVaC8K9yq"
      },
      "execution_count": 12,
      "outputs": []
    },
    {
      "cell_type": "code",
      "source": [
        "#let us look how some of our images look like\n",
        "plt.figure()\n",
        "plt.imshow(train_images[1])\n",
        "plt.colorbar()\n",
        "plt.grid(False)\n",
        "plt.show()\n"
      ],
      "metadata": {
        "colab": {
          "base_uri": "https://localhost:8080/",
          "height": 265
        },
        "id": "Stb6mryKLelj",
        "outputId": "1c860857-77e9-4514-c50a-9609fab906be"
      },
      "execution_count": 13,
      "outputs": [
        {
          "output_type": "display_data",
          "data": {
            "text/plain": [
              "<Figure size 432x288 with 2 Axes>"
            ],
            "image/png": "[encoded data removed]"
          },
          "metadata": {
            "needs_background": "light"
          }
        }
      ]
    },
    {
      "cell_type": "markdown",
      "source": [
        "###Data Preprocessing"
      ],
      "metadata": {
        "id": "mSNAjsxMgMUd"
      }
    },
    {
      "cell_type": "code",
      "source": [
        "#we will make all of our pixels data to be in between 0 to 1\n",
        "train_images = train_images/255\n",
        "test_images = test_images/255\n"
      ],
      "metadata": {
        "id": "f9-MLX8XgPqe"
      },
      "execution_count": 14,
      "outputs": []
    },
    {
      "cell_type": "markdown",
      "source": [
        "###Training our model"
      ],
      "metadata": {
        "id": "Vm0jbMg2ip04"
      }
    },
    {
      "cell_type": "code",
      "source": [
        "model = keras.Sequential(\n",
        "   [ keras.layers.Flatten(input_shape = (28,28)),\n",
        "    keras.layers.Dense(128 , activation = 'relu') , \n",
        "    keras.layers.Dense(10 , activation = 'softmax')] )\n"
      ],
      "metadata": {
        "id": "WBONO_roisoO"
      },
      "execution_count": 17,
      "outputs": []
    },
    {
      "cell_type": "code",
      "source": [
        "model.compile(optimizer = 'adam' , \n",
        "              loss = 'sparse_categorical_crossentropy' ,\n",
        "              metrics = ['accuracy'])"
      ],
      "metadata": {
        "id": "ErywG_yBj0y9"
      },
      "execution_count": 20,
      "outputs": []
    },
    {
      "cell_type": "code",
      "source": [
        "model.fit(train_images , train_labels , epochs = 10)"
      ],
      "metadata": {
        "colab": {
          "base_uri": "https://localhost:8080/"
        },
        "id": "Wqmgk_d4kvjm",
        "outputId": "617ee915-c36b-4102-df9e-c6e7bcf7d7c7"
      },
      "execution_count": 21,
      "outputs": [
        {
          "output_type": "stream",
          "name": "stdout",
          "text": [
            "Epoch 1/10\n",
            "1875/1875 [==============================] - 6s 3ms/step - loss: 0.5018 - accuracy: 0.8233\n",
            "Epoch 2/10\n",
            "1875/1875 [==============================] - 6s 3ms/step - loss: 0.3777 - accuracy: 0.8635\n",
            "Epoch 3/10\n",
            "1875/1875 [==============================] - 5s 3ms/step - loss: 0.3389 - accuracy: 0.8771\n",
            "Epoch 4/10\n",
            "1875/1875 [==============================] - 5s 3ms/step - loss: 0.3139 - accuracy: 0.8860\n",
            "Epoch 5/10\n",
            "1875/1875 [==============================] - 5s 3ms/step - loss: 0.2960 - accuracy: 0.8917\n",
            "Epoch 6/10\n",
            "1875/1875 [==============================] - 5s 3ms/step - loss: 0.2816 - accuracy: 0.8965\n",
            "Epoch 7/10\n",
            "1875/1875 [==============================] - 5s 3ms/step - loss: 0.2689 - accuracy: 0.9001\n",
            "Epoch 8/10\n",
            "1875/1875 [==============================] - 5s 3ms/step - loss: 0.2586 - accuracy: 0.9057\n",
            "Epoch 9/10\n",
            "1875/1875 [==============================] - 5s 3ms/step - loss: 0.2494 - accuracy: 0.9074\n",
            "Epoch 10/10\n",
            "1875/1875 [==============================] - 5s 3ms/step - loss: 0.2410 - accuracy: 0.9090\n"
          ]
        },
        {
          "output_type": "execute_result",
          "data": {
            "text/plain": [
              "<keras.callbacks.History at 0x7f5bbb412d50>"
            ]
          },
          "metadata": {},
          "execution_count": 21
        }
      ]
    },
    {
      "cell_type": "markdown",
      "source": [
        "###Evaluating the model"
      ],
      "metadata": {
        "id": "FlACstlSnCjo"
      }
    },
    {
      "cell_type": "code",
      "source": [
        "test_loss , test_accuracy = model.evaluate(test_images  , test_labels , verbose = 1)\n",
        "print(f'Test Accuracy : {test_accuracy}')"
      ],
      "metadata": {
        "colab": {
          "base_uri": "https://localhost:8080/"
        },
        "id": "kVgl0RgdnEtl",
        "outputId": "f1ed6272-1027-4077-f5cb-41a2adb22a7c"
      },
      "execution_count": 22,
      "outputs": [
        {
          "output_type": "stream",
          "name": "stdout",
          "text": [
            "313/313 [==============================] - 1s 2ms/step - loss: 0.3454 - accuracy: 0.8826\n",
            "Test Accuracy : 0.8826000094413757\n"
          ]
        }
      ]
    },
    {
      "cell_type": "code",
      "source": [
        "#our model is overfitting so we can tune the number of epochs\n",
        "for e in [1,5,10,15]:\n",
        "  model.fit(train_images , train_labels , epochs = e)\n",
        "  test_loss , test_accuracy = model.evaluate(test_images  , test_labels , verbose = 1)\n",
        "  print(f'Test Accuracy : {test_accuracy} Epochs = {e}')"
      ],
      "metadata": {
        "colab": {
          "base_uri": "https://localhost:8080/"
        },
        "id": "nC39iqwlnd2Q",
        "outputId": "905d6d40-0fdd-4d3b-8b4c-0e515dfbad58"
      },
      "execution_count": 23,
      "outputs": [
        {
          "output_type": "stream",
          "name": "stdout",
          "text": [
            "1875/1875 [==============================] - 5s 3ms/step - loss: 0.2320 - accuracy: 0.9123\n",
            "313/313 [==============================] - 1s 2ms/step - loss: 0.3390 - accuracy: 0.8849\n",
            "Test Accuracy : 0.8848999738693237 Epochs = 1\n",
            "Epoch 1/5\n",
            "1875/1875 [==============================] - 5s 3ms/step - loss: 0.2247 - accuracy: 0.9151\n",
            "Epoch 2/5\n",
            "1875/1875 [==============================] - 5s 3ms/step - loss: 0.2182 - accuracy: 0.9178\n",
            "Epoch 3/5\n",
            "1875/1875 [==============================] - 5s 3ms/step - loss: 0.2120 - accuracy: 0.9215\n",
            "Epoch 4/5\n",
            "1875/1875 [==============================] - 5s 3ms/step - loss: 0.2073 - accuracy: 0.9225\n",
            "Epoch 5/5\n",
            "1875/1875 [==============================] - 5s 2ms/step - loss: 0.2011 - accuracy: 0.9252\n",
            "313/313 [==============================] - 1s 2ms/step - loss: 0.3451 - accuracy: 0.8851\n",
            "Test Accuracy : 0.8851000070571899 Epochs = 5\n",
            "Epoch 1/10\n",
            "1875/1875 [==============================] - 5s 2ms/step - loss: 0.1940 - accuracy: 0.9276\n",
            "Epoch 2/10\n",
            "1875/1875 [==============================] - 5s 2ms/step - loss: 0.1894 - accuracy: 0.9288\n",
            "Epoch 3/10\n",
            "1875/1875 [==============================] - 5s 3ms/step - loss: 0.1828 - accuracy: 0.9314\n",
            "Epoch 4/10\n",
            "1875/1875 [==============================] - 5s 3ms/step - loss: 0.1797 - accuracy: 0.9323\n",
            "Epoch 5/10\n",
            "1875/1875 [==============================] - 5s 2ms/step - loss: 0.1752 - accuracy: 0.9344\n",
            "Epoch 6/10\n",
            "1875/1875 [==============================] - 5s 3ms/step - loss: 0.1709 - accuracy: 0.9356\n",
            "Epoch 7/10\n",
            "1875/1875 [==============================] - 5s 2ms/step - loss: 0.1680 - accuracy: 0.9359\n",
            "Epoch 8/10\n",
            "1875/1875 [==============================] - 5s 2ms/step - loss: 0.1631 - accuracy: 0.9374\n",
            "Epoch 9/10\n",
            "1875/1875 [==============================] - 5s 3ms/step - loss: 0.1597 - accuracy: 0.9401\n",
            "Epoch 10/10\n",
            "1875/1875 [==============================] - 5s 3ms/step - loss: 0.1567 - accuracy: 0.9408\n",
            "313/313 [==============================] - 1s 2ms/step - loss: 0.3921 - accuracy: 0.8880\n",
            "Test Accuracy : 0.8880000114440918 Epochs = 10\n",
            "Epoch 1/15\n",
            "1875/1875 [==============================] - 5s 3ms/step - loss: 0.1514 - accuracy: 0.9437\n",
            "Epoch 2/15\n",
            "1875/1875 [==============================] - 5s 3ms/step - loss: 0.1489 - accuracy: 0.9434\n",
            "Epoch 3/15\n",
            "1875/1875 [==============================] - 5s 3ms/step - loss: 0.1486 - accuracy: 0.9442\n",
            "Epoch 4/15\n",
            "1875/1875 [==============================] - 5s 2ms/step - loss: 0.1411 - accuracy: 0.9474\n",
            "Epoch 5/15\n",
            "1875/1875 [==============================] - 5s 3ms/step - loss: 0.1408 - accuracy: 0.9477\n",
            "Epoch 6/15\n",
            "1875/1875 [==============================] - 5s 3ms/step - loss: 0.1348 - accuracy: 0.9503\n",
            "Epoch 7/15\n",
            "1875/1875 [==============================] - 5s 2ms/step - loss: 0.1347 - accuracy: 0.9493\n",
            "Epoch 8/15\n",
            "1875/1875 [==============================] - 5s 3ms/step - loss: 0.1289 - accuracy: 0.9510\n",
            "Epoch 9/15\n",
            "1875/1875 [==============================] - 5s 3ms/step - loss: 0.1289 - accuracy: 0.9508\n",
            "Epoch 10/15\n",
            "1875/1875 [==============================] - 5s 2ms/step - loss: 0.1272 - accuracy: 0.9518\n",
            "Epoch 11/15\n",
            "1875/1875 [==============================] - 4s 2ms/step - loss: 0.1235 - accuracy: 0.9532\n",
            "Epoch 12/15\n",
            "1875/1875 [==============================] - 5s 2ms/step - loss: 0.1204 - accuracy: 0.9558\n",
            "Epoch 13/15\n",
            "1875/1875 [==============================] - 4s 2ms/step - loss: 0.1176 - accuracy: 0.9563\n",
            "Epoch 14/15\n",
            "1875/1875 [==============================] - 5s 2ms/step - loss: 0.1172 - accuracy: 0.9553\n",
            "Epoch 15/15\n",
            "1875/1875 [==============================] - 5s 2ms/step - loss: 0.1137 - accuracy: 0.9571\n",
            "313/313 [==============================] - 1s 2ms/step - loss: 0.4812 - accuracy: 0.8868\n",
            "Test Accuracy : 0.8867999911308289 Epochs = 15\n"
          ]
        }
      ]
    },
    {
      "cell_type": "code",
      "source": [
        "#we can see that changing the epochs is not helping so we will go with epochs  =10\n",
        "model.fit(train_images , train_labels , epochs = 10)"
      ],
      "metadata": {
        "colab": {
          "base_uri": "https://localhost:8080/"
        },
        "id": "aiVd6kgYqdPt",
        "outputId": "e39469cf-a849-48d5-dfae-5dd8a200ffee"
      },
      "execution_count": 25,
      "outputs": [
        {
          "output_type": "stream",
          "name": "stdout",
          "text": [
            "Epoch 1/10\n",
            "1875/1875 [==============================] - 5s 3ms/step - loss: 0.1112 - accuracy: 0.9585\n",
            "Epoch 2/10\n",
            "1875/1875 [==============================] - 5s 3ms/step - loss: 0.1105 - accuracy: 0.9581\n",
            "Epoch 3/10\n",
            "1875/1875 [==============================] - 5s 3ms/step - loss: 0.1088 - accuracy: 0.9592\n",
            "Epoch 4/10\n",
            "1875/1875 [==============================] - 5s 3ms/step - loss: 0.1077 - accuracy: 0.9590\n",
            "Epoch 5/10\n",
            "1875/1875 [==============================] - 5s 3ms/step - loss: 0.1035 - accuracy: 0.9618\n",
            "Epoch 6/10\n",
            "1875/1875 [==============================] - 5s 3ms/step - loss: 0.1015 - accuracy: 0.9620\n",
            "Epoch 7/10\n",
            "1875/1875 [==============================] - 5s 3ms/step - loss: 0.1015 - accuracy: 0.9617\n",
            "Epoch 8/10\n",
            "1875/1875 [==============================] - 5s 2ms/step - loss: 0.0966 - accuracy: 0.9635\n",
            "Epoch 9/10\n",
            "1875/1875 [==============================] - 5s 2ms/step - loss: 0.0969 - accuracy: 0.9638\n",
            "Epoch 10/10\n",
            "1875/1875 [==============================] - 5s 2ms/step - loss: 0.0973 - accuracy: 0.9632\n"
          ]
        },
        {
          "output_type": "execute_result",
          "data": {
            "text/plain": [
              "<keras.callbacks.History at 0x7f5bbbc73f10>"
            ]
          },
          "metadata": {},
          "execution_count": 25
        }
      ]
    },
    {
      "cell_type": "code",
      "source": [
        "#now we will predict with the help of our model\n",
        "prediction = model.predict(test_images)"
      ],
      "metadata": {
        "id": "27Pym9-9qjS4"
      },
      "execution_count": 26,
      "outputs": []
    },
    {
      "cell_type": "code",
      "source": [
        "#now let us see what our predictiona are\n",
        "prediction"
      ],
      "metadata": {
        "colab": {
          "base_uri": "https://localhost:8080/"
        },
        "id": "A3vg0EbBrzj1",
        "outputId": "8f45754e-6e2a-4e94-fc65-24464b0528ea"
      },
      "execution_count": 28,
      "outputs": [
        {
          "output_type": "execute_result",
          "data": {
            "text/plain": [
              "array([[2.19683405e-23, 1.06820829e-22, 2.29665359e-26, ...,\n",
              "        3.21414831e-07, 1.23804300e-21, 9.99999642e-01],\n",
              "       [2.69134762e-05, 5.40636852e-18, 9.99968529e-01, ...,\n",
              "        2.61396119e-32, 6.94477164e-19, 3.79547730e-33],\n",
              "       [1.14370300e-27, 1.00000000e+00, 2.26204637e-28, ...,\n",
              "        0.00000000e+00, 3.20000557e-34, 9.18511254e-35],\n",
              "       ...,\n",
              "       [7.73372685e-12, 2.72107749e-34, 4.12741672e-12, ...,\n",
              "        2.06498464e-18, 1.00000000e+00, 0.00000000e+00],\n",
              "       [8.59889752e-23, 1.00000000e+00, 2.74915133e-21, ...,\n",
              "        1.00205747e-24, 1.44208302e-23, 9.27232824e-32],\n",
              "       [8.71668189e-14, 3.60920696e-15, 8.85394854e-18, ...,\n",
              "        1.02514025e-06, 1.02034484e-07, 1.04142623e-11]], dtype=float32)"
            ]
          },
          "metadata": {},
          "execution_count": 28
        }
      ]
    },
    {
      "cell_type": "code",
      "source": [
        "#we can see that for each image the liklihood of an image into a specific class is predicted. Now let us see if it correctly predicted\n",
        "print(class_names[np.argmax(prediction[0])])\n",
        "plt.figure()\n",
        "plt.imshow(test_images[0])\n",
        "plt.colorbar()\n",
        "plt.grid(False)\n",
        "plt.show()\n"
      ],
      "metadata": {
        "colab": {
          "base_uri": "https://localhost:8080/",
          "height": 286
        },
        "id": "UX0TOeVSr4bN",
        "outputId": "2e7157a4-b1bb-41f0-8f10-630608c61515"
      },
      "execution_count": 29,
      "outputs": [
        {
          "output_type": "stream",
          "name": "stdout",
          "text": [
            "Ankle boot\n"
          ]
        },
        {
          "output_type": "display_data",
          "data": {
            "text/plain": [
              "<Figure size 432x288 with 2 Axes>"
            ],
            "image/png": "[encoded data removed]"
          },
          "metadata": {
            "needs_background": "light"
          }
        }
      ]
    },
    {
      "cell_type": "code",
      "source": [
        "#we can see that our model correctly predicted the image.\n",
        "#let us look another image\n",
        "print(class_names[np.argmax(prediction[721])])\n",
        "plt.figure()\n",
        "plt.imshow(test_images[721])\n",
        "plt.colorbar()\n",
        "plt.grid(False)\n",
        "plt.show()"
      ],
      "metadata": {
        "colab": {
          "base_uri": "https://localhost:8080/",
          "height": 286
        },
        "id": "4-X5Cc2Br3LQ",
        "outputId": "fd14c212-c2db-4526-e2b9-4024320fd488"
      },
      "execution_count": 30,
      "outputs": [
        {
          "output_type": "stream",
          "name": "stdout",
          "text": [
            "Bag\n"
          ]
        },
        {
          "output_type": "display_data",
          "data": {
            "text/plain": [
              "<Figure size 432x288 with 2 Axes>"
            ],
            "image/png": "[encoded data removed]"
          },
          "metadata": {
            "needs_background": "light"
          }
        }
      ]
    },
    {
      "cell_type": "markdown",
      "source": [
        "In this project , we have trained our model using keras, we checked our model for different number of epochs and pick the one with best accuracy score on test set. This model can be used to identify type of clothes and accessories being uploaded to an ecommerce website."
      ],
      "metadata": {
        "id": "HX1L2r3jusvq"
      }
    }
  ]
}