{
  "nbformat": 4,
  "nbformat_minor": 0,
  "metadata": {
    "colab": {
      "name": "Predicting_total_orders_on_a_given_day.ipynb",
      "provenance": [],
      "authorship_tag": "ABX9TyPK8qH2mJ5LH/caGAGADTAB",
      "include_colab_link": true
    },
    "kernelspec": {
      "name": "python3",
      "display_name": "Python 3"
    },
    "language_info": {
      "name": "python"
    }
  },
  "cells": [
    {
      "cell_type": "markdown",
      "metadata": {
        "id": "view-in-github",
        "colab_type": "text"
      },
      "source": [
        "<a href=\"https://colab.research.google.com/github/saif-byte/DataSciencePortfolio/blob/main/Total%20Order%20predictor/Predicting_total_orders_on_a_given_day.ipynb\" target=\"_parent\"><img src=\"https://colab.research.google.com/assets/colab-badge.svg\" alt=\"Open In Colab\"/></a>"
      ]
    },
    {
      "cell_type": "markdown",
      "source": [
        "# Predicting total orders on a given day"
      ],
      "metadata": {
        "id": "14hkqwZv49MQ"
      }
    },
    {
      "cell_type": "markdown",
      "source": [
        "In this project we will predict the target number of orders that a company can deliver. The dataset is from UCL Machine Learning Repo named as [Daily Demand Forecasting Orders Data Set](https://archive.ics.uci.edu/ml/datasets/Daily+Demand+Forecasting+Orders#). The database was collected during 60 days, this is a real database of a Brazilian company of large logistics. Twelve predictive attributes and a target that is the total of orders for daily treatment.\n",
        "We will use different regression models to predict our target value \n",
        "\n"
      ],
      "metadata": {
        "id": "0eDkQb7g7KXH"
      }
    },
    {
      "cell_type": "code",
      "execution_count": 412,
      "metadata": {
        "id": "WkJHUU5sKXlv"
      },
      "outputs": [],
      "source": [
        "#importing necessary libraries\n",
        "import numpy as np\n",
        "import pandas as pd\n",
        "from sklearn import linear_model\n",
        "from sklearn.metrics import mean_squared_error , ConfusionMatrixDisplay\n",
        "from matplotlib import pyplot as plt\n",
        "import seaborn as sns\n",
        "import re\n",
        "\n",
        "%matplotlib inline"
      ]
    },
    {
      "cell_type": "code",
      "source": [
        "df = pd.read_csv(\"/content/Daily_Demand_Forecasting_Orders.csv\" , sep=';')"
      ],
      "metadata": {
        "id": "D0o8gexlKl2l"
      },
      "execution_count": 413,
      "outputs": []
    },
    {
      "cell_type": "code",
      "source": [
        "df.head()"
      ],
      "metadata": {
        "colab": {
          "base_uri": "https://localhost:8080/",
          "height": 424
        },
        "id": "IdXbh2y2KrMf",
        "outputId": "82881257-1bad-4cef-f155-f453ddab0cc3"
      },
      "execution_count": 414,
      "outputs": [
        {
          "output_type": "execute_result",
          "data": {
            "text/plain": [
              "   Week of the month (first week, second, third, fourth or fifth week  \\\n",
              "0                                                  1                    \n",
              "1                                                  1                    \n",
              "2                                                  1                    \n",
              "3                                                  2                    \n",
              "4                                                  2                    \n",
              "\n",
              "   Day of the week (Monday to Friday)  Non-urgent order  Urgent order  \\\n",
              "0                                   4           316.307       223.270   \n",
              "1                                   5           128.633        96.042   \n",
              "2                                   6            43.651        84.375   \n",
              "3                                   2           171.297       127.667   \n",
              "4                                   3            90.532       113.526   \n",
              "\n",
              "   Order type A  Order type B  Order type C  Fiscal sector orders  \\\n",
              "0        61.543       175.586       302.448                 0.000   \n",
              "1        38.058        56.037       130.580                 0.000   \n",
              "2        21.826        25.125        82.461                 1.386   \n",
              "3        41.542       113.294       162.284                18.156   \n",
              "4        37.679        56.618       116.220                 6.459   \n",
              "\n",
              "   Orders from the traffic controller sector  Banking orders (1)  \\\n",
              "0                                      65556               44914   \n",
              "1                                      40419               21399   \n",
              "2                                      11992                3452   \n",
              "3                                      49971               33703   \n",
              "4                                      48534               19646   \n",
              "\n",
              "   Banking orders (2)  Banking orders (3) Target (Total orders)  \n",
              "0              188411               14793            539.577,,,  \n",
              "1               89461                7679            224.675,,,  \n",
              "2               21305               14947            129.412,,,  \n",
              "3               69054               18423            317.120,,,  \n",
              "4               16411               20257            210.517,,,  "
            ],
            "text/html": [
              "\n",
              "  <div id=\"df-81405b10-0e4b-4ab7-aef4-4384b3cc2dd0\">\n",
              "    <div class=\"colab-df-container\">\n",
              "      <div>\n",
              "<style scoped>\n",
              "    .dataframe tbody tr th:only-of-type {\n",
              "        vertical-align: middle;\n",
              "    }\n",
              "\n",
              "    .dataframe tbody tr th {\n",
              "        vertical-align: top;\n",
              "    }\n",
              "\n",
              "    .dataframe thead th {\n",
              "        text-align: right;\n",
              "    }\n",
              "</style>\n",
              "<table border=\"1\" class=\"dataframe\">\n",
              "  <thead>\n",
              "    <tr style=\"text-align: right;\">\n",
              "      <th></th>\n",
              "      <th>Week of the month (first week, second, third, fourth or fifth week</th>\n",
              "      <th>Day of the week (Monday to Friday)</th>\n",
              "      <th>Non-urgent order</th>\n",
              "      <th>Urgent order</th>\n",
              "      <th>Order type A</th>\n",
              "      <th>Order type B</th>\n",
              "      <th>Order type C</th>\n",
              "      <th>Fiscal sector orders</th>\n",
              "      <th>Orders from the traffic controller sector</th>\n",
              "      <th>Banking orders (1)</th>\n",
              "      <th>Banking orders (2)</th>\n",
              "      <th>Banking orders (3)</th>\n",
              "      <th>Target (Total orders)</th>\n",
              "    </tr>\n",
              "  </thead>\n",
              "  <tbody>\n",
              "    <tr>\n",
              "      <th>0</th>\n",
              "      <td>1</td>\n",
              "      <td>4</td>\n",
              "      <td>316.307</td>\n",
              "      <td>223.270</td>\n",
              "      <td>61.543</td>\n",
              "      <td>175.586</td>\n",
              "      <td>302.448</td>\n",
              "      <td>0.000</td>\n",
              "      <td>65556</td>\n",
              "      <td>44914</td>\n",
              "      <td>188411</td>\n",
              "      <td>14793</td>\n",
              "      <td>539.577,,,</td>\n",
              "    </tr>\n",
              "    <tr>\n",
              "      <th>1</th>\n",
              "      <td>1</td>\n",
              "      <td>5</td>\n",
              "      <td>128.633</td>\n",
              "      <td>96.042</td>\n",
              "      <td>38.058</td>\n",
              "      <td>56.037</td>\n",
              "      <td>130.580</td>\n",
              "      <td>0.000</td>\n",
              "      <td>40419</td>\n",
              "      <td>21399</td>\n",
              "      <td>89461</td>\n",
              "      <td>7679</td>\n",
              "      <td>224.675,,,</td>\n",
              "    </tr>\n",
              "    <tr>\n",
              "      <th>2</th>\n",
              "      <td>1</td>\n",
              "      <td>6</td>\n",
              "      <td>43.651</td>\n",
              "      <td>84.375</td>\n",
              "      <td>21.826</td>\n",
              "      <td>25.125</td>\n",
              "      <td>82.461</td>\n",
              "      <td>1.386</td>\n",
              "      <td>11992</td>\n",
              "      <td>3452</td>\n",
              "      <td>21305</td>\n",
              "      <td>14947</td>\n",
              "      <td>129.412,,,</td>\n",
              "    </tr>\n",
              "    <tr>\n",
              "      <th>3</th>\n",
              "      <td>2</td>\n",
              "      <td>2</td>\n",
              "      <td>171.297</td>\n",
              "      <td>127.667</td>\n",
              "      <td>41.542</td>\n",
              "      <td>113.294</td>\n",
              "      <td>162.284</td>\n",
              "      <td>18.156</td>\n",
              "      <td>49971</td>\n",
              "      <td>33703</td>\n",
              "      <td>69054</td>\n",
              "      <td>18423</td>\n",
              "      <td>317.120,,,</td>\n",
              "    </tr>\n",
              "    <tr>\n",
              "      <th>4</th>\n",
              "      <td>2</td>\n",
              "      <td>3</td>\n",
              "      <td>90.532</td>\n",
              "      <td>113.526</td>\n",
              "      <td>37.679</td>\n",
              "      <td>56.618</td>\n",
              "      <td>116.220</td>\n",
              "      <td>6.459</td>\n",
              "      <td>48534</td>\n",
              "      <td>19646</td>\n",
              "      <td>16411</td>\n",
              "      <td>20257</td>\n",
              "      <td>210.517,,,</td>\n",
              "    </tr>\n",
              "  </tbody>\n",
              "</table>\n",
              "</div>\n",
              "      <button class=\"colab-df-convert\" onclick=\"convertToInteractive('df-81405b10-0e4b-4ab7-aef4-4384b3cc2dd0')\"\n",
              "              title=\"Convert this dataframe to an interactive table.\"\n",
              "              style=\"display:none;\">\n",
              "        \n",
              "  <svg xmlns=\"http://www.w3.org/2000/svg\" height=\"24px\"viewBox=\"0 0 24 24\"\n",
              "       width=\"24px\">\n",
              "    <path d=\"M0 0h24v24H0V0z\" fill=\"none\"/>\n",
              "    <path d=\"M18.56 5.44l.94 2.06.94-2.06 2.06-.94-2.06-.94-.94-2.06-.94 2.06-2.06.94zm-11 1L8.5 8.5l.94-2.06 2.06-.94-2.06-.94L8.5 2.5l-.94 2.06-2.06.94zm10 10l.94 2.06.94-2.06 2.06-.94-2.06-.94-.94-2.06-.94 2.06-2.06.94z\"/><path d=\"M17.41 7.96l-1.37-1.37c-.4-.4-.92-.59-1.43-.59-.52 0-1.04.2-1.43.59L10.3 9.45l-7.72 7.72c-.78.78-.78 2.05 0 2.83L4 21.41c.39.39.9.59 1.41.59.51 0 1.02-.2 1.41-.59l7.78-7.78 2.81-2.81c.8-.78.8-2.07 0-2.86zM5.41 20L4 18.59l7.72-7.72 1.47 1.35L5.41 20z\"/>\n",
              "  </svg>\n",
              "      </button>\n",
              "      \n",
              "  <style>\n",
              "    .colab-df-container {\n",
              "      display:flex;\n",
              "      flex-wrap:wrap;\n",
              "      gap: 12px;\n",
              "    }\n",
              "\n",
              "    .colab-df-convert {\n",
              "      background-color: #E8F0FE;\n",
              "      border: none;\n",
              "      border-radius: 50%;\n",
              "      cursor: pointer;\n",
              "      display: none;\n",
              "      fill: #1967D2;\n",
              "      height: 32px;\n",
              "      padding: 0 0 0 0;\n",
              "      width: 32px;\n",
              "    }\n",
              "\n",
              "    .colab-df-convert:hover {\n",
              "      background-color: #E2EBFA;\n",
              "      box-shadow: 0px 1px 2px rgba(60, 64, 67, 0.3), 0px 1px 3px 1px rgba(60, 64, 67, 0.15);\n",
              "      fill: #174EA6;\n",
              "    }\n",
              "\n",
              "    [theme=dark] .colab-df-convert {\n",
              "      background-color: #3B4455;\n",
              "      fill: #D2E3FC;\n",
              "    }\n",
              "\n",
              "    [theme=dark] .colab-df-convert:hover {\n",
              "      background-color: #434B5C;\n",
              "      box-shadow: 0px 1px 3px 1px rgba(0, 0, 0, 0.15);\n",
              "      filter: drop-shadow(0px 1px 2px rgba(0, 0, 0, 0.3));\n",
              "      fill: #FFFFFF;\n",
              "    }\n",
              "  </style>\n",
              "\n",
              "      <script>\n",
              "        const buttonEl =\n",
              "          document.querySelector('#df-81405b10-0e4b-4ab7-aef4-4384b3cc2dd0 button.colab-df-convert');\n",
              "        buttonEl.style.display =\n",
              "          google.colab.kernel.accessAllowed ? 'block' : 'none';\n",
              "\n",
              "        async function convertToInteractive(key) {\n",
              "          const element = document.querySelector('#df-81405b10-0e4b-4ab7-aef4-4384b3cc2dd0');\n",
              "          const dataTable =\n",
              "            await google.colab.kernel.invokeFunction('convertToInteractive',\n",
              "                                                     [key], {});\n",
              "          if (!dataTable) return;\n",
              "\n",
              "          const docLinkHtml = 'Like what you see? Visit the ' +\n",
              "            '<a target=\"_blank\" href=https://colab.research.google.com/notebooks/data_table.ipynb>data table notebook</a>'\n",
              "            + ' to learn more about interactive tables.';\n",
              "          element.innerHTML = '';\n",
              "          dataTable['output_type'] = 'display_data';\n",
              "          await google.colab.output.renderOutput(dataTable, element);\n",
              "          const docLink = document.createElement('div');\n",
              "          docLink.innerHTML = docLinkHtml;\n",
              "          element.appendChild(docLink);\n",
              "        }\n",
              "      </script>\n",
              "    </div>\n",
              "  </div>\n",
              "  "
            ]
          },
          "metadata": {},
          "execution_count": 414
        }
      ]
    },
    {
      "cell_type": "code",
      "source": [
        "#As we can see that in last column there are additional commas , so need to remove it. Also convert to numeric type\n",
        "#Also we need to take whole number in total orders column.\n",
        "df['Target (Total orders)'] = pd.to_numeric([re.sub(r'[,+]','', str(x)) for x in df['Target (Total orders)']])\n",
        "df['Target (Total orders)'] = df['Target (Total orders)'].round(decimals = 0)"
      ],
      "metadata": {
        "id": "n9WLXMm3bW5P"
      },
      "execution_count": 415,
      "outputs": []
    },
    {
      "cell_type": "code",
      "source": [
        "len(df)"
      ],
      "metadata": {
        "colab": {
          "base_uri": "https://localhost:8080/"
        },
        "id": "pJk61OpcO6gQ",
        "outputId": "89c524b2-14b5-4213-8112-1545843206ec"
      },
      "execution_count": 416,
      "outputs": [
        {
          "output_type": "execute_result",
          "data": {
            "text/plain": [
              "60"
            ]
          },
          "metadata": {},
          "execution_count": 416
        }
      ]
    },
    {
      "cell_type": "code",
      "source": [
        "#now we need to remove inconsistencies from the column names\n",
        "df.columns = df.columns.str.replace(\" \" , \"_\").str.lower()\n",
        "df = df.rename(columns={'week_of_the_month_(first_week,_second,_third,_fourth_or_fifth_week': 'week_of_the_month', 'day_of_the_week_(monday_to_friday)': 'day_of_the_week' , 'target_(total_orders)':'total_orders'})\n",
        "df.head()"
      ],
      "metadata": {
        "colab": {
          "base_uri": "https://localhost:8080/",
          "height": 287
        },
        "id": "lDPxUObTO7sX",
        "outputId": "2005495d-5512-4c90-86d8-f36a67072ba6"
      },
      "execution_count": 417,
      "outputs": [
        {
          "output_type": "execute_result",
          "data": {
            "text/plain": [
              "   week_of_the_month  day_of_the_week  non-urgent_order  urgent_order  \\\n",
              "0                  1                4           316.307       223.270   \n",
              "1                  1                5           128.633        96.042   \n",
              "2                  1                6            43.651        84.375   \n",
              "3                  2                2           171.297       127.667   \n",
              "4                  2                3            90.532       113.526   \n",
              "\n",
              "   order_type_a  order_type_b  order_type_c  fiscal_sector_orders  \\\n",
              "0        61.543       175.586       302.448                 0.000   \n",
              "1        38.058        56.037       130.580                 0.000   \n",
              "2        21.826        25.125        82.461                 1.386   \n",
              "3        41.542       113.294       162.284                18.156   \n",
              "4        37.679        56.618       116.220                 6.459   \n",
              "\n",
              "   orders_from_the_traffic_controller_sector  banking_orders_(1)  \\\n",
              "0                                      65556               44914   \n",
              "1                                      40419               21399   \n",
              "2                                      11992                3452   \n",
              "3                                      49971               33703   \n",
              "4                                      48534               19646   \n",
              "\n",
              "   banking_orders_(2)  banking_orders_(3)  total_orders  \n",
              "0              188411               14793         540.0  \n",
              "1               89461                7679         225.0  \n",
              "2               21305               14947         129.0  \n",
              "3               69054               18423         317.0  \n",
              "4               16411               20257         211.0  "
            ],
            "text/html": [
              "\n",
              "  <div id=\"df-c763a548-c3d5-47cf-a7dd-afe47de5d8d5\">\n",
              "    <div class=\"colab-df-container\">\n",
              "      <div>\n",
              "<style scoped>\n",
              "    .dataframe tbody tr th:only-of-type {\n",
              "        vertical-align: middle;\n",
              "    }\n",
              "\n",
              "    .dataframe tbody tr th {\n",
              "        vertical-align: top;\n",
              "    }\n",
              "\n",
              "    .dataframe thead th {\n",
              "        text-align: right;\n",
              "    }\n",
              "</style>\n",
              "<table border=\"1\" class=\"dataframe\">\n",
              "  <thead>\n",
              "    <tr style=\"text-align: right;\">\n",
              "      <th></th>\n",
              "      <th>week_of_the_month</th>\n",
              "      <th>day_of_the_week</th>\n",
              "      <th>non-urgent_order</th>\n",
              "      <th>urgent_order</th>\n",
              "      <th>order_type_a</th>\n",
              "      <th>order_type_b</th>\n",
              "      <th>order_type_c</th>\n",
              "      <th>fiscal_sector_orders</th>\n",
              "      <th>orders_from_the_traffic_controller_sector</th>\n",
              "      <th>banking_orders_(1)</th>\n",
              "      <th>banking_orders_(2)</th>\n",
              "      <th>banking_orders_(3)</th>\n",
              "      <th>total_orders</th>\n",
              "    </tr>\n",
              "  </thead>\n",
              "  <tbody>\n",
              "    <tr>\n",
              "      <th>0</th>\n",
              "      <td>1</td>\n",
              "      <td>4</td>\n",
              "      <td>316.307</td>\n",
              "      <td>223.270</td>\n",
              "      <td>61.543</td>\n",
              "      <td>175.586</td>\n",
              "      <td>302.448</td>\n",
              "      <td>0.000</td>\n",
              "      <td>65556</td>\n",
              "      <td>44914</td>\n",
              "      <td>188411</td>\n",
              "      <td>14793</td>\n",
              "      <td>540.0</td>\n",
              "    </tr>\n",
              "    <tr>\n",
              "      <th>1</th>\n",
              "      <td>1</td>\n",
              "      <td>5</td>\n",
              "      <td>128.633</td>\n",
              "      <td>96.042</td>\n",
              "      <td>38.058</td>\n",
              "      <td>56.037</td>\n",
              "      <td>130.580</td>\n",
              "      <td>0.000</td>\n",
              "      <td>40419</td>\n",
              "      <td>21399</td>\n",
              "      <td>89461</td>\n",
              "      <td>7679</td>\n",
              "      <td>225.0</td>\n",
              "    </tr>\n",
              "    <tr>\n",
              "      <th>2</th>\n",
              "      <td>1</td>\n",
              "      <td>6</td>\n",
              "      <td>43.651</td>\n",
              "      <td>84.375</td>\n",
              "      <td>21.826</td>\n",
              "      <td>25.125</td>\n",
              "      <td>82.461</td>\n",
              "      <td>1.386</td>\n",
              "      <td>11992</td>\n",
              "      <td>3452</td>\n",
              "      <td>21305</td>\n",
              "      <td>14947</td>\n",
              "      <td>129.0</td>\n",
              "    </tr>\n",
              "    <tr>\n",
              "      <th>3</th>\n",
              "      <td>2</td>\n",
              "      <td>2</td>\n",
              "      <td>171.297</td>\n",
              "      <td>127.667</td>\n",
              "      <td>41.542</td>\n",
              "      <td>113.294</td>\n",
              "      <td>162.284</td>\n",
              "      <td>18.156</td>\n",
              "      <td>49971</td>\n",
              "      <td>33703</td>\n",
              "      <td>69054</td>\n",
              "      <td>18423</td>\n",
              "      <td>317.0</td>\n",
              "    </tr>\n",
              "    <tr>\n",
              "      <th>4</th>\n",
              "      <td>2</td>\n",
              "      <td>3</td>\n",
              "      <td>90.532</td>\n",
              "      <td>113.526</td>\n",
              "      <td>37.679</td>\n",
              "      <td>56.618</td>\n",
              "      <td>116.220</td>\n",
              "      <td>6.459</td>\n",
              "      <td>48534</td>\n",
              "      <td>19646</td>\n",
              "      <td>16411</td>\n",
              "      <td>20257</td>\n",
              "      <td>211.0</td>\n",
              "    </tr>\n",
              "  </tbody>\n",
              "</table>\n",
              "</div>\n",
              "      <button class=\"colab-df-convert\" onclick=\"convertToInteractive('df-c763a548-c3d5-47cf-a7dd-afe47de5d8d5')\"\n",
              "              title=\"Convert this dataframe to an interactive table.\"\n",
              "              style=\"display:none;\">\n",
              "        \n",
              "  <svg xmlns=\"http://www.w3.org/2000/svg\" height=\"24px\"viewBox=\"0 0 24 24\"\n",
              "       width=\"24px\">\n",
              "    <path d=\"M0 0h24v24H0V0z\" fill=\"none\"/>\n",
              "    <path d=\"M18.56 5.44l.94 2.06.94-2.06 2.06-.94-2.06-.94-.94-2.06-.94 2.06-2.06.94zm-11 1L8.5 8.5l.94-2.06 2.06-.94-2.06-.94L8.5 2.5l-.94 2.06-2.06.94zm10 10l.94 2.06.94-2.06 2.06-.94-2.06-.94-.94-2.06-.94 2.06-2.06.94z\"/><path d=\"M17.41 7.96l-1.37-1.37c-.4-.4-.92-.59-1.43-.59-.52 0-1.04.2-1.43.59L10.3 9.45l-7.72 7.72c-.78.78-.78 2.05 0 2.83L4 21.41c.39.39.9.59 1.41.59.51 0 1.02-.2 1.41-.59l7.78-7.78 2.81-2.81c.8-.78.8-2.07 0-2.86zM5.41 20L4 18.59l7.72-7.72 1.47 1.35L5.41 20z\"/>\n",
              "  </svg>\n",
              "      </button>\n",
              "      \n",
              "  <style>\n",
              "    .colab-df-container {\n",
              "      display:flex;\n",
              "      flex-wrap:wrap;\n",
              "      gap: 12px;\n",
              "    }\n",
              "\n",
              "    .colab-df-convert {\n",
              "      background-color: #E8F0FE;\n",
              "      border: none;\n",
              "      border-radius: 50%;\n",
              "      cursor: pointer;\n",
              "      display: none;\n",
              "      fill: #1967D2;\n",
              "      height: 32px;\n",
              "      padding: 0 0 0 0;\n",
              "      width: 32px;\n",
              "    }\n",
              "\n",
              "    .colab-df-convert:hover {\n",
              "      background-color: #E2EBFA;\n",
              "      box-shadow: 0px 1px 2px rgba(60, 64, 67, 0.3), 0px 1px 3px 1px rgba(60, 64, 67, 0.15);\n",
              "      fill: #174EA6;\n",
              "    }\n",
              "\n",
              "    [theme=dark] .colab-df-convert {\n",
              "      background-color: #3B4455;\n",
              "      fill: #D2E3FC;\n",
              "    }\n",
              "\n",
              "    [theme=dark] .colab-df-convert:hover {\n",
              "      background-color: #434B5C;\n",
              "      box-shadow: 0px 1px 3px 1px rgba(0, 0, 0, 0.15);\n",
              "      filter: drop-shadow(0px 1px 2px rgba(0, 0, 0, 0.3));\n",
              "      fill: #FFFFFF;\n",
              "    }\n",
              "  </style>\n",
              "\n",
              "      <script>\n",
              "        const buttonEl =\n",
              "          document.querySelector('#df-c763a548-c3d5-47cf-a7dd-afe47de5d8d5 button.colab-df-convert');\n",
              "        buttonEl.style.display =\n",
              "          google.colab.kernel.accessAllowed ? 'block' : 'none';\n",
              "\n",
              "        async function convertToInteractive(key) {\n",
              "          const element = document.querySelector('#df-c763a548-c3d5-47cf-a7dd-afe47de5d8d5');\n",
              "          const dataTable =\n",
              "            await google.colab.kernel.invokeFunction('convertToInteractive',\n",
              "                                                     [key], {});\n",
              "          if (!dataTable) return;\n",
              "\n",
              "          const docLinkHtml = 'Like what you see? Visit the ' +\n",
              "            '<a target=\"_blank\" href=https://colab.research.google.com/notebooks/data_table.ipynb>data table notebook</a>'\n",
              "            + ' to learn more about interactive tables.';\n",
              "          element.innerHTML = '';\n",
              "          dataTable['output_type'] = 'display_data';\n",
              "          await google.colab.output.renderOutput(dataTable, element);\n",
              "          const docLink = document.createElement('div');\n",
              "          docLink.innerHTML = docLinkHtml;\n",
              "          element.appendChild(docLink);\n",
              "        }\n",
              "      </script>\n",
              "    </div>\n",
              "  </div>\n",
              "  "
            ]
          },
          "metadata": {},
          "execution_count": 417
        }
      ]
    },
    {
      "cell_type": "code",
      "source": [
        "#now our column of interest is \"total_orders\", we will train a model to predict total_orders.\n"
      ],
      "metadata": {
        "id": "d-CjvbtjQNKg"
      },
      "execution_count": 418,
      "outputs": []
    },
    {
      "cell_type": "markdown",
      "source": [
        "##Target Variable Analysis "
      ],
      "metadata": {
        "id": "ZCigC-DyTVcK"
      }
    },
    {
      "cell_type": "code",
      "source": [
        "#We need to have a close look at our target var. \n",
        "sns.displot(df[\"total_orders\"],kde=False)"
      ],
      "metadata": {
        "colab": {
          "base_uri": "https://localhost:8080/",
          "height": 386
        },
        "id": "sCQPEVyRTZe-",
        "outputId": "ea8d63b7-673a-4e76-f077-cb940e712c6f"
      },
      "execution_count": 419,
      "outputs": [
        {
          "output_type": "execute_result",
          "data": {
            "text/plain": [
              "<seaborn.axisgrid.FacetGrid at 0x7feb63783c50>"
            ]
          },
          "metadata": {},
          "execution_count": 419
        },
        {
          "output_type": "display_data",
          "data": {
            "text/plain": [
              "<Figure size 360x360 with 1 Axes>"
            ],
            "image/png": "[encoded data removed]"
          },
          "metadata": {
            "needs_background": "light"
          }
        }
      ]
    },
    {
      "cell_type": "code",
      "source": [
        "#we can see that most of the orders of the orders delievered in a day are around 350, Also the graph has\n",
        "#smaller tail, this means values are not far away from head."
      ],
      "metadata": {
        "id": "hy0-YCMnTyOa"
      },
      "execution_count": 420,
      "outputs": []
    },
    {
      "cell_type": "code",
      "source": [
        "#now we will check for any missing values in dataset\n",
        "df.isnull().sum()"
      ],
      "metadata": {
        "colab": {
          "base_uri": "https://localhost:8080/"
        },
        "id": "P_l4ggraVBJh",
        "outputId": "3d3bd511-64ea-4b75-9d09-26d25bb6063f"
      },
      "execution_count": 421,
      "outputs": [
        {
          "output_type": "execute_result",
          "data": {
            "text/plain": [
              "week_of_the_month                            0\n",
              "day_of_the_week                              0\n",
              "non-urgent_order                             0\n",
              "urgent_order                                 0\n",
              "order_type_a                                 0\n",
              "order_type_b                                 0\n",
              "order_type_c                                 0\n",
              "fiscal_sector_orders                         0\n",
              "orders_from_the_traffic_controller_sector    0\n",
              "banking_orders_(1)                           0\n",
              "banking_orders_(2)                           0\n",
              "banking_orders_(3)                           0\n",
              "total_orders                                 0\n",
              "dtype: int64"
            ]
          },
          "metadata": {},
          "execution_count": 421
        }
      ]
    },
    {
      "cell_type": "code",
      "source": [
        "#there are no null values in columns."
      ],
      "metadata": {
        "id": "riHQVfCSVTQe"
      },
      "execution_count": 422,
      "outputs": []
    },
    {
      "cell_type": "code",
      "source": [
        "#now we will split our data into train , test, and validation set\n",
        "n = len(df)\n",
        "n_train = int(0.6*n)\n",
        "n_test = int(0.2*n)\n",
        "n_val = int(0.2*n)\n",
        "#fixing random seed , so dfs are reproducible\n",
        "np.random.seed(2)\n",
        "#getting shuffled index\n",
        "idx = np.arange(n)\n",
        "np.random.shuffle(idx)\n",
        "\n",
        "#using shuffled index to get shuffled df\n",
        "df_shuffled = df.iloc[idx]\n",
        "\n",
        "df_train = df_shuffled[:n_train].copy()\n",
        "df_test = df_shuffled[n_train:n_train+n_test].copy()\n",
        "df_val = df_shuffled[n_train+n_test:].copy()"
      ],
      "metadata": {
        "id": "46hoqtDZVcZK"
      },
      "execution_count": 423,
      "outputs": []
    },
    {
      "cell_type": "code",
      "source": [
        "#now our data is splitted and shuffled\n",
        "df_train.head()"
      ],
      "metadata": {
        "colab": {
          "base_uri": "https://localhost:8080/",
          "height": 287
        },
        "id": "Eknd1U92Zkfr",
        "outputId": "33c41504-09a2-454a-d363-71baa9c22091"
      },
      "execution_count": 424,
      "outputs": [
        {
          "output_type": "execute_result",
          "data": {
            "text/plain": [
              "    week_of_the_month  day_of_the_week  non-urgent_order  urgent_order  \\\n",
              "36                  5                2           381.768       140.041   \n",
              "0                   1                4           316.307       223.270   \n",
              "47                  3                4           127.805       114.813   \n",
              "55                  5                2           158.716       158.133   \n",
              "23                  2                2           266.741       141.437   \n",
              "\n",
              "    order_type_a  order_type_b  order_type_c  fiscal_sector_orders  \\\n",
              "36       118.178       260.632       152.134                 9.135   \n",
              "0         61.543       175.586       302.448                 0.000   \n",
              "47        39.025       110.740        94.470                 1.617   \n",
              "55        59.131        92.639       165.079                 0.000   \n",
              "23        58.721       139.034       211.646                 1.223   \n",
              "\n",
              "    orders_from_the_traffic_controller_sector  banking_orders_(1)  \\\n",
              "36                                      34236              194216   \n",
              "0                                       65556               44914   \n",
              "47                                      33366               21103   \n",
              "55                                      32027               33282   \n",
              "23                                      58081               43333   \n",
              "\n",
              "    banking_orders_(2)  banking_orders_(3)  total_orders  \n",
              "36              136035               47601         531.0  \n",
              "0               188411               14793         540.0  \n",
              "47               84558               16683         244.0  \n",
              "55              128269                9287         317.0  \n",
              "23              135314               29716         409.0  "
            ],
            "text/html": [
              "\n",
              "  <div id=\"df-a119f5f7-278b-45aa-9916-c78111a6af8b\">\n",
              "    <div class=\"colab-df-container\">\n",
              "      <div>\n",
              "<style scoped>\n",
              "    .dataframe tbody tr th:only-of-type {\n",
              "        vertical-align: middle;\n",
              "    }\n",
              "\n",
              "    .dataframe tbody tr th {\n",
              "        vertical-align: top;\n",
              "    }\n",
              "\n",
              "    .dataframe thead th {\n",
              "        text-align: right;\n",
              "    }\n",
              "</style>\n",
              "<table border=\"1\" class=\"dataframe\">\n",
              "  <thead>\n",
              "    <tr style=\"text-align: right;\">\n",
              "      <th></th>\n",
              "      <th>week_of_the_month</th>\n",
              "      <th>day_of_the_week</th>\n",
              "      <th>non-urgent_order</th>\n",
              "      <th>urgent_order</th>\n",
              "      <th>order_type_a</th>\n",
              "      <th>order_type_b</th>\n",
              "      <th>order_type_c</th>\n",
              "      <th>fiscal_sector_orders</th>\n",
              "      <th>orders_from_the_traffic_controller_sector</th>\n",
              "      <th>banking_orders_(1)</th>\n",
              "      <th>banking_orders_(2)</th>\n",
              "      <th>banking_orders_(3)</th>\n",
              "      <th>total_orders</th>\n",
              "    </tr>\n",
              "  </thead>\n",
              "  <tbody>\n",
              "    <tr>\n",
              "      <th>36</th>\n",
              "      <td>5</td>\n",
              "      <td>2</td>\n",
              "      <td>381.768</td>\n",
              "      <td>140.041</td>\n",
              "      <td>118.178</td>\n",
              "      <td>260.632</td>\n",
              "      <td>152.134</td>\n",
              "      <td>9.135</td>\n",
              "      <td>34236</td>\n",
              "      <td>194216</td>\n",
              "      <td>136035</td>\n",
              "      <td>47601</td>\n",
              "      <td>531.0</td>\n",
              "    </tr>\n",
              "    <tr>\n",
              "      <th>0</th>\n",
              "      <td>1</td>\n",
              "      <td>4</td>\n",
              "      <td>316.307</td>\n",
              "      <td>223.270</td>\n",
              "      <td>61.543</td>\n",
              "      <td>175.586</td>\n",
              "      <td>302.448</td>\n",
              "      <td>0.000</td>\n",
              "      <td>65556</td>\n",
              "      <td>44914</td>\n",
              "      <td>188411</td>\n",
              "      <td>14793</td>\n",
              "      <td>540.0</td>\n",
              "    </tr>\n",
              "    <tr>\n",
              "      <th>47</th>\n",
              "      <td>3</td>\n",
              "      <td>4</td>\n",
              "      <td>127.805</td>\n",
              "      <td>114.813</td>\n",
              "      <td>39.025</td>\n",
              "      <td>110.740</td>\n",
              "      <td>94.470</td>\n",
              "      <td>1.617</td>\n",
              "      <td>33366</td>\n",
              "      <td>21103</td>\n",
              "      <td>84558</td>\n",
              "      <td>16683</td>\n",
              "      <td>244.0</td>\n",
              "    </tr>\n",
              "    <tr>\n",
              "      <th>55</th>\n",
              "      <td>5</td>\n",
              "      <td>2</td>\n",
              "      <td>158.716</td>\n",
              "      <td>158.133</td>\n",
              "      <td>59.131</td>\n",
              "      <td>92.639</td>\n",
              "      <td>165.079</td>\n",
              "      <td>0.000</td>\n",
              "      <td>32027</td>\n",
              "      <td>33282</td>\n",
              "      <td>128269</td>\n",
              "      <td>9287</td>\n",
              "      <td>317.0</td>\n",
              "    </tr>\n",
              "    <tr>\n",
              "      <th>23</th>\n",
              "      <td>2</td>\n",
              "      <td>2</td>\n",
              "      <td>266.741</td>\n",
              "      <td>141.437</td>\n",
              "      <td>58.721</td>\n",
              "      <td>139.034</td>\n",
              "      <td>211.646</td>\n",
              "      <td>1.223</td>\n",
              "      <td>58081</td>\n",
              "      <td>43333</td>\n",
              "      <td>135314</td>\n",
              "      <td>29716</td>\n",
              "      <td>409.0</td>\n",
              "    </tr>\n",
              "  </tbody>\n",
              "</table>\n",
              "</div>\n",
              "      <button class=\"colab-df-convert\" onclick=\"convertToInteractive('df-a119f5f7-278b-45aa-9916-c78111a6af8b')\"\n",
              "              title=\"Convert this dataframe to an interactive table.\"\n",
              "              style=\"display:none;\">\n",
              "        \n",
              "  <svg xmlns=\"http://www.w3.org/2000/svg\" height=\"24px\"viewBox=\"0 0 24 24\"\n",
              "       width=\"24px\">\n",
              "    <path d=\"M0 0h24v24H0V0z\" fill=\"none\"/>\n",
              "    <path d=\"M18.56 5.44l.94 2.06.94-2.06 2.06-.94-2.06-.94-.94-2.06-.94 2.06-2.06.94zm-11 1L8.5 8.5l.94-2.06 2.06-.94-2.06-.94L8.5 2.5l-.94 2.06-2.06.94zm10 10l.94 2.06.94-2.06 2.06-.94-2.06-.94-.94-2.06-.94 2.06-2.06.94z\"/><path d=\"M17.41 7.96l-1.37-1.37c-.4-.4-.92-.59-1.43-.59-.52 0-1.04.2-1.43.59L10.3 9.45l-7.72 7.72c-.78.78-.78 2.05 0 2.83L4 21.41c.39.39.9.59 1.41.59.51 0 1.02-.2 1.41-.59l7.78-7.78 2.81-2.81c.8-.78.8-2.07 0-2.86zM5.41 20L4 18.59l7.72-7.72 1.47 1.35L5.41 20z\"/>\n",
              "  </svg>\n",
              "      </button>\n",
              "      \n",
              "  <style>\n",
              "    .colab-df-container {\n",
              "      display:flex;\n",
              "      flex-wrap:wrap;\n",
              "      gap: 12px;\n",
              "    }\n",
              "\n",
              "    .colab-df-convert {\n",
              "      background-color: #E8F0FE;\n",
              "      border: none;\n",
              "      border-radius: 50%;\n",
              "      cursor: pointer;\n",
              "      display: none;\n",
              "      fill: #1967D2;\n",
              "      height: 32px;\n",
              "      padding: 0 0 0 0;\n",
              "      width: 32px;\n",
              "    }\n",
              "\n",
              "    .colab-df-convert:hover {\n",
              "      background-color: #E2EBFA;\n",
              "      box-shadow: 0px 1px 2px rgba(60, 64, 67, 0.3), 0px 1px 3px 1px rgba(60, 64, 67, 0.15);\n",
              "      fill: #174EA6;\n",
              "    }\n",
              "\n",
              "    [theme=dark] .colab-df-convert {\n",
              "      background-color: #3B4455;\n",
              "      fill: #D2E3FC;\n",
              "    }\n",
              "\n",
              "    [theme=dark] .colab-df-convert:hover {\n",
              "      background-color: #434B5C;\n",
              "      box-shadow: 0px 1px 3px 1px rgba(0, 0, 0, 0.15);\n",
              "      filter: drop-shadow(0px 1px 2px rgba(0, 0, 0, 0.3));\n",
              "      fill: #FFFFFF;\n",
              "    }\n",
              "  </style>\n",
              "\n",
              "      <script>\n",
              "        const buttonEl =\n",
              "          document.querySelector('#df-a119f5f7-278b-45aa-9916-c78111a6af8b button.colab-df-convert');\n",
              "        buttonEl.style.display =\n",
              "          google.colab.kernel.accessAllowed ? 'block' : 'none';\n",
              "\n",
              "        async function convertToInteractive(key) {\n",
              "          const element = document.querySelector('#df-a119f5f7-278b-45aa-9916-c78111a6af8b');\n",
              "          const dataTable =\n",
              "            await google.colab.kernel.invokeFunction('convertToInteractive',\n",
              "                                                     [key], {});\n",
              "          if (!dataTable) return;\n",
              "\n",
              "          const docLinkHtml = 'Like what you see? Visit the ' +\n",
              "            '<a target=\"_blank\" href=https://colab.research.google.com/notebooks/data_table.ipynb>data table notebook</a>'\n",
              "            + ' to learn more about interactive tables.';\n",
              "          element.innerHTML = '';\n",
              "          dataTable['output_type'] = 'display_data';\n",
              "          await google.colab.output.renderOutput(dataTable, element);\n",
              "          const docLink = document.createElement('div');\n",
              "          docLink.innerHTML = docLinkHtml;\n",
              "          element.appendChild(docLink);\n",
              "        }\n",
              "      </script>\n",
              "    </div>\n",
              "  </div>\n",
              "  "
            ]
          },
          "metadata": {},
          "execution_count": 424
        }
      ]
    },
    {
      "cell_type": "code",
      "source": [
        "df_test.head()"
      ],
      "metadata": {
        "colab": {
          "base_uri": "https://localhost:8080/",
          "height": 287
        },
        "id": "axBAZ9ebbJpp",
        "outputId": "4178cf90-7f15-4c30-bc2f-638552f01b10"
      },
      "execution_count": 425,
      "outputs": [
        {
          "output_type": "execute_result",
          "data": {
            "text/plain": [
              "    week_of_the_month  day_of_the_week  non-urgent_order  urgent_order  \\\n",
              "51                  4                3           150.257       116.959   \n",
              "33                  4                4           235.106       110.874   \n",
              "4                   2                3            90.532       113.526   \n",
              "38                  5                4           193.957       111.859   \n",
              "3                   2                2           171.297       127.667   \n",
              "\n",
              "    order_type_a  order_type_b  order_type_c  fiscal_sector_orders  \\\n",
              "51        34.193       115.536       118.911                 1.424   \n",
              "33        70.376       154.242       121.417                55.000   \n",
              "4         37.679        56.618       116.220                 6.459   \n",
              "38        47.002        99.892       159.462               540.000   \n",
              "3         41.542       113.294       162.284                18.156   \n",
              "\n",
              "    orders_from_the_traffic_controller_sector  banking_orders_(1)  \\\n",
              "51                                      51346               19782   \n",
              "33                                      23257              163452   \n",
              "4                                       48534               19646   \n",
              "38                                      59179               94460   \n",
              "3                                       49971               33703   \n",
              "\n",
              "    banking_orders_(2)  banking_orders_(3)  total_orders  \n",
              "51               89704               12182         269.0  \n",
              "33               63699               33805         346.0  \n",
              "4                16411               20257         211.0  \n",
              "38               54772               34616         306.0  \n",
              "3                69054               18423         317.0  "
            ],
            "text/html": [
              "\n",
              "  <div id=\"df-9ced7764-fe47-4e6f-8696-dbae63429152\">\n",
              "    <div class=\"colab-df-container\">\n",
              "      <div>\n",
              "<style scoped>\n",
              "    .dataframe tbody tr th:only-of-type {\n",
              "        vertical-align: middle;\n",
              "    }\n",
              "\n",
              "    .dataframe tbody tr th {\n",
              "        vertical-align: top;\n",
              "    }\n",
              "\n",
              "    .dataframe thead th {\n",
              "        text-align: right;\n",
              "    }\n",
              "</style>\n",
              "<table border=\"1\" class=\"dataframe\">\n",
              "  <thead>\n",
              "    <tr style=\"text-align: right;\">\n",
              "      <th></th>\n",
              "      <th>week_of_the_month</th>\n",
              "      <th>day_of_the_week</th>\n",
              "      <th>non-urgent_order</th>\n",
              "      <th>urgent_order</th>\n",
              "      <th>order_type_a</th>\n",
              "      <th>order_type_b</th>\n",
              "      <th>order_type_c</th>\n",
              "      <th>fiscal_sector_orders</th>\n",
              "      <th>orders_from_the_traffic_controller_sector</th>\n",
              "      <th>banking_orders_(1)</th>\n",
              "      <th>banking_orders_(2)</th>\n",
              "      <th>banking_orders_(3)</th>\n",
              "      <th>total_orders</th>\n",
              "    </tr>\n",
              "  </thead>\n",
              "  <tbody>\n",
              "    <tr>\n",
              "      <th>51</th>\n",
              "      <td>4</td>\n",
              "      <td>3</td>\n",
              "      <td>150.257</td>\n",
              "      <td>116.959</td>\n",
              "      <td>34.193</td>\n",
              "      <td>115.536</td>\n",
              "      <td>118.911</td>\n",
              "      <td>1.424</td>\n",
              "      <td>51346</td>\n",
              "      <td>19782</td>\n",
              "      <td>89704</td>\n",
              "      <td>12182</td>\n",
              "      <td>269.0</td>\n",
              "    </tr>\n",
              "    <tr>\n",
              "      <th>33</th>\n",
              "      <td>4</td>\n",
              "      <td>4</td>\n",
              "      <td>235.106</td>\n",
              "      <td>110.874</td>\n",
              "      <td>70.376</td>\n",
              "      <td>154.242</td>\n",
              "      <td>121.417</td>\n",
              "      <td>55.000</td>\n",
              "      <td>23257</td>\n",
              "      <td>163452</td>\n",
              "      <td>63699</td>\n",
              "      <td>33805</td>\n",
              "      <td>346.0</td>\n",
              "    </tr>\n",
              "    <tr>\n",
              "      <th>4</th>\n",
              "      <td>2</td>\n",
              "      <td>3</td>\n",
              "      <td>90.532</td>\n",
              "      <td>113.526</td>\n",
              "      <td>37.679</td>\n",
              "      <td>56.618</td>\n",
              "      <td>116.220</td>\n",
              "      <td>6.459</td>\n",
              "      <td>48534</td>\n",
              "      <td>19646</td>\n",
              "      <td>16411</td>\n",
              "      <td>20257</td>\n",
              "      <td>211.0</td>\n",
              "    </tr>\n",
              "    <tr>\n",
              "      <th>38</th>\n",
              "      <td>5</td>\n",
              "      <td>4</td>\n",
              "      <td>193.957</td>\n",
              "      <td>111.859</td>\n",
              "      <td>47.002</td>\n",
              "      <td>99.892</td>\n",
              "      <td>159.462</td>\n",
              "      <td>540.000</td>\n",
              "      <td>59179</td>\n",
              "      <td>94460</td>\n",
              "      <td>54772</td>\n",
              "      <td>34616</td>\n",
              "      <td>306.0</td>\n",
              "    </tr>\n",
              "    <tr>\n",
              "      <th>3</th>\n",
              "      <td>2</td>\n",
              "      <td>2</td>\n",
              "      <td>171.297</td>\n",
              "      <td>127.667</td>\n",
              "      <td>41.542</td>\n",
              "      <td>113.294</td>\n",
              "      <td>162.284</td>\n",
              "      <td>18.156</td>\n",
              "      <td>49971</td>\n",
              "      <td>33703</td>\n",
              "      <td>69054</td>\n",
              "      <td>18423</td>\n",
              "      <td>317.0</td>\n",
              "    </tr>\n",
              "  </tbody>\n",
              "</table>\n",
              "</div>\n",
              "      <button class=\"colab-df-convert\" onclick=\"convertToInteractive('df-9ced7764-fe47-4e6f-8696-dbae63429152')\"\n",
              "              title=\"Convert this dataframe to an interactive table.\"\n",
              "              style=\"display:none;\">\n",
              "        \n",
              "  <svg xmlns=\"http://www.w3.org/2000/svg\" height=\"24px\"viewBox=\"0 0 24 24\"\n",
              "       width=\"24px\">\n",
              "    <path d=\"M0 0h24v24H0V0z\" fill=\"none\"/>\n",
              "    <path d=\"M18.56 5.44l.94 2.06.94-2.06 2.06-.94-2.06-.94-.94-2.06-.94 2.06-2.06.94zm-11 1L8.5 8.5l.94-2.06 2.06-.94-2.06-.94L8.5 2.5l-.94 2.06-2.06.94zm10 10l.94 2.06.94-2.06 2.06-.94-2.06-.94-.94-2.06-.94 2.06-2.06.94z\"/><path d=\"M17.41 7.96l-1.37-1.37c-.4-.4-.92-.59-1.43-.59-.52 0-1.04.2-1.43.59L10.3 9.45l-7.72 7.72c-.78.78-.78 2.05 0 2.83L4 21.41c.39.39.9.59 1.41.59.51 0 1.02-.2 1.41-.59l7.78-7.78 2.81-2.81c.8-.78.8-2.07 0-2.86zM5.41 20L4 18.59l7.72-7.72 1.47 1.35L5.41 20z\"/>\n",
              "  </svg>\n",
              "      </button>\n",
              "      \n",
              "  <style>\n",
              "    .colab-df-container {\n",
              "      display:flex;\n",
              "      flex-wrap:wrap;\n",
              "      gap: 12px;\n",
              "    }\n",
              "\n",
              "    .colab-df-convert {\n",
              "      background-color: #E8F0FE;\n",
              "      border: none;\n",
              "      border-radius: 50%;\n",
              "      cursor: pointer;\n",
              "      display: none;\n",
              "      fill: #1967D2;\n",
              "      height: 32px;\n",
              "      padding: 0 0 0 0;\n",
              "      width: 32px;\n",
              "    }\n",
              "\n",
              "    .colab-df-convert:hover {\n",
              "      background-color: #E2EBFA;\n",
              "      box-shadow: 0px 1px 2px rgba(60, 64, 67, 0.3), 0px 1px 3px 1px rgba(60, 64, 67, 0.15);\n",
              "      fill: #174EA6;\n",
              "    }\n",
              "\n",
              "    [theme=dark] .colab-df-convert {\n",
              "      background-color: #3B4455;\n",
              "      fill: #D2E3FC;\n",
              "    }\n",
              "\n",
              "    [theme=dark] .colab-df-convert:hover {\n",
              "      background-color: #434B5C;\n",
              "      box-shadow: 0px 1px 3px 1px rgba(0, 0, 0, 0.15);\n",
              "      filter: drop-shadow(0px 1px 2px rgba(0, 0, 0, 0.3));\n",
              "      fill: #FFFFFF;\n",
              "    }\n",
              "  </style>\n",
              "\n",
              "      <script>\n",
              "        const buttonEl =\n",
              "          document.querySelector('#df-9ced7764-fe47-4e6f-8696-dbae63429152 button.colab-df-convert');\n",
              "        buttonEl.style.display =\n",
              "          google.colab.kernel.accessAllowed ? 'block' : 'none';\n",
              "\n",
              "        async function convertToInteractive(key) {\n",
              "          const element = document.querySelector('#df-9ced7764-fe47-4e6f-8696-dbae63429152');\n",
              "          const dataTable =\n",
              "            await google.colab.kernel.invokeFunction('convertToInteractive',\n",
              "                                                     [key], {});\n",
              "          if (!dataTable) return;\n",
              "\n",
              "          const docLinkHtml = 'Like what you see? Visit the ' +\n",
              "            '<a target=\"_blank\" href=https://colab.research.google.com/notebooks/data_table.ipynb>data table notebook</a>'\n",
              "            + ' to learn more about interactive tables.';\n",
              "          element.innerHTML = '';\n",
              "          dataTable['output_type'] = 'display_data';\n",
              "          await google.colab.output.renderOutput(dataTable, element);\n",
              "          const docLink = document.createElement('div');\n",
              "          docLink.innerHTML = docLinkHtml;\n",
              "          element.appendChild(docLink);\n",
              "        }\n",
              "      </script>\n",
              "    </div>\n",
              "  </div>\n",
              "  "
            ]
          },
          "metadata": {},
          "execution_count": 425
        }
      ]
    },
    {
      "cell_type": "code",
      "source": [
        "df_val.head()"
      ],
      "metadata": {
        "colab": {
          "base_uri": "https://localhost:8080/",
          "height": 287
        },
        "id": "AQB3f0AibQQ3",
        "outputId": "6ddae8b6-559e-44e4-ae97-436f9dff1e02"
      },
      "execution_count": 426,
      "outputs": [
        {
          "output_type": "execute_result",
          "data": {
            "text/plain": [
              "    week_of_the_month  day_of_the_week  non-urgent_order  urgent_order  \\\n",
              "31                  3                5           170.868       131.463   \n",
              "34                  4                5           168.179       125.119   \n",
              "7                   2                6           119.379       113.870   \n",
              "59                  5                6           192.116       121.106   \n",
              "11                  3                5           145.865        91.180   \n",
              "\n",
              "    order_type_a  order_type_b  order_type_c  fiscal_sector_orders  \\\n",
              "31        45.550       120.548       157.505                21.272   \n",
              "34        71.068       100.544       136.033                14.347   \n",
              "7         38.584        85.961       124.413                15.709   \n",
              "59       107.568       121.152       103.180                18.678   \n",
              "11        43.851        66.277       133.440                 6.523   \n",
              "\n",
              "    orders_from_the_traffic_controller_sector  banking_orders_(1)  \\\n",
              "31                                      42534               79556   \n",
              "34                                      28072               95989   \n",
              "7                                       35033               26278   \n",
              "59                                      27328              108072   \n",
              "11                                      66910               17768   \n",
              "\n",
              "    banking_orders_(2)  banking_orders_(3)  total_orders  \n",
              "31               50433               36483         324.0  \n",
              "34               50763               55445         308.0  \n",
              "7                56665               18502         249.0  \n",
              "59               56015               10690         332.0  \n",
              "11               36693               29046         244.0  "
            ],
            "text/html": [
              "\n",
              "  <div id=\"df-339e7ea4-08d7-4473-9ef6-5c73d8abb778\">\n",
              "    <div class=\"colab-df-container\">\n",
              "      <div>\n",
              "<style scoped>\n",
              "    .dataframe tbody tr th:only-of-type {\n",
              "        vertical-align: middle;\n",
              "    }\n",
              "\n",
              "    .dataframe tbody tr th {\n",
              "        vertical-align: top;\n",
              "    }\n",
              "\n",
              "    .dataframe thead th {\n",
              "        text-align: right;\n",
              "    }\n",
              "</style>\n",
              "<table border=\"1\" class=\"dataframe\">\n",
              "  <thead>\n",
              "    <tr style=\"text-align: right;\">\n",
              "      <th></th>\n",
              "      <th>week_of_the_month</th>\n",
              "      <th>day_of_the_week</th>\n",
              "      <th>non-urgent_order</th>\n",
              "      <th>urgent_order</th>\n",
              "      <th>order_type_a</th>\n",
              "      <th>order_type_b</th>\n",
              "      <th>order_type_c</th>\n",
              "      <th>fiscal_sector_orders</th>\n",
              "      <th>orders_from_the_traffic_controller_sector</th>\n",
              "      <th>banking_orders_(1)</th>\n",
              "      <th>banking_orders_(2)</th>\n",
              "      <th>banking_orders_(3)</th>\n",
              "      <th>total_orders</th>\n",
              "    </tr>\n",
              "  </thead>\n",
              "  <tbody>\n",
              "    <tr>\n",
              "      <th>31</th>\n",
              "      <td>3</td>\n",
              "      <td>5</td>\n",
              "      <td>170.868</td>\n",
              "      <td>131.463</td>\n",
              "      <td>45.550</td>\n",
              "      <td>120.548</td>\n",
              "      <td>157.505</td>\n",
              "      <td>21.272</td>\n",
              "      <td>42534</td>\n",
              "      <td>79556</td>\n",
              "      <td>50433</td>\n",
              "      <td>36483</td>\n",
              "      <td>324.0</td>\n",
              "    </tr>\n",
              "    <tr>\n",
              "      <th>34</th>\n",
              "      <td>4</td>\n",
              "      <td>5</td>\n",
              "      <td>168.179</td>\n",
              "      <td>125.119</td>\n",
              "      <td>71.068</td>\n",
              "      <td>100.544</td>\n",
              "      <td>136.033</td>\n",
              "      <td>14.347</td>\n",
              "      <td>28072</td>\n",
              "      <td>95989</td>\n",
              "      <td>50763</td>\n",
              "      <td>55445</td>\n",
              "      <td>308.0</td>\n",
              "    </tr>\n",
              "    <tr>\n",
              "      <th>7</th>\n",
              "      <td>2</td>\n",
              "      <td>6</td>\n",
              "      <td>119.379</td>\n",
              "      <td>113.870</td>\n",
              "      <td>38.584</td>\n",
              "      <td>85.961</td>\n",
              "      <td>124.413</td>\n",
              "      <td>15.709</td>\n",
              "      <td>35033</td>\n",
              "      <td>26278</td>\n",
              "      <td>56665</td>\n",
              "      <td>18502</td>\n",
              "      <td>249.0</td>\n",
              "    </tr>\n",
              "    <tr>\n",
              "      <th>59</th>\n",
              "      <td>5</td>\n",
              "      <td>6</td>\n",
              "      <td>192.116</td>\n",
              "      <td>121.106</td>\n",
              "      <td>107.568</td>\n",
              "      <td>121.152</td>\n",
              "      <td>103.180</td>\n",
              "      <td>18.678</td>\n",
              "      <td>27328</td>\n",
              "      <td>108072</td>\n",
              "      <td>56015</td>\n",
              "      <td>10690</td>\n",
              "      <td>332.0</td>\n",
              "    </tr>\n",
              "    <tr>\n",
              "      <th>11</th>\n",
              "      <td>3</td>\n",
              "      <td>5</td>\n",
              "      <td>145.865</td>\n",
              "      <td>91.180</td>\n",
              "      <td>43.851</td>\n",
              "      <td>66.277</td>\n",
              "      <td>133.440</td>\n",
              "      <td>6.523</td>\n",
              "      <td>66910</td>\n",
              "      <td>17768</td>\n",
              "      <td>36693</td>\n",
              "      <td>29046</td>\n",
              "      <td>244.0</td>\n",
              "    </tr>\n",
              "  </tbody>\n",
              "</table>\n",
              "</div>\n",
              "      <button class=\"colab-df-convert\" onclick=\"convertToInteractive('df-339e7ea4-08d7-4473-9ef6-5c73d8abb778')\"\n",
              "              title=\"Convert this dataframe to an interactive table.\"\n",
              "              style=\"display:none;\">\n",
              "        \n",
              "  <svg xmlns=\"http://www.w3.org/2000/svg\" height=\"24px\"viewBox=\"0 0 24 24\"\n",
              "       width=\"24px\">\n",
              "    <path d=\"M0 0h24v24H0V0z\" fill=\"none\"/>\n",
              "    <path d=\"M18.56 5.44l.94 2.06.94-2.06 2.06-.94-2.06-.94-.94-2.06-.94 2.06-2.06.94zm-11 1L8.5 8.5l.94-2.06 2.06-.94-2.06-.94L8.5 2.5l-.94 2.06-2.06.94zm10 10l.94 2.06.94-2.06 2.06-.94-2.06-.94-.94-2.06-.94 2.06-2.06.94z\"/><path d=\"M17.41 7.96l-1.37-1.37c-.4-.4-.92-.59-1.43-.59-.52 0-1.04.2-1.43.59L10.3 9.45l-7.72 7.72c-.78.78-.78 2.05 0 2.83L4 21.41c.39.39.9.59 1.41.59.51 0 1.02-.2 1.41-.59l7.78-7.78 2.81-2.81c.8-.78.8-2.07 0-2.86zM5.41 20L4 18.59l7.72-7.72 1.47 1.35L5.41 20z\"/>\n",
              "  </svg>\n",
              "      </button>\n",
              "      \n",
              "  <style>\n",
              "    .colab-df-container {\n",
              "      display:flex;\n",
              "      flex-wrap:wrap;\n",
              "      gap: 12px;\n",
              "    }\n",
              "\n",
              "    .colab-df-convert {\n",
              "      background-color: #E8F0FE;\n",
              "      border: none;\n",
              "      border-radius: 50%;\n",
              "      cursor: pointer;\n",
              "      display: none;\n",
              "      fill: #1967D2;\n",
              "      height: 32px;\n",
              "      padding: 0 0 0 0;\n",
              "      width: 32px;\n",
              "    }\n",
              "\n",
              "    .colab-df-convert:hover {\n",
              "      background-color: #E2EBFA;\n",
              "      box-shadow: 0px 1px 2px rgba(60, 64, 67, 0.3), 0px 1px 3px 1px rgba(60, 64, 67, 0.15);\n",
              "      fill: #174EA6;\n",
              "    }\n",
              "\n",
              "    [theme=dark] .colab-df-convert {\n",
              "      background-color: #3B4455;\n",
              "      fill: #D2E3FC;\n",
              "    }\n",
              "\n",
              "    [theme=dark] .colab-df-convert:hover {\n",
              "      background-color: #434B5C;\n",
              "      box-shadow: 0px 1px 3px 1px rgba(0, 0, 0, 0.15);\n",
              "      filter: drop-shadow(0px 1px 2px rgba(0, 0, 0, 0.3));\n",
              "      fill: #FFFFFF;\n",
              "    }\n",
              "  </style>\n",
              "\n",
              "      <script>\n",
              "        const buttonEl =\n",
              "          document.querySelector('#df-339e7ea4-08d7-4473-9ef6-5c73d8abb778 button.colab-df-convert');\n",
              "        buttonEl.style.display =\n",
              "          google.colab.kernel.accessAllowed ? 'block' : 'none';\n",
              "\n",
              "        async function convertToInteractive(key) {\n",
              "          const element = document.querySelector('#df-339e7ea4-08d7-4473-9ef6-5c73d8abb778');\n",
              "          const dataTable =\n",
              "            await google.colab.kernel.invokeFunction('convertToInteractive',\n",
              "                                                     [key], {});\n",
              "          if (!dataTable) return;\n",
              "\n",
              "          const docLinkHtml = 'Like what you see? Visit the ' +\n",
              "            '<a target=\"_blank\" href=https://colab.research.google.com/notebooks/data_table.ipynb>data table notebook</a>'\n",
              "            + ' to learn more about interactive tables.';\n",
              "          element.innerHTML = '';\n",
              "          dataTable['output_type'] = 'display_data';\n",
              "          await google.colab.output.renderOutput(dataTable, element);\n",
              "          const docLink = document.createElement('div');\n",
              "          docLink.innerHTML = docLinkHtml;\n",
              "          element.appendChild(docLink);\n",
              "        }\n",
              "      </script>\n",
              "    </div>\n",
              "  </div>\n",
              "  "
            ]
          },
          "metadata": {},
          "execution_count": 426
        }
      ]
    },
    {
      "cell_type": "code",
      "source": [
        "#now we need to get actual target values for each spilitted df\n",
        "y_train = df_train[\"total_orders\"]\n",
        "y_test = df_test[\"total_orders\"]\n",
        "y_val = df_val[\"total_orders\"]\n"
      ],
      "metadata": {
        "id": "7zxx-NmqcDFZ"
      },
      "execution_count": 427,
      "outputs": []
    },
    {
      "cell_type": "code",
      "source": [
        "#also we need to delete y values from splitted dataset , so we don't use them accidentally\n",
        "del(df_train[\"total_orders\"])\n",
        "del(df_test[\"total_orders\"])\n",
        "del(df_val[\"total_orders\"])"
      ],
      "metadata": {
        "id": "o6LivPwcczLw"
      },
      "execution_count": 428,
      "outputs": []
    },
    {
      "cell_type": "code",
      "source": [
        "#our numerical features are\n",
        "base = ['non-urgent_order','urgent_order','order_type_a','order_type_b','order_type_c','fiscal_sector_orders',\n",
        "        'orders_from_the_traffic_controller_sector', 'banking_orders_(1)'\t,'banking_orders_(2)','banking_orders_(3)']"
      ],
      "metadata": {
        "id": "NEMon0KSlR2p"
      },
      "execution_count": 429,
      "outputs": []
    },
    {
      "cell_type": "code",
      "source": [
        "#as we can see that we have some categorical variable such as week_of_the_month and day_of_the_week\n",
        "#we need to prepare them for our model\n",
        "def prepare_X(df):\n",
        "  df = df.copy()\n",
        "  features = base.copy()\n",
        "  for v in [1,2,3,4,5]:\n",
        "    feature = '%s_week_of_the_month'%v\n",
        "    df[feature] = (df['week_of_the_month']==v).astype(int)\n",
        "    features.append(feature)\n",
        "  for v in [2,3,4,5,6]:\n",
        "    feature = '%s_day_of_the_week'%v\n",
        "    df[feature] = (df['day_of_the_week']==v).astype(int)\n",
        "    features.append(feature)\n",
        "  df_num = df[features]\n",
        "  return df_num"
      ],
      "metadata": {
        "id": "xKSgnJYrjeYb"
      },
      "execution_count": 430,
      "outputs": []
    },
    {
      "cell_type": "code",
      "source": [
        "#now we will train our model on df_train \n",
        "reg = linear_model.LinearRegression()\n",
        "X_train = prepare_X(df_train)\n",
        "reg.fit(X_train , y_train)"
      ],
      "metadata": {
        "colab": {
          "base_uri": "https://localhost:8080/"
        },
        "id": "ZE8kwjjCd81F",
        "outputId": "8d48b3f6-da0a-4f3d-b0ca-1d25ee06c4cf"
      },
      "execution_count": 431,
      "outputs": [
        {
          "output_type": "execute_result",
          "data": {
            "text/plain": [
              "LinearRegression()"
            ]
          },
          "metadata": {},
          "execution_count": 431
        }
      ]
    },
    {
      "cell_type": "code",
      "source": [
        "#now we will take a look at individual weights \n",
        "reg.coef_"
      ],
      "metadata": {
        "colab": {
          "base_uri": "https://localhost:8080/"
        },
        "id": "M_aSHUMQexBV",
        "outputId": "013e3a45-3cab-45b9-842f-2a9b83698df1"
      },
      "execution_count": 432,
      "outputs": [
        {
          "output_type": "execute_result",
          "data": {
            "text/plain": [
              "array([-1.94572819e-02, -1.94004498e-02,  1.03500000e+00,  1.00801094e+00,\n",
              "        1.01709963e+00, -7.12274491e-04,  6.10263179e-07,  2.58847762e-06,\n",
              "        1.12313456e-05,  1.57406383e-06,  1.03462724e-01,  7.52220651e-02,\n",
              "       -8.96650184e-02,  1.32310442e-01, -2.21330213e-01, -1.75890044e-01,\n",
              "        1.54891448e-01,  1.04459185e-01, -3.87326811e-02, -4.47279082e-02])"
            ]
          },
          "metadata": {},
          "execution_count": 432
        }
      ]
    },
    {
      "cell_type": "code",
      "source": [
        "#alse we take a look at base weights \n",
        "reg.intercept_"
      ],
      "metadata": {
        "colab": {
          "base_uri": "https://localhost:8080/"
        },
        "id": "wvxHgZt-e5AR",
        "outputId": "65a5769b-f2e4-4f59-8b38-a1ce661ce0f3"
      },
      "execution_count": 433,
      "outputs": [
        {
          "output_type": "execute_result",
          "data": {
            "text/plain": [
              "-0.4897783479704003"
            ]
          },
          "metadata": {},
          "execution_count": 433
        }
      ]
    },
    {
      "cell_type": "code",
      "source": [
        "#now we will predict the values of our validation set \n",
        "X_val  = prepare_X(df_val)\n",
        "y_pred = reg.predict(X_val)"
      ],
      "metadata": {
        "id": "5DnUUx57gG0P"
      },
      "execution_count": 434,
      "outputs": []
    },
    {
      "cell_type": "code",
      "source": [
        "#now compare the predicted values with actual values , we will use rmse method\n",
        "rmse = np.sqrt(mean_squared_error(y_val, y_pred))\n",
        "rmse"
      ],
      "metadata": {
        "colab": {
          "base_uri": "https://localhost:8080/"
        },
        "id": "BE5TPBgDgT7t",
        "outputId": "5b5f5934-d2a6-4d5e-e0ad-d4b71620ddbe"
      },
      "execution_count": 435,
      "outputs": [
        {
          "output_type": "execute_result",
          "data": {
            "text/plain": [
              "0.5050535538649148"
            ]
          },
          "metadata": {},
          "execution_count": 435
        }
      ]
    },
    {
      "cell_type": "code",
      "source": [
        "#As we can see that our model has very small rmse, it means it has learned very well.\n",
        "#Let us look , if we use ridge regression can we improve our model\n",
        "#we will check for multiple values of alpha\n",
        "for a in [0.0001,0.001 , 0.01 , 0.1 , 1 , 10, 15]:\n",
        "  ridge = linear_model.Ridge(alpha = a)\n",
        "  ridge.fit(X_train, y_train)\n",
        "  X_val = prepare_X(df_val)\n",
        "  y_pred = ridge.predict(X_val) \n",
        "  #let us check rmse\n",
        "  rmse = np.sqrt(mean_squared_error(y_val, y_pred))\n",
        "  print(a , rmse)"
      ],
      "metadata": {
        "colab": {
          "base_uri": "https://localhost:8080/"
        },
        "id": "HkfVLGqdh19r",
        "outputId": "390af845-8b4f-4e53-e4c0-90118ee5903f"
      },
      "execution_count": 436,
      "outputs": [
        {
          "output_type": "stream",
          "name": "stdout",
          "text": [
            "0.0001 0.5050373224744571\n",
            "0.001 0.5048913531645979\n",
            "0.01 0.5034427790202075\n",
            "0.1 0.4899891570098272\n",
            "1 0.41399450285503386\n",
            "10 0.3573013044722597\n",
            "15 0.3860713366813574\n"
          ]
        }
      ]
    },
    {
      "cell_type": "code",
      "source": [
        "#As we can see that for any value of alpha , the model is etting better than linear regression model, so we \n",
        "#chose ridge regression with alpha = 1 model as our final model."
      ],
      "metadata": {
        "id": "M9kupRmzk7Rl"
      },
      "execution_count": 437,
      "outputs": []
    },
    {
      "cell_type": "code",
      "source": [
        "#now let us see how well does our model do on test set\n",
        "ridge = linear_model.Ridge(alpha = 1)\n",
        "ridge.fit(X_train, y_train)\n",
        "X_test = prepare_X(df_test)\n",
        "y_pred = ridge.predict(X_test)\n",
        "\n",
        "#calculating rmse\n",
        "rmse = np.sqrt(mean_squared_error(y_test, y_pred))\n",
        "print('rmse for validation set is 0.3573')\n",
        "print(f'rmse for test set is {rmse}')\n"
      ],
      "metadata": {
        "colab": {
          "base_uri": "https://localhost:8080/"
        },
        "id": "BuW8VXVqmWcF",
        "outputId": "5c69766b-20fe-446b-8d30-7a06e3b37e37"
      },
      "execution_count": 438,
      "outputs": [
        {
          "output_type": "stream",
          "name": "stdout",
          "text": [
            "rmse for validation set is 0.3573\n",
            "rmse for test set is 0.40009875633902864\n"
          ]
        }
      ]
    },
    {
      "cell_type": "code",
      "source": [
        "#As we can see that our model has also performed well on test set"
      ],
      "metadata": {
        "id": "lCTkRb0nnUVu"
      },
      "execution_count": 439,
      "outputs": []
    },
    {
      "cell_type": "markdown",
      "source": [
        "Now let us assume the business gets following orders on a day"
      ],
      "metadata": {
        "id": "FfElL77WniUR"
      }
    },
    {
      "cell_type": "code",
      "source": [
        "order = {\n",
        "    'week_of_the_month':2,\n",
        "    'day_of_the_week': 5,\n",
        "    'non-urgent_order':118.552,\n",
        "    'urgent_order':100.417,\n",
        "    'order_type_a':54.401,\n",
        "    'order_type_b':75.61,\n",
        "    'order_type_c':105.584,\n",
        "    'fiscal_sector_orders':16.629,\n",
        "    'orders_from_the_traffic_controller_sector':40423.000,\n",
        "    'banking_orders_(1)':24682.000,\n",
        "    'banking_orders_(2)':47563.000,\n",
        "    'banking_orders_(3)':35314.000}\n",
        "order = pd.DataFrame([order])\n",
        "\n",
        "order = prepare_X(order)\n",
        "y_pred = ridge.predict(order)\n",
        "y_pred"
      ],
      "metadata": {
        "colab": {
          "base_uri": "https://localhost:8080/"
        },
        "id": "d5Eg05zVnuJz",
        "outputId": "e4c33367-0dde-45b4-bc5b-5b7df7f019cf"
      },
      "execution_count": 440,
      "outputs": [
        {
          "output_type": "execute_result",
          "data": {
            "text/plain": [
              "array([235.80695149])"
            ]
          },
          "metadata": {},
          "execution_count": 440
        }
      ]
    },
    {
      "cell_type": "markdown",
      "source": [
        "**As we can see that our model predicted the 235.8 total orders while the original total orders were 235, that's mean our model predicted right value**"
      ],
      "metadata": {
        "id": "D0jbTheEuir4"
      }
    },
    {
      "cell_type": "markdown",
      "source": [
        "We used two different model that is linear regression and ridge regression, we found out that our model learned well using ridge regression so we used that with alpha value of 1. \n",
        "This model can further be used to evaluate employee performance by predicting the target orders before. \n"
      ],
      "metadata": {
        "id": "AAfG-9sQ8AGc"
      }
    }
  ]
}