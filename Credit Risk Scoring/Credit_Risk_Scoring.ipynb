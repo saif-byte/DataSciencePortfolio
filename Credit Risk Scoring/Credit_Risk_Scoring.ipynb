{
  "nbformat": 4,
  "nbformat_minor": 0,
  "metadata": {
    "colab": {
      "name": "Credit_Risk_Scoring.ipynb",
      "provenance": [],
      "authorship_tag": "ABX9TyPF2Go4TYkVxlitCHIXW7nK",
      "include_colab_link": true
    },
    "kernelspec": {
      "name": "python3",
      "display_name": "Python 3"
    },
    "language_info": {
      "name": "python"
    }
  },
  "cells": [
    {
      "cell_type": "markdown",
      "metadata": {
        "id": "view-in-github",
        "colab_type": "text"
      },
      "source": [
        "<a href=\"https://colab.research.google.com/github/saif-byte/DataSciencePortfolio/blob/main/Credit%20Risk%20Scoring/Credit_Risk_Scoring.ipynb\" target=\"_parent\"><img src=\"https://colab.research.google.com/assets/colab-badge.svg\" alt=\"Open In Colab\"/></a>"
      ]
    },
    {
      "cell_type": "markdown",
      "source": [
        "#Credit Risk Scoring"
      ],
      "metadata": {
        "id": "Byd8mSq8r2Ed"
      }
    },
    {
      "cell_type": "markdown",
      "source": [
        "In this project , we will predict whether the customer is going to default, if so then the bank will not issue the credit card to that person. We have used the attributes of people who had previously gone default. The dataset is from https://github.com/gastonstat/CreditScoring/ . "
      ],
      "metadata": {
        "id": "XXUsrZWSaGzi"
      }
    },
    {
      "cell_type": "code",
      "source": [
        "#importing necessary libraries\n",
        "import numpy as np\n",
        "import pandas as pd\n",
        "import seaborn as sns\n",
        "import matplotlib.pyplot as plt\n",
        "\n",
        "from sklearn.model_selection import train_test_split\n",
        "from sklearn.feature_extraction import DictVectorizer\n",
        "from sklearn.tree import DecisionTreeClassifier , export_text \n",
        "from sklearn.metrics import roc_auc_score \n",
        "from sklearn.ensemble import RandomForestClassifier\n",
        "\n",
        "import xgboost as xgb\n",
        "\n",
        "import pickle , requests\n",
        "\n",
        "%matplotlib inline"
      ],
      "metadata": {
        "id": "Q9NLtccSr37g"
      },
      "execution_count": 392,
      "outputs": []
    },
    {
      "cell_type": "markdown",
      "source": [
        "##Reading and Preprocessing Data"
      ],
      "metadata": {
        "id": "aSEYCtMkscHX"
      }
    },
    {
      "cell_type": "code",
      "source": [
        "df = pd.read_csv(\"/content/CreditScoring.csv\")\n",
        "df.head()"
      ],
      "metadata": {
        "colab": {
          "base_uri": "https://localhost:8080/",
          "height": 206
        },
        "id": "vM-hFvAjsepp",
        "outputId": "24d2ea30-075e-4a39-f676-7add20ae0dc8"
      },
      "execution_count": 310,
      "outputs": [
        {
          "output_type": "execute_result",
          "data": {
            "text/plain": [
              "   Status  Seniority  Home  Time  Age  Marital  Records  Job  Expenses  \\\n",
              "0       1          9     1    60   30        2        1    3        73   \n",
              "1       1         17     1    60   58        3        1    1        48   \n",
              "2       2         10     2    36   46        2        2    3        90   \n",
              "3       1          0     1    60   24        1        1    1        63   \n",
              "4       1          0     1    36   26        1        1    1        46   \n",
              "\n",
              "   Income  Assets  Debt  Amount  Price  \n",
              "0     129       0     0     800    846  \n",
              "1     131       0     0    1000   1658  \n",
              "2     200    3000     0    2000   2985  \n",
              "3     182    2500     0     900   1325  \n",
              "4     107       0     0     310    910  "
            ],
            "text/html": [
              "\n",
              "  <div id=\"df-d7515a19-34e8-42cd-8da1-4cd60db8578d\">\n",
              "    <div class=\"colab-df-container\">\n",
              "      <div>\n",
              "<style scoped>\n",
              "    .dataframe tbody tr th:only-of-type {\n",
              "        vertical-align: middle;\n",
              "    }\n",
              "\n",
              "    .dataframe tbody tr th {\n",
              "        vertical-align: top;\n",
              "    }\n",
              "\n",
              "    .dataframe thead th {\n",
              "        text-align: right;\n",
              "    }\n",
              "</style>\n",
              "<table border=\"1\" class=\"dataframe\">\n",
              "  <thead>\n",
              "    <tr style=\"text-align: right;\">\n",
              "      <th></th>\n",
              "      <th>Status</th>\n",
              "      <th>Seniority</th>\n",
              "      <th>Home</th>\n",
              "      <th>Time</th>\n",
              "      <th>Age</th>\n",
              "      <th>Marital</th>\n",
              "      <th>Records</th>\n",
              "      <th>Job</th>\n",
              "      <th>Expenses</th>\n",
              "      <th>Income</th>\n",
              "      <th>Assets</th>\n",
              "      <th>Debt</th>\n",
              "      <th>Amount</th>\n",
              "      <th>Price</th>\n",
              "    </tr>\n",
              "  </thead>\n",
              "  <tbody>\n",
              "    <tr>\n",
              "      <th>0</th>\n",
              "      <td>1</td>\n",
              "      <td>9</td>\n",
              "      <td>1</td>\n",
              "      <td>60</td>\n",
              "      <td>30</td>\n",
              "      <td>2</td>\n",
              "      <td>1</td>\n",
              "      <td>3</td>\n",
              "      <td>73</td>\n",
              "      <td>129</td>\n",
              "      <td>0</td>\n",
              "      <td>0</td>\n",
              "      <td>800</td>\n",
              "      <td>846</td>\n",
              "    </tr>\n",
              "    <tr>\n",
              "      <th>1</th>\n",
              "      <td>1</td>\n",
              "      <td>17</td>\n",
              "      <td>1</td>\n",
              "      <td>60</td>\n",
              "      <td>58</td>\n",
              "      <td>3</td>\n",
              "      <td>1</td>\n",
              "      <td>1</td>\n",
              "      <td>48</td>\n",
              "      <td>131</td>\n",
              "      <td>0</td>\n",
              "      <td>0</td>\n",
              "      <td>1000</td>\n",
              "      <td>1658</td>\n",
              "    </tr>\n",
              "    <tr>\n",
              "      <th>2</th>\n",
              "      <td>2</td>\n",
              "      <td>10</td>\n",
              "      <td>2</td>\n",
              "      <td>36</td>\n",
              "      <td>46</td>\n",
              "      <td>2</td>\n",
              "      <td>2</td>\n",
              "      <td>3</td>\n",
              "      <td>90</td>\n",
              "      <td>200</td>\n",
              "      <td>3000</td>\n",
              "      <td>0</td>\n",
              "      <td>2000</td>\n",
              "      <td>2985</td>\n",
              "    </tr>\n",
              "    <tr>\n",
              "      <th>3</th>\n",
              "      <td>1</td>\n",
              "      <td>0</td>\n",
              "      <td>1</td>\n",
              "      <td>60</td>\n",
              "      <td>24</td>\n",
              "      <td>1</td>\n",
              "      <td>1</td>\n",
              "      <td>1</td>\n",
              "      <td>63</td>\n",
              "      <td>182</td>\n",
              "      <td>2500</td>\n",
              "      <td>0</td>\n",
              "      <td>900</td>\n",
              "      <td>1325</td>\n",
              "    </tr>\n",
              "    <tr>\n",
              "      <th>4</th>\n",
              "      <td>1</td>\n",
              "      <td>0</td>\n",
              "      <td>1</td>\n",
              "      <td>36</td>\n",
              "      <td>26</td>\n",
              "      <td>1</td>\n",
              "      <td>1</td>\n",
              "      <td>1</td>\n",
              "      <td>46</td>\n",
              "      <td>107</td>\n",
              "      <td>0</td>\n",
              "      <td>0</td>\n",
              "      <td>310</td>\n",
              "      <td>910</td>\n",
              "    </tr>\n",
              "  </tbody>\n",
              "</table>\n",
              "</div>\n",
              "      <button class=\"colab-df-convert\" onclick=\"convertToInteractive('df-d7515a19-34e8-42cd-8da1-4cd60db8578d')\"\n",
              "              title=\"Convert this dataframe to an interactive table.\"\n",
              "              style=\"display:none;\">\n",
              "        \n",
              "  <svg xmlns=\"http://www.w3.org/2000/svg\" height=\"24px\"viewBox=\"0 0 24 24\"\n",
              "       width=\"24px\">\n",
              "    <path d=\"M0 0h24v24H0V0z\" fill=\"none\"/>\n",
              "    <path d=\"M18.56 5.44l.94 2.06.94-2.06 2.06-.94-2.06-.94-.94-2.06-.94 2.06-2.06.94zm-11 1L8.5 8.5l.94-2.06 2.06-.94-2.06-.94L8.5 2.5l-.94 2.06-2.06.94zm10 10l.94 2.06.94-2.06 2.06-.94-2.06-.94-.94-2.06-.94 2.06-2.06.94z\"/><path d=\"M17.41 7.96l-1.37-1.37c-.4-.4-.92-.59-1.43-.59-.52 0-1.04.2-1.43.59L10.3 9.45l-7.72 7.72c-.78.78-.78 2.05 0 2.83L4 21.41c.39.39.9.59 1.41.59.51 0 1.02-.2 1.41-.59l7.78-7.78 2.81-2.81c.8-.78.8-2.07 0-2.86zM5.41 20L4 18.59l7.72-7.72 1.47 1.35L5.41 20z\"/>\n",
              "  </svg>\n",
              "      </button>\n",
              "      \n",
              "  <style>\n",
              "    .colab-df-container {\n",
              "      display:flex;\n",
              "      flex-wrap:wrap;\n",
              "      gap: 12px;\n",
              "    }\n",
              "\n",
              "    .colab-df-convert {\n",
              "      background-color: #E8F0FE;\n",
              "      border: none;\n",
              "      border-radius: 50%;\n",
              "      cursor: pointer;\n",
              "      display: none;\n",
              "      fill: #1967D2;\n",
              "      height: 32px;\n",
              "      padding: 0 0 0 0;\n",
              "      width: 32px;\n",
              "    }\n",
              "\n",
              "    .colab-df-convert:hover {\n",
              "      background-color: #E2EBFA;\n",
              "      box-shadow: 0px 1px 2px rgba(60, 64, 67, 0.3), 0px 1px 3px 1px rgba(60, 64, 67, 0.15);\n",
              "      fill: #174EA6;\n",
              "    }\n",
              "\n",
              "    [theme=dark] .colab-df-convert {\n",
              "      background-color: #3B4455;\n",
              "      fill: #D2E3FC;\n",
              "    }\n",
              "\n",
              "    [theme=dark] .colab-df-convert:hover {\n",
              "      background-color: #434B5C;\n",
              "      box-shadow: 0px 1px 3px 1px rgba(0, 0, 0, 0.15);\n",
              "      filter: drop-shadow(0px 1px 2px rgba(0, 0, 0, 0.3));\n",
              "      fill: #FFFFFF;\n",
              "    }\n",
              "  </style>\n",
              "\n",
              "      <script>\n",
              "        const buttonEl =\n",
              "          document.querySelector('#df-d7515a19-34e8-42cd-8da1-4cd60db8578d button.colab-df-convert');\n",
              "        buttonEl.style.display =\n",
              "          google.colab.kernel.accessAllowed ? 'block' : 'none';\n",
              "\n",
              "        async function convertToInteractive(key) {\n",
              "          const element = document.querySelector('#df-d7515a19-34e8-42cd-8da1-4cd60db8578d');\n",
              "          const dataTable =\n",
              "            await google.colab.kernel.invokeFunction('convertToInteractive',\n",
              "                                                     [key], {});\n",
              "          if (!dataTable) return;\n",
              "\n",
              "          const docLinkHtml = 'Like what you see? Visit the ' +\n",
              "            '<a target=\"_blank\" href=https://colab.research.google.com/notebooks/data_table.ipynb>data table notebook</a>'\n",
              "            + ' to learn more about interactive tables.';\n",
              "          element.innerHTML = '';\n",
              "          dataTable['output_type'] = 'display_data';\n",
              "          await google.colab.output.renderOutput(dataTable, element);\n",
              "          const docLink = document.createElement('div');\n",
              "          docLink.innerHTML = docLinkHtml;\n",
              "          element.appendChild(docLink);\n",
              "        }\n",
              "      </script>\n",
              "    </div>\n",
              "  </div>\n",
              "  "
            ]
          },
          "metadata": {},
          "execution_count": 310
        }
      ]
    },
    {
      "cell_type": "code",
      "source": [
        "df.columns = df.columns.str.lower()"
      ],
      "metadata": {
        "id": "IP04sJkfsjfq"
      },
      "execution_count": 311,
      "outputs": []
    },
    {
      "cell_type": "code",
      "source": [
        "df.head()"
      ],
      "metadata": {
        "colab": {
          "base_uri": "https://localhost:8080/",
          "height": 206
        },
        "id": "ZHMx4cx6spiO",
        "outputId": "87bf77d0-2a14-4d0a-c38a-70d64051a4d4"
      },
      "execution_count": 312,
      "outputs": [
        {
          "output_type": "execute_result",
          "data": {
            "text/plain": [
              "   status  seniority  home  time  age  marital  records  job  expenses  \\\n",
              "0       1          9     1    60   30        2        1    3        73   \n",
              "1       1         17     1    60   58        3        1    1        48   \n",
              "2       2         10     2    36   46        2        2    3        90   \n",
              "3       1          0     1    60   24        1        1    1        63   \n",
              "4       1          0     1    36   26        1        1    1        46   \n",
              "\n",
              "   income  assets  debt  amount  price  \n",
              "0     129       0     0     800    846  \n",
              "1     131       0     0    1000   1658  \n",
              "2     200    3000     0    2000   2985  \n",
              "3     182    2500     0     900   1325  \n",
              "4     107       0     0     310    910  "
            ],
            "text/html": [
              "\n",
              "  <div id=\"df-5eed2598-6748-4d22-a702-8e844094b907\">\n",
              "    <div class=\"colab-df-container\">\n",
              "      <div>\n",
              "<style scoped>\n",
              "    .dataframe tbody tr th:only-of-type {\n",
              "        vertical-align: middle;\n",
              "    }\n",
              "\n",
              "    .dataframe tbody tr th {\n",
              "        vertical-align: top;\n",
              "    }\n",
              "\n",
              "    .dataframe thead th {\n",
              "        text-align: right;\n",
              "    }\n",
              "</style>\n",
              "<table border=\"1\" class=\"dataframe\">\n",
              "  <thead>\n",
              "    <tr style=\"text-align: right;\">\n",
              "      <th></th>\n",
              "      <th>status</th>\n",
              "      <th>seniority</th>\n",
              "      <th>home</th>\n",
              "      <th>time</th>\n",
              "      <th>age</th>\n",
              "      <th>marital</th>\n",
              "      <th>records</th>\n",
              "      <th>job</th>\n",
              "      <th>expenses</th>\n",
              "      <th>income</th>\n",
              "      <th>assets</th>\n",
              "      <th>debt</th>\n",
              "      <th>amount</th>\n",
              "      <th>price</th>\n",
              "    </tr>\n",
              "  </thead>\n",
              "  <tbody>\n",
              "    <tr>\n",
              "      <th>0</th>\n",
              "      <td>1</td>\n",
              "      <td>9</td>\n",
              "      <td>1</td>\n",
              "      <td>60</td>\n",
              "      <td>30</td>\n",
              "      <td>2</td>\n",
              "      <td>1</td>\n",
              "      <td>3</td>\n",
              "      <td>73</td>\n",
              "      <td>129</td>\n",
              "      <td>0</td>\n",
              "      <td>0</td>\n",
              "      <td>800</td>\n",
              "      <td>846</td>\n",
              "    </tr>\n",
              "    <tr>\n",
              "      <th>1</th>\n",
              "      <td>1</td>\n",
              "      <td>17</td>\n",
              "      <td>1</td>\n",
              "      <td>60</td>\n",
              "      <td>58</td>\n",
              "      <td>3</td>\n",
              "      <td>1</td>\n",
              "      <td>1</td>\n",
              "      <td>48</td>\n",
              "      <td>131</td>\n",
              "      <td>0</td>\n",
              "      <td>0</td>\n",
              "      <td>1000</td>\n",
              "      <td>1658</td>\n",
              "    </tr>\n",
              "    <tr>\n",
              "      <th>2</th>\n",
              "      <td>2</td>\n",
              "      <td>10</td>\n",
              "      <td>2</td>\n",
              "      <td>36</td>\n",
              "      <td>46</td>\n",
              "      <td>2</td>\n",
              "      <td>2</td>\n",
              "      <td>3</td>\n",
              "      <td>90</td>\n",
              "      <td>200</td>\n",
              "      <td>3000</td>\n",
              "      <td>0</td>\n",
              "      <td>2000</td>\n",
              "      <td>2985</td>\n",
              "    </tr>\n",
              "    <tr>\n",
              "      <th>3</th>\n",
              "      <td>1</td>\n",
              "      <td>0</td>\n",
              "      <td>1</td>\n",
              "      <td>60</td>\n",
              "      <td>24</td>\n",
              "      <td>1</td>\n",
              "      <td>1</td>\n",
              "      <td>1</td>\n",
              "      <td>63</td>\n",
              "      <td>182</td>\n",
              "      <td>2500</td>\n",
              "      <td>0</td>\n",
              "      <td>900</td>\n",
              "      <td>1325</td>\n",
              "    </tr>\n",
              "    <tr>\n",
              "      <th>4</th>\n",
              "      <td>1</td>\n",
              "      <td>0</td>\n",
              "      <td>1</td>\n",
              "      <td>36</td>\n",
              "      <td>26</td>\n",
              "      <td>1</td>\n",
              "      <td>1</td>\n",
              "      <td>1</td>\n",
              "      <td>46</td>\n",
              "      <td>107</td>\n",
              "      <td>0</td>\n",
              "      <td>0</td>\n",
              "      <td>310</td>\n",
              "      <td>910</td>\n",
              "    </tr>\n",
              "  </tbody>\n",
              "</table>\n",
              "</div>\n",
              "      <button class=\"colab-df-convert\" onclick=\"convertToInteractive('df-5eed2598-6748-4d22-a702-8e844094b907')\"\n",
              "              title=\"Convert this dataframe to an interactive table.\"\n",
              "              style=\"display:none;\">\n",
              "        \n",
              "  <svg xmlns=\"http://www.w3.org/2000/svg\" height=\"24px\"viewBox=\"0 0 24 24\"\n",
              "       width=\"24px\">\n",
              "    <path d=\"M0 0h24v24H0V0z\" fill=\"none\"/>\n",
              "    <path d=\"M18.56 5.44l.94 2.06.94-2.06 2.06-.94-2.06-.94-.94-2.06-.94 2.06-2.06.94zm-11 1L8.5 8.5l.94-2.06 2.06-.94-2.06-.94L8.5 2.5l-.94 2.06-2.06.94zm10 10l.94 2.06.94-2.06 2.06-.94-2.06-.94-.94-2.06-.94 2.06-2.06.94z\"/><path d=\"M17.41 7.96l-1.37-1.37c-.4-.4-.92-.59-1.43-.59-.52 0-1.04.2-1.43.59L10.3 9.45l-7.72 7.72c-.78.78-.78 2.05 0 2.83L4 21.41c.39.39.9.59 1.41.59.51 0 1.02-.2 1.41-.59l7.78-7.78 2.81-2.81c.8-.78.8-2.07 0-2.86zM5.41 20L4 18.59l7.72-7.72 1.47 1.35L5.41 20z\"/>\n",
              "  </svg>\n",
              "      </button>\n",
              "      \n",
              "  <style>\n",
              "    .colab-df-container {\n",
              "      display:flex;\n",
              "      flex-wrap:wrap;\n",
              "      gap: 12px;\n",
              "    }\n",
              "\n",
              "    .colab-df-convert {\n",
              "      background-color: #E8F0FE;\n",
              "      border: none;\n",
              "      border-radius: 50%;\n",
              "      cursor: pointer;\n",
              "      display: none;\n",
              "      fill: #1967D2;\n",
              "      height: 32px;\n",
              "      padding: 0 0 0 0;\n",
              "      width: 32px;\n",
              "    }\n",
              "\n",
              "    .colab-df-convert:hover {\n",
              "      background-color: #E2EBFA;\n",
              "      box-shadow: 0px 1px 2px rgba(60, 64, 67, 0.3), 0px 1px 3px 1px rgba(60, 64, 67, 0.15);\n",
              "      fill: #174EA6;\n",
              "    }\n",
              "\n",
              "    [theme=dark] .colab-df-convert {\n",
              "      background-color: #3B4455;\n",
              "      fill: #D2E3FC;\n",
              "    }\n",
              "\n",
              "    [theme=dark] .colab-df-convert:hover {\n",
              "      background-color: #434B5C;\n",
              "      box-shadow: 0px 1px 3px 1px rgba(0, 0, 0, 0.15);\n",
              "      filter: drop-shadow(0px 1px 2px rgba(0, 0, 0, 0.3));\n",
              "      fill: #FFFFFF;\n",
              "    }\n",
              "  </style>\n",
              "\n",
              "      <script>\n",
              "        const buttonEl =\n",
              "          document.querySelector('#df-5eed2598-6748-4d22-a702-8e844094b907 button.colab-df-convert');\n",
              "        buttonEl.style.display =\n",
              "          google.colab.kernel.accessAllowed ? 'block' : 'none';\n",
              "\n",
              "        async function convertToInteractive(key) {\n",
              "          const element = document.querySelector('#df-5eed2598-6748-4d22-a702-8e844094b907');\n",
              "          const dataTable =\n",
              "            await google.colab.kernel.invokeFunction('convertToInteractive',\n",
              "                                                     [key], {});\n",
              "          if (!dataTable) return;\n",
              "\n",
              "          const docLinkHtml = 'Like what you see? Visit the ' +\n",
              "            '<a target=\"_blank\" href=https://colab.research.google.com/notebooks/data_table.ipynb>data table notebook</a>'\n",
              "            + ' to learn more about interactive tables.';\n",
              "          element.innerHTML = '';\n",
              "          dataTable['output_type'] = 'display_data';\n",
              "          await google.colab.output.renderOutput(dataTable, element);\n",
              "          const docLink = document.createElement('div');\n",
              "          docLink.innerHTML = docLinkHtml;\n",
              "          element.appendChild(docLink);\n",
              "        }\n",
              "      </script>\n",
              "    </div>\n",
              "  </div>\n",
              "  "
            ]
          },
          "metadata": {},
          "execution_count": 312
        }
      ]
    },
    {
      "cell_type": "code",
      "source": [
        "#now we will convert these numerical values to what they represent.\n",
        "status_values = {\n",
        "    1:\"ok\",\n",
        "    2:\"default\",\n",
        "    0:\"unk\"\n",
        "}\n",
        "df.status = df.status.map(status_values)\n",
        "df.head()"
      ],
      "metadata": {
        "colab": {
          "base_uri": "https://localhost:8080/",
          "height": 206
        },
        "id": "FR04my1Bsq-6",
        "outputId": "a5378a0e-aded-4e57-b300-b19d0c69d04e"
      },
      "execution_count": 313,
      "outputs": [
        {
          "output_type": "execute_result",
          "data": {
            "text/plain": [
              "    status  seniority  home  time  age  marital  records  job  expenses  \\\n",
              "0       ok          9     1    60   30        2        1    3        73   \n",
              "1       ok         17     1    60   58        3        1    1        48   \n",
              "2  default         10     2    36   46        2        2    3        90   \n",
              "3       ok          0     1    60   24        1        1    1        63   \n",
              "4       ok          0     1    36   26        1        1    1        46   \n",
              "\n",
              "   income  assets  debt  amount  price  \n",
              "0     129       0     0     800    846  \n",
              "1     131       0     0    1000   1658  \n",
              "2     200    3000     0    2000   2985  \n",
              "3     182    2500     0     900   1325  \n",
              "4     107       0     0     310    910  "
            ],
            "text/html": [
              "\n",
              "  <div id=\"df-39ef0966-4043-49fd-bb17-842cb9d13202\">\n",
              "    <div class=\"colab-df-container\">\n",
              "      <div>\n",
              "<style scoped>\n",
              "    .dataframe tbody tr th:only-of-type {\n",
              "        vertical-align: middle;\n",
              "    }\n",
              "\n",
              "    .dataframe tbody tr th {\n",
              "        vertical-align: top;\n",
              "    }\n",
              "\n",
              "    .dataframe thead th {\n",
              "        text-align: right;\n",
              "    }\n",
              "</style>\n",
              "<table border=\"1\" class=\"dataframe\">\n",
              "  <thead>\n",
              "    <tr style=\"text-align: right;\">\n",
              "      <th></th>\n",
              "      <th>status</th>\n",
              "      <th>seniority</th>\n",
              "      <th>home</th>\n",
              "      <th>time</th>\n",
              "      <th>age</th>\n",
              "      <th>marital</th>\n",
              "      <th>records</th>\n",
              "      <th>job</th>\n",
              "      <th>expenses</th>\n",
              "      <th>income</th>\n",
              "      <th>assets</th>\n",
              "      <th>debt</th>\n",
              "      <th>amount</th>\n",
              "      <th>price</th>\n",
              "    </tr>\n",
              "  </thead>\n",
              "  <tbody>\n",
              "    <tr>\n",
              "      <th>0</th>\n",
              "      <td>ok</td>\n",
              "      <td>9</td>\n",
              "      <td>1</td>\n",
              "      <td>60</td>\n",
              "      <td>30</td>\n",
              "      <td>2</td>\n",
              "      <td>1</td>\n",
              "      <td>3</td>\n",
              "      <td>73</td>\n",
              "      <td>129</td>\n",
              "      <td>0</td>\n",
              "      <td>0</td>\n",
              "      <td>800</td>\n",
              "      <td>846</td>\n",
              "    </tr>\n",
              "    <tr>\n",
              "      <th>1</th>\n",
              "      <td>ok</td>\n",
              "      <td>17</td>\n",
              "      <td>1</td>\n",
              "      <td>60</td>\n",
              "      <td>58</td>\n",
              "      <td>3</td>\n",
              "      <td>1</td>\n",
              "      <td>1</td>\n",
              "      <td>48</td>\n",
              "      <td>131</td>\n",
              "      <td>0</td>\n",
              "      <td>0</td>\n",
              "      <td>1000</td>\n",
              "      <td>1658</td>\n",
              "    </tr>\n",
              "    <tr>\n",
              "      <th>2</th>\n",
              "      <td>default</td>\n",
              "      <td>10</td>\n",
              "      <td>2</td>\n",
              "      <td>36</td>\n",
              "      <td>46</td>\n",
              "      <td>2</td>\n",
              "      <td>2</td>\n",
              "      <td>3</td>\n",
              "      <td>90</td>\n",
              "      <td>200</td>\n",
              "      <td>3000</td>\n",
              "      <td>0</td>\n",
              "      <td>2000</td>\n",
              "      <td>2985</td>\n",
              "    </tr>\n",
              "    <tr>\n",
              "      <th>3</th>\n",
              "      <td>ok</td>\n",
              "      <td>0</td>\n",
              "      <td>1</td>\n",
              "      <td>60</td>\n",
              "      <td>24</td>\n",
              "      <td>1</td>\n",
              "      <td>1</td>\n",
              "      <td>1</td>\n",
              "      <td>63</td>\n",
              "      <td>182</td>\n",
              "      <td>2500</td>\n",
              "      <td>0</td>\n",
              "      <td>900</td>\n",
              "      <td>1325</td>\n",
              "    </tr>\n",
              "    <tr>\n",
              "      <th>4</th>\n",
              "      <td>ok</td>\n",
              "      <td>0</td>\n",
              "      <td>1</td>\n",
              "      <td>36</td>\n",
              "      <td>26</td>\n",
              "      <td>1</td>\n",
              "      <td>1</td>\n",
              "      <td>1</td>\n",
              "      <td>46</td>\n",
              "      <td>107</td>\n",
              "      <td>0</td>\n",
              "      <td>0</td>\n",
              "      <td>310</td>\n",
              "      <td>910</td>\n",
              "    </tr>\n",
              "  </tbody>\n",
              "</table>\n",
              "</div>\n",
              "      <button class=\"colab-df-convert\" onclick=\"convertToInteractive('df-39ef0966-4043-49fd-bb17-842cb9d13202')\"\n",
              "              title=\"Convert this dataframe to an interactive table.\"\n",
              "              style=\"display:none;\">\n",
              "        \n",
              "  <svg xmlns=\"http://www.w3.org/2000/svg\" height=\"24px\"viewBox=\"0 0 24 24\"\n",
              "       width=\"24px\">\n",
              "    <path d=\"M0 0h24v24H0V0z\" fill=\"none\"/>\n",
              "    <path d=\"M18.56 5.44l.94 2.06.94-2.06 2.06-.94-2.06-.94-.94-2.06-.94 2.06-2.06.94zm-11 1L8.5 8.5l.94-2.06 2.06-.94-2.06-.94L8.5 2.5l-.94 2.06-2.06.94zm10 10l.94 2.06.94-2.06 2.06-.94-2.06-.94-.94-2.06-.94 2.06-2.06.94z\"/><path d=\"M17.41 7.96l-1.37-1.37c-.4-.4-.92-.59-1.43-.59-.52 0-1.04.2-1.43.59L10.3 9.45l-7.72 7.72c-.78.78-.78 2.05 0 2.83L4 21.41c.39.39.9.59 1.41.59.51 0 1.02-.2 1.41-.59l7.78-7.78 2.81-2.81c.8-.78.8-2.07 0-2.86zM5.41 20L4 18.59l7.72-7.72 1.47 1.35L5.41 20z\"/>\n",
              "  </svg>\n",
              "      </button>\n",
              "      \n",
              "  <style>\n",
              "    .colab-df-container {\n",
              "      display:flex;\n",
              "      flex-wrap:wrap;\n",
              "      gap: 12px;\n",
              "    }\n",
              "\n",
              "    .colab-df-convert {\n",
              "      background-color: #E8F0FE;\n",
              "      border: none;\n",
              "      border-radius: 50%;\n",
              "      cursor: pointer;\n",
              "      display: none;\n",
              "      fill: #1967D2;\n",
              "      height: 32px;\n",
              "      padding: 0 0 0 0;\n",
              "      width: 32px;\n",
              "    }\n",
              "\n",
              "    .colab-df-convert:hover {\n",
              "      background-color: #E2EBFA;\n",
              "      box-shadow: 0px 1px 2px rgba(60, 64, 67, 0.3), 0px 1px 3px 1px rgba(60, 64, 67, 0.15);\n",
              "      fill: #174EA6;\n",
              "    }\n",
              "\n",
              "    [theme=dark] .colab-df-convert {\n",
              "      background-color: #3B4455;\n",
              "      fill: #D2E3FC;\n",
              "    }\n",
              "\n",
              "    [theme=dark] .colab-df-convert:hover {\n",
              "      background-color: #434B5C;\n",
              "      box-shadow: 0px 1px 3px 1px rgba(0, 0, 0, 0.15);\n",
              "      filter: drop-shadow(0px 1px 2px rgba(0, 0, 0, 0.3));\n",
              "      fill: #FFFFFF;\n",
              "    }\n",
              "  </style>\n",
              "\n",
              "      <script>\n",
              "        const buttonEl =\n",
              "          document.querySelector('#df-39ef0966-4043-49fd-bb17-842cb9d13202 button.colab-df-convert');\n",
              "        buttonEl.style.display =\n",
              "          google.colab.kernel.accessAllowed ? 'block' : 'none';\n",
              "\n",
              "        async function convertToInteractive(key) {\n",
              "          const element = document.querySelector('#df-39ef0966-4043-49fd-bb17-842cb9d13202');\n",
              "          const dataTable =\n",
              "            await google.colab.kernel.invokeFunction('convertToInteractive',\n",
              "                                                     [key], {});\n",
              "          if (!dataTable) return;\n",
              "\n",
              "          const docLinkHtml = 'Like what you see? Visit the ' +\n",
              "            '<a target=\"_blank\" href=https://colab.research.google.com/notebooks/data_table.ipynb>data table notebook</a>'\n",
              "            + ' to learn more about interactive tables.';\n",
              "          element.innerHTML = '';\n",
              "          dataTable['output_type'] = 'display_data';\n",
              "          await google.colab.output.renderOutput(dataTable, element);\n",
              "          const docLink = document.createElement('div');\n",
              "          docLink.innerHTML = docLinkHtml;\n",
              "          element.appendChild(docLink);\n",
              "        }\n",
              "      </script>\n",
              "    </div>\n",
              "  </div>\n",
              "  "
            ]
          },
          "metadata": {},
          "execution_count": 313
        }
      ]
    },
    {
      "cell_type": "code",
      "source": [
        "home_values = {\n",
        " 1: 'rent',\n",
        " 2: 'owner',\n",
        " 3: 'private',\n",
        " 4: 'ignore',\n",
        " 5: 'parents',\n",
        " 6: 'other',\n",
        " 0: 'unk'\n",
        "}\n",
        "df.home = df.home.map(home_values) \n",
        "marital_values = {\n",
        " 1: 'single',\n",
        " 2: 'married',\n",
        " 3: 'widow',\n",
        " 4: 'separated',\n",
        " 5: 'divorced',\n",
        " 0: 'unk'\n",
        "}\n",
        "df.marital = df.marital.map(marital_values)\n",
        "records_values = {\n",
        " 1: 'no',\n",
        " 2: 'yes',\n",
        " 0: 'unk'\n",
        "}\n",
        "df.records = df.records.map(records_values)\n",
        "job_values = {\n",
        " 1: 'fixed',\n",
        " 2: 'partime',\n",
        " 3: 'freelance',\n",
        " 4: 'others',\n",
        " 0: 'unk'\n",
        "}\n",
        "df.job = df.job.map(job_values) "
      ],
      "metadata": {
        "id": "wQQOLNttzdwS"
      },
      "execution_count": 314,
      "outputs": []
    },
    {
      "cell_type": "code",
      "source": [
        "df.head()"
      ],
      "metadata": {
        "colab": {
          "base_uri": "https://localhost:8080/",
          "height": 206
        },
        "id": "YKyU97Mbzske",
        "outputId": "bd83ca74-1ec7-414f-ba89-958cf3cc8e2e"
      },
      "execution_count": 315,
      "outputs": [
        {
          "output_type": "execute_result",
          "data": {
            "text/plain": [
              "    status  seniority   home  time  age  marital records        job  expenses  \\\n",
              "0       ok          9   rent    60   30  married      no  freelance        73   \n",
              "1       ok         17   rent    60   58    widow      no      fixed        48   \n",
              "2  default         10  owner    36   46  married     yes  freelance        90   \n",
              "3       ok          0   rent    60   24   single      no      fixed        63   \n",
              "4       ok          0   rent    36   26   single      no      fixed        46   \n",
              "\n",
              "   income  assets  debt  amount  price  \n",
              "0     129       0     0     800    846  \n",
              "1     131       0     0    1000   1658  \n",
              "2     200    3000     0    2000   2985  \n",
              "3     182    2500     0     900   1325  \n",
              "4     107       0     0     310    910  "
            ],
            "text/html": [
              "\n",
              "  <div id=\"df-3a42d8ca-156c-4714-acbb-8a08aeb78238\">\n",
              "    <div class=\"colab-df-container\">\n",
              "      <div>\n",
              "<style scoped>\n",
              "    .dataframe tbody tr th:only-of-type {\n",
              "        vertical-align: middle;\n",
              "    }\n",
              "\n",
              "    .dataframe tbody tr th {\n",
              "        vertical-align: top;\n",
              "    }\n",
              "\n",
              "    .dataframe thead th {\n",
              "        text-align: right;\n",
              "    }\n",
              "</style>\n",
              "<table border=\"1\" class=\"dataframe\">\n",
              "  <thead>\n",
              "    <tr style=\"text-align: right;\">\n",
              "      <th></th>\n",
              "      <th>status</th>\n",
              "      <th>seniority</th>\n",
              "      <th>home</th>\n",
              "      <th>time</th>\n",
              "      <th>age</th>\n",
              "      <th>marital</th>\n",
              "      <th>records</th>\n",
              "      <th>job</th>\n",
              "      <th>expenses</th>\n",
              "      <th>income</th>\n",
              "      <th>assets</th>\n",
              "      <th>debt</th>\n",
              "      <th>amount</th>\n",
              "      <th>price</th>\n",
              "    </tr>\n",
              "  </thead>\n",
              "  <tbody>\n",
              "    <tr>\n",
              "      <th>0</th>\n",
              "      <td>ok</td>\n",
              "      <td>9</td>\n",
              "      <td>rent</td>\n",
              "      <td>60</td>\n",
              "      <td>30</td>\n",
              "      <td>married</td>\n",
              "      <td>no</td>\n",
              "      <td>freelance</td>\n",
              "      <td>73</td>\n",
              "      <td>129</td>\n",
              "      <td>0</td>\n",
              "      <td>0</td>\n",
              "      <td>800</td>\n",
              "      <td>846</td>\n",
              "    </tr>\n",
              "    <tr>\n",
              "      <th>1</th>\n",
              "      <td>ok</td>\n",
              "      <td>17</td>\n",
              "      <td>rent</td>\n",
              "      <td>60</td>\n",
              "      <td>58</td>\n",
              "      <td>widow</td>\n",
              "      <td>no</td>\n",
              "      <td>fixed</td>\n",
              "      <td>48</td>\n",
              "      <td>131</td>\n",
              "      <td>0</td>\n",
              "      <td>0</td>\n",
              "      <td>1000</td>\n",
              "      <td>1658</td>\n",
              "    </tr>\n",
              "    <tr>\n",
              "      <th>2</th>\n",
              "      <td>default</td>\n",
              "      <td>10</td>\n",
              "      <td>owner</td>\n",
              "      <td>36</td>\n",
              "      <td>46</td>\n",
              "      <td>married</td>\n",
              "      <td>yes</td>\n",
              "      <td>freelance</td>\n",
              "      <td>90</td>\n",
              "      <td>200</td>\n",
              "      <td>3000</td>\n",
              "      <td>0</td>\n",
              "      <td>2000</td>\n",
              "      <td>2985</td>\n",
              "    </tr>\n",
              "    <tr>\n",
              "      <th>3</th>\n",
              "      <td>ok</td>\n",
              "      <td>0</td>\n",
              "      <td>rent</td>\n",
              "      <td>60</td>\n",
              "      <td>24</td>\n",
              "      <td>single</td>\n",
              "      <td>no</td>\n",
              "      <td>fixed</td>\n",
              "      <td>63</td>\n",
              "      <td>182</td>\n",
              "      <td>2500</td>\n",
              "      <td>0</td>\n",
              "      <td>900</td>\n",
              "      <td>1325</td>\n",
              "    </tr>\n",
              "    <tr>\n",
              "      <th>4</th>\n",
              "      <td>ok</td>\n",
              "      <td>0</td>\n",
              "      <td>rent</td>\n",
              "      <td>36</td>\n",
              "      <td>26</td>\n",
              "      <td>single</td>\n",
              "      <td>no</td>\n",
              "      <td>fixed</td>\n",
              "      <td>46</td>\n",
              "      <td>107</td>\n",
              "      <td>0</td>\n",
              "      <td>0</td>\n",
              "      <td>310</td>\n",
              "      <td>910</td>\n",
              "    </tr>\n",
              "  </tbody>\n",
              "</table>\n",
              "</div>\n",
              "      <button class=\"colab-df-convert\" onclick=\"convertToInteractive('df-3a42d8ca-156c-4714-acbb-8a08aeb78238')\"\n",
              "              title=\"Convert this dataframe to an interactive table.\"\n",
              "              style=\"display:none;\">\n",
              "        \n",
              "  <svg xmlns=\"http://www.w3.org/2000/svg\" height=\"24px\"viewBox=\"0 0 24 24\"\n",
              "       width=\"24px\">\n",
              "    <path d=\"M0 0h24v24H0V0z\" fill=\"none\"/>\n",
              "    <path d=\"M18.56 5.44l.94 2.06.94-2.06 2.06-.94-2.06-.94-.94-2.06-.94 2.06-2.06.94zm-11 1L8.5 8.5l.94-2.06 2.06-.94-2.06-.94L8.5 2.5l-.94 2.06-2.06.94zm10 10l.94 2.06.94-2.06 2.06-.94-2.06-.94-.94-2.06-.94 2.06-2.06.94z\"/><path d=\"M17.41 7.96l-1.37-1.37c-.4-.4-.92-.59-1.43-.59-.52 0-1.04.2-1.43.59L10.3 9.45l-7.72 7.72c-.78.78-.78 2.05 0 2.83L4 21.41c.39.39.9.59 1.41.59.51 0 1.02-.2 1.41-.59l7.78-7.78 2.81-2.81c.8-.78.8-2.07 0-2.86zM5.41 20L4 18.59l7.72-7.72 1.47 1.35L5.41 20z\"/>\n",
              "  </svg>\n",
              "      </button>\n",
              "      \n",
              "  <style>\n",
              "    .colab-df-container {\n",
              "      display:flex;\n",
              "      flex-wrap:wrap;\n",
              "      gap: 12px;\n",
              "    }\n",
              "\n",
              "    .colab-df-convert {\n",
              "      background-color: #E8F0FE;\n",
              "      border: none;\n",
              "      border-radius: 50%;\n",
              "      cursor: pointer;\n",
              "      display: none;\n",
              "      fill: #1967D2;\n",
              "      height: 32px;\n",
              "      padding: 0 0 0 0;\n",
              "      width: 32px;\n",
              "    }\n",
              "\n",
              "    .colab-df-convert:hover {\n",
              "      background-color: #E2EBFA;\n",
              "      box-shadow: 0px 1px 2px rgba(60, 64, 67, 0.3), 0px 1px 3px 1px rgba(60, 64, 67, 0.15);\n",
              "      fill: #174EA6;\n",
              "    }\n",
              "\n",
              "    [theme=dark] .colab-df-convert {\n",
              "      background-color: #3B4455;\n",
              "      fill: #D2E3FC;\n",
              "    }\n",
              "\n",
              "    [theme=dark] .colab-df-convert:hover {\n",
              "      background-color: #434B5C;\n",
              "      box-shadow: 0px 1px 3px 1px rgba(0, 0, 0, 0.15);\n",
              "      filter: drop-shadow(0px 1px 2px rgba(0, 0, 0, 0.3));\n",
              "      fill: #FFFFFF;\n",
              "    }\n",
              "  </style>\n",
              "\n",
              "      <script>\n",
              "        const buttonEl =\n",
              "          document.querySelector('#df-3a42d8ca-156c-4714-acbb-8a08aeb78238 button.colab-df-convert');\n",
              "        buttonEl.style.display =\n",
              "          google.colab.kernel.accessAllowed ? 'block' : 'none';\n",
              "\n",
              "        async function convertToInteractive(key) {\n",
              "          const element = document.querySelector('#df-3a42d8ca-156c-4714-acbb-8a08aeb78238');\n",
              "          const dataTable =\n",
              "            await google.colab.kernel.invokeFunction('convertToInteractive',\n",
              "                                                     [key], {});\n",
              "          if (!dataTable) return;\n",
              "\n",
              "          const docLinkHtml = 'Like what you see? Visit the ' +\n",
              "            '<a target=\"_blank\" href=https://colab.research.google.com/notebooks/data_table.ipynb>data table notebook</a>'\n",
              "            + ' to learn more about interactive tables.';\n",
              "          element.innerHTML = '';\n",
              "          dataTable['output_type'] = 'display_data';\n",
              "          await google.colab.output.renderOutput(dataTable, element);\n",
              "          const docLink = document.createElement('div');\n",
              "          docLink.innerHTML = docLinkHtml;\n",
              "          element.appendChild(docLink);\n",
              "        }\n",
              "      </script>\n",
              "    </div>\n",
              "  </div>\n",
              "  "
            ]
          },
          "metadata": {},
          "execution_count": 315
        }
      ]
    },
    {
      "cell_type": "code",
      "source": [
        "df.describe().round()"
      ],
      "metadata": {
        "colab": {
          "base_uri": "https://localhost:8080/",
          "height": 300
        },
        "id": "k6ErXZddztaO",
        "outputId": "265468bb-c922-4a50-e842-da85543d9df0"
      },
      "execution_count": 316,
      "outputs": [
        {
          "output_type": "execute_result",
          "data": {
            "text/plain": [
              "       seniority    time     age  expenses      income      assets  \\\n",
              "count     4455.0  4455.0  4455.0    4455.0      4455.0      4455.0   \n",
              "mean         8.0    46.0    37.0      56.0    763317.0   1060341.0   \n",
              "std          8.0    15.0    11.0      20.0   8703625.0  10217569.0   \n",
              "min          0.0     6.0    18.0      35.0         0.0         0.0   \n",
              "25%          2.0    36.0    28.0      35.0        80.0         0.0   \n",
              "50%          5.0    48.0    36.0      51.0       120.0      3500.0   \n",
              "75%         12.0    60.0    45.0      72.0       166.0      6000.0   \n",
              "max         48.0    72.0    68.0     180.0  99999999.0  99999999.0   \n",
              "\n",
              "             debt  amount    price  \n",
              "count      4455.0  4455.0   4455.0  \n",
              "mean     404382.0  1039.0   1463.0  \n",
              "std     6344253.0   475.0    628.0  \n",
              "min           0.0   100.0    105.0  \n",
              "25%           0.0   700.0   1118.0  \n",
              "50%           0.0  1000.0   1400.0  \n",
              "75%           0.0  1300.0   1692.0  \n",
              "max    99999999.0  5000.0  11140.0  "
            ],
            "text/html": [
              "\n",
              "  <div id=\"df-fc87811c-9566-46c6-9bb5-cb2bca8f2fc8\">\n",
              "    <div class=\"colab-df-container\">\n",
              "      <div>\n",
              "<style scoped>\n",
              "    .dataframe tbody tr th:only-of-type {\n",
              "        vertical-align: middle;\n",
              "    }\n",
              "\n",
              "    .dataframe tbody tr th {\n",
              "        vertical-align: top;\n",
              "    }\n",
              "\n",
              "    .dataframe thead th {\n",
              "        text-align: right;\n",
              "    }\n",
              "</style>\n",
              "<table border=\"1\" class=\"dataframe\">\n",
              "  <thead>\n",
              "    <tr style=\"text-align: right;\">\n",
              "      <th></th>\n",
              "      <th>seniority</th>\n",
              "      <th>time</th>\n",
              "      <th>age</th>\n",
              "      <th>expenses</th>\n",
              "      <th>income</th>\n",
              "      <th>assets</th>\n",
              "      <th>debt</th>\n",
              "      <th>amount</th>\n",
              "      <th>price</th>\n",
              "    </tr>\n",
              "  </thead>\n",
              "  <tbody>\n",
              "    <tr>\n",
              "      <th>count</th>\n",
              "      <td>4455.0</td>\n",
              "      <td>4455.0</td>\n",
              "      <td>4455.0</td>\n",
              "      <td>4455.0</td>\n",
              "      <td>4455.0</td>\n",
              "      <td>4455.0</td>\n",
              "      <td>4455.0</td>\n",
              "      <td>4455.0</td>\n",
              "      <td>4455.0</td>\n",
              "    </tr>\n",
              "    <tr>\n",
              "      <th>mean</th>\n",
              "      <td>8.0</td>\n",
              "      <td>46.0</td>\n",
              "      <td>37.0</td>\n",
              "      <td>56.0</td>\n",
              "      <td>763317.0</td>\n",
              "      <td>1060341.0</td>\n",
              "      <td>404382.0</td>\n",
              "      <td>1039.0</td>\n",
              "      <td>1463.0</td>\n",
              "    </tr>\n",
              "    <tr>\n",
              "      <th>std</th>\n",
              "      <td>8.0</td>\n",
              "      <td>15.0</td>\n",
              "      <td>11.0</td>\n",
              "      <td>20.0</td>\n",
              "      <td>8703625.0</td>\n",
              "      <td>10217569.0</td>\n",
              "      <td>6344253.0</td>\n",
              "      <td>475.0</td>\n",
              "      <td>628.0</td>\n",
              "    </tr>\n",
              "    <tr>\n",
              "      <th>min</th>\n",
              "      <td>0.0</td>\n",
              "      <td>6.0</td>\n",
              "      <td>18.0</td>\n",
              "      <td>35.0</td>\n",
              "      <td>0.0</td>\n",
              "      <td>0.0</td>\n",
              "      <td>0.0</td>\n",
              "      <td>100.0</td>\n",
              "      <td>105.0</td>\n",
              "    </tr>\n",
              "    <tr>\n",
              "      <th>25%</th>\n",
              "      <td>2.0</td>\n",
              "      <td>36.0</td>\n",
              "      <td>28.0</td>\n",
              "      <td>35.0</td>\n",
              "      <td>80.0</td>\n",
              "      <td>0.0</td>\n",
              "      <td>0.0</td>\n",
              "      <td>700.0</td>\n",
              "      <td>1118.0</td>\n",
              "    </tr>\n",
              "    <tr>\n",
              "      <th>50%</th>\n",
              "      <td>5.0</td>\n",
              "      <td>48.0</td>\n",
              "      <td>36.0</td>\n",
              "      <td>51.0</td>\n",
              "      <td>120.0</td>\n",
              "      <td>3500.0</td>\n",
              "      <td>0.0</td>\n",
              "      <td>1000.0</td>\n",
              "      <td>1400.0</td>\n",
              "    </tr>\n",
              "    <tr>\n",
              "      <th>75%</th>\n",
              "      <td>12.0</td>\n",
              "      <td>60.0</td>\n",
              "      <td>45.0</td>\n",
              "      <td>72.0</td>\n",
              "      <td>166.0</td>\n",
              "      <td>6000.0</td>\n",
              "      <td>0.0</td>\n",
              "      <td>1300.0</td>\n",
              "      <td>1692.0</td>\n",
              "    </tr>\n",
              "    <tr>\n",
              "      <th>max</th>\n",
              "      <td>48.0</td>\n",
              "      <td>72.0</td>\n",
              "      <td>68.0</td>\n",
              "      <td>180.0</td>\n",
              "      <td>99999999.0</td>\n",
              "      <td>99999999.0</td>\n",
              "      <td>99999999.0</td>\n",
              "      <td>5000.0</td>\n",
              "      <td>11140.0</td>\n",
              "    </tr>\n",
              "  </tbody>\n",
              "</table>\n",
              "</div>\n",
              "      <button class=\"colab-df-convert\" onclick=\"convertToInteractive('df-fc87811c-9566-46c6-9bb5-cb2bca8f2fc8')\"\n",
              "              title=\"Convert this dataframe to an interactive table.\"\n",
              "              style=\"display:none;\">\n",
              "        \n",
              "  <svg xmlns=\"http://www.w3.org/2000/svg\" height=\"24px\"viewBox=\"0 0 24 24\"\n",
              "       width=\"24px\">\n",
              "    <path d=\"M0 0h24v24H0V0z\" fill=\"none\"/>\n",
              "    <path d=\"M18.56 5.44l.94 2.06.94-2.06 2.06-.94-2.06-.94-.94-2.06-.94 2.06-2.06.94zm-11 1L8.5 8.5l.94-2.06 2.06-.94-2.06-.94L8.5 2.5l-.94 2.06-2.06.94zm10 10l.94 2.06.94-2.06 2.06-.94-2.06-.94-.94-2.06-.94 2.06-2.06.94z\"/><path d=\"M17.41 7.96l-1.37-1.37c-.4-.4-.92-.59-1.43-.59-.52 0-1.04.2-1.43.59L10.3 9.45l-7.72 7.72c-.78.78-.78 2.05 0 2.83L4 21.41c.39.39.9.59 1.41.59.51 0 1.02-.2 1.41-.59l7.78-7.78 2.81-2.81c.8-.78.8-2.07 0-2.86zM5.41 20L4 18.59l7.72-7.72 1.47 1.35L5.41 20z\"/>\n",
              "  </svg>\n",
              "      </button>\n",
              "      \n",
              "  <style>\n",
              "    .colab-df-container {\n",
              "      display:flex;\n",
              "      flex-wrap:wrap;\n",
              "      gap: 12px;\n",
              "    }\n",
              "\n",
              "    .colab-df-convert {\n",
              "      background-color: #E8F0FE;\n",
              "      border: none;\n",
              "      border-radius: 50%;\n",
              "      cursor: pointer;\n",
              "      display: none;\n",
              "      fill: #1967D2;\n",
              "      height: 32px;\n",
              "      padding: 0 0 0 0;\n",
              "      width: 32px;\n",
              "    }\n",
              "\n",
              "    .colab-df-convert:hover {\n",
              "      background-color: #E2EBFA;\n",
              "      box-shadow: 0px 1px 2px rgba(60, 64, 67, 0.3), 0px 1px 3px 1px rgba(60, 64, 67, 0.15);\n",
              "      fill: #174EA6;\n",
              "    }\n",
              "\n",
              "    [theme=dark] .colab-df-convert {\n",
              "      background-color: #3B4455;\n",
              "      fill: #D2E3FC;\n",
              "    }\n",
              "\n",
              "    [theme=dark] .colab-df-convert:hover {\n",
              "      background-color: #434B5C;\n",
              "      box-shadow: 0px 1px 3px 1px rgba(0, 0, 0, 0.15);\n",
              "      filter: drop-shadow(0px 1px 2px rgba(0, 0, 0, 0.3));\n",
              "      fill: #FFFFFF;\n",
              "    }\n",
              "  </style>\n",
              "\n",
              "      <script>\n",
              "        const buttonEl =\n",
              "          document.querySelector('#df-fc87811c-9566-46c6-9bb5-cb2bca8f2fc8 button.colab-df-convert');\n",
              "        buttonEl.style.display =\n",
              "          google.colab.kernel.accessAllowed ? 'block' : 'none';\n",
              "\n",
              "        async function convertToInteractive(key) {\n",
              "          const element = document.querySelector('#df-fc87811c-9566-46c6-9bb5-cb2bca8f2fc8');\n",
              "          const dataTable =\n",
              "            await google.colab.kernel.invokeFunction('convertToInteractive',\n",
              "                                                     [key], {});\n",
              "          if (!dataTable) return;\n",
              "\n",
              "          const docLinkHtml = 'Like what you see? Visit the ' +\n",
              "            '<a target=\"_blank\" href=https://colab.research.google.com/notebooks/data_table.ipynb>data table notebook</a>'\n",
              "            + ' to learn more about interactive tables.';\n",
              "          element.innerHTML = '';\n",
              "          dataTable['output_type'] = 'display_data';\n",
              "          await google.colab.output.renderOutput(dataTable, element);\n",
              "          const docLink = document.createElement('div');\n",
              "          docLink.innerHTML = docLinkHtml;\n",
              "          element.appendChild(docLink);\n",
              "        }\n",
              "      </script>\n",
              "    </div>\n",
              "  </div>\n",
              "  "
            ]
          },
          "metadata": {},
          "execution_count": 316
        }
      ]
    },
    {
      "cell_type": "code",
      "source": [
        "#we can see there are some 9999999 values in max row for some columns, this means these columns have nan values\n",
        "#to fix this\n",
        "for c in ['income', 'assets' , 'debt']:\n",
        "  df[c] = df[c].replace(to_replace = 99999999, value = np.nan)"
      ],
      "metadata": {
        "id": "ilz5Bi7o1IE0"
      },
      "execution_count": 317,
      "outputs": []
    },
    {
      "cell_type": "code",
      "source": [
        "df.describe().round()"
      ],
      "metadata": {
        "colab": {
          "base_uri": "https://localhost:8080/",
          "height": 300
        },
        "id": "xV2XkF792ZYT",
        "outputId": "34443aec-4509-4ac8-9a66-f46e69a8a312"
      },
      "execution_count": 318,
      "outputs": [
        {
          "output_type": "execute_result",
          "data": {
            "text/plain": [
              "       seniority    time     age  expenses  income    assets     debt  amount  \\\n",
              "count     4455.0  4455.0  4455.0    4455.0  4421.0    4408.0   4437.0  4455.0   \n",
              "mean         8.0    46.0    37.0      56.0   131.0    5403.0    343.0  1039.0   \n",
              "std          8.0    15.0    11.0      20.0    86.0   11573.0   1246.0   475.0   \n",
              "min          0.0     6.0    18.0      35.0     0.0       0.0      0.0   100.0   \n",
              "25%          2.0    36.0    28.0      35.0    80.0       0.0      0.0   700.0   \n",
              "50%          5.0    48.0    36.0      51.0   120.0    3000.0      0.0  1000.0   \n",
              "75%         12.0    60.0    45.0      72.0   165.0    6000.0      0.0  1300.0   \n",
              "max         48.0    72.0    68.0     180.0   959.0  300000.0  30000.0  5000.0   \n",
              "\n",
              "         price  \n",
              "count   4455.0  \n",
              "mean    1463.0  \n",
              "std      628.0  \n",
              "min      105.0  \n",
              "25%     1118.0  \n",
              "50%     1400.0  \n",
              "75%     1692.0  \n",
              "max    11140.0  "
            ],
            "text/html": [
              "\n",
              "  <div id=\"df-7f631e24-605f-4e2e-b10e-59e44a4fc5d3\">\n",
              "    <div class=\"colab-df-container\">\n",
              "      <div>\n",
              "<style scoped>\n",
              "    .dataframe tbody tr th:only-of-type {\n",
              "        vertical-align: middle;\n",
              "    }\n",
              "\n",
              "    .dataframe tbody tr th {\n",
              "        vertical-align: top;\n",
              "    }\n",
              "\n",
              "    .dataframe thead th {\n",
              "        text-align: right;\n",
              "    }\n",
              "</style>\n",
              "<table border=\"1\" class=\"dataframe\">\n",
              "  <thead>\n",
              "    <tr style=\"text-align: right;\">\n",
              "      <th></th>\n",
              "      <th>seniority</th>\n",
              "      <th>time</th>\n",
              "      <th>age</th>\n",
              "      <th>expenses</th>\n",
              "      <th>income</th>\n",
              "      <th>assets</th>\n",
              "      <th>debt</th>\n",
              "      <th>amount</th>\n",
              "      <th>price</th>\n",
              "    </tr>\n",
              "  </thead>\n",
              "  <tbody>\n",
              "    <tr>\n",
              "      <th>count</th>\n",
              "      <td>4455.0</td>\n",
              "      <td>4455.0</td>\n",
              "      <td>4455.0</td>\n",
              "      <td>4455.0</td>\n",
              "      <td>4421.0</td>\n",
              "      <td>4408.0</td>\n",
              "      <td>4437.0</td>\n",
              "      <td>4455.0</td>\n",
              "      <td>4455.0</td>\n",
              "    </tr>\n",
              "    <tr>\n",
              "      <th>mean</th>\n",
              "      <td>8.0</td>\n",
              "      <td>46.0</td>\n",
              "      <td>37.0</td>\n",
              "      <td>56.0</td>\n",
              "      <td>131.0</td>\n",
              "      <td>5403.0</td>\n",
              "      <td>343.0</td>\n",
              "      <td>1039.0</td>\n",
              "      <td>1463.0</td>\n",
              "    </tr>\n",
              "    <tr>\n",
              "      <th>std</th>\n",
              "      <td>8.0</td>\n",
              "      <td>15.0</td>\n",
              "      <td>11.0</td>\n",
              "      <td>20.0</td>\n",
              "      <td>86.0</td>\n",
              "      <td>11573.0</td>\n",
              "      <td>1246.0</td>\n",
              "      <td>475.0</td>\n",
              "      <td>628.0</td>\n",
              "    </tr>\n",
              "    <tr>\n",
              "      <th>min</th>\n",
              "      <td>0.0</td>\n",
              "      <td>6.0</td>\n",
              "      <td>18.0</td>\n",
              "      <td>35.0</td>\n",
              "      <td>0.0</td>\n",
              "      <td>0.0</td>\n",
              "      <td>0.0</td>\n",
              "      <td>100.0</td>\n",
              "      <td>105.0</td>\n",
              "    </tr>\n",
              "    <tr>\n",
              "      <th>25%</th>\n",
              "      <td>2.0</td>\n",
              "      <td>36.0</td>\n",
              "      <td>28.0</td>\n",
              "      <td>35.0</td>\n",
              "      <td>80.0</td>\n",
              "      <td>0.0</td>\n",
              "      <td>0.0</td>\n",
              "      <td>700.0</td>\n",
              "      <td>1118.0</td>\n",
              "    </tr>\n",
              "    <tr>\n",
              "      <th>50%</th>\n",
              "      <td>5.0</td>\n",
              "      <td>48.0</td>\n",
              "      <td>36.0</td>\n",
              "      <td>51.0</td>\n",
              "      <td>120.0</td>\n",
              "      <td>3000.0</td>\n",
              "      <td>0.0</td>\n",
              "      <td>1000.0</td>\n",
              "      <td>1400.0</td>\n",
              "    </tr>\n",
              "    <tr>\n",
              "      <th>75%</th>\n",
              "      <td>12.0</td>\n",
              "      <td>60.0</td>\n",
              "      <td>45.0</td>\n",
              "      <td>72.0</td>\n",
              "      <td>165.0</td>\n",
              "      <td>6000.0</td>\n",
              "      <td>0.0</td>\n",
              "      <td>1300.0</td>\n",
              "      <td>1692.0</td>\n",
              "    </tr>\n",
              "    <tr>\n",
              "      <th>max</th>\n",
              "      <td>48.0</td>\n",
              "      <td>72.0</td>\n",
              "      <td>68.0</td>\n",
              "      <td>180.0</td>\n",
              "      <td>959.0</td>\n",
              "      <td>300000.0</td>\n",
              "      <td>30000.0</td>\n",
              "      <td>5000.0</td>\n",
              "      <td>11140.0</td>\n",
              "    </tr>\n",
              "  </tbody>\n",
              "</table>\n",
              "</div>\n",
              "      <button class=\"colab-df-convert\" onclick=\"convertToInteractive('df-7f631e24-605f-4e2e-b10e-59e44a4fc5d3')\"\n",
              "              title=\"Convert this dataframe to an interactive table.\"\n",
              "              style=\"display:none;\">\n",
              "        \n",
              "  <svg xmlns=\"http://www.w3.org/2000/svg\" height=\"24px\"viewBox=\"0 0 24 24\"\n",
              "       width=\"24px\">\n",
              "    <path d=\"M0 0h24v24H0V0z\" fill=\"none\"/>\n",
              "    <path d=\"M18.56 5.44l.94 2.06.94-2.06 2.06-.94-2.06-.94-.94-2.06-.94 2.06-2.06.94zm-11 1L8.5 8.5l.94-2.06 2.06-.94-2.06-.94L8.5 2.5l-.94 2.06-2.06.94zm10 10l.94 2.06.94-2.06 2.06-.94-2.06-.94-.94-2.06-.94 2.06-2.06.94z\"/><path d=\"M17.41 7.96l-1.37-1.37c-.4-.4-.92-.59-1.43-.59-.52 0-1.04.2-1.43.59L10.3 9.45l-7.72 7.72c-.78.78-.78 2.05 0 2.83L4 21.41c.39.39.9.59 1.41.59.51 0 1.02-.2 1.41-.59l7.78-7.78 2.81-2.81c.8-.78.8-2.07 0-2.86zM5.41 20L4 18.59l7.72-7.72 1.47 1.35L5.41 20z\"/>\n",
              "  </svg>\n",
              "      </button>\n",
              "      \n",
              "  <style>\n",
              "    .colab-df-container {\n",
              "      display:flex;\n",
              "      flex-wrap:wrap;\n",
              "      gap: 12px;\n",
              "    }\n",
              "\n",
              "    .colab-df-convert {\n",
              "      background-color: #E8F0FE;\n",
              "      border: none;\n",
              "      border-radius: 50%;\n",
              "      cursor: pointer;\n",
              "      display: none;\n",
              "      fill: #1967D2;\n",
              "      height: 32px;\n",
              "      padding: 0 0 0 0;\n",
              "      width: 32px;\n",
              "    }\n",
              "\n",
              "    .colab-df-convert:hover {\n",
              "      background-color: #E2EBFA;\n",
              "      box-shadow: 0px 1px 2px rgba(60, 64, 67, 0.3), 0px 1px 3px 1px rgba(60, 64, 67, 0.15);\n",
              "      fill: #174EA6;\n",
              "    }\n",
              "\n",
              "    [theme=dark] .colab-df-convert {\n",
              "      background-color: #3B4455;\n",
              "      fill: #D2E3FC;\n",
              "    }\n",
              "\n",
              "    [theme=dark] .colab-df-convert:hover {\n",
              "      background-color: #434B5C;\n",
              "      box-shadow: 0px 1px 3px 1px rgba(0, 0, 0, 0.15);\n",
              "      filter: drop-shadow(0px 1px 2px rgba(0, 0, 0, 0.3));\n",
              "      fill: #FFFFFF;\n",
              "    }\n",
              "  </style>\n",
              "\n",
              "      <script>\n",
              "        const buttonEl =\n",
              "          document.querySelector('#df-7f631e24-605f-4e2e-b10e-59e44a4fc5d3 button.colab-df-convert');\n",
              "        buttonEl.style.display =\n",
              "          google.colab.kernel.accessAllowed ? 'block' : 'none';\n",
              "\n",
              "        async function convertToInteractive(key) {\n",
              "          const element = document.querySelector('#df-7f631e24-605f-4e2e-b10e-59e44a4fc5d3');\n",
              "          const dataTable =\n",
              "            await google.colab.kernel.invokeFunction('convertToInteractive',\n",
              "                                                     [key], {});\n",
              "          if (!dataTable) return;\n",
              "\n",
              "          const docLinkHtml = 'Like what you see? Visit the ' +\n",
              "            '<a target=\"_blank\" href=https://colab.research.google.com/notebooks/data_table.ipynb>data table notebook</a>'\n",
              "            + ' to learn more about interactive tables.';\n",
              "          element.innerHTML = '';\n",
              "          dataTable['output_type'] = 'display_data';\n",
              "          await google.colab.output.renderOutput(dataTable, element);\n",
              "          const docLink = document.createElement('div');\n",
              "          docLink.innerHTML = docLinkHtml;\n",
              "          element.appendChild(docLink);\n",
              "        }\n",
              "      </script>\n",
              "    </div>\n",
              "  </div>\n",
              "  "
            ]
          },
          "metadata": {},
          "execution_count": 318
        }
      ]
    },
    {
      "cell_type": "code",
      "source": [
        "#now let us look into our target variable \"status\"\n",
        "df.status.value_counts()"
      ],
      "metadata": {
        "colab": {
          "base_uri": "https://localhost:8080/"
        },
        "id": "JzCOKufI2nyh",
        "outputId": "ca5576c0-b31d-4f31-c1b7-4730190b15ba"
      },
      "execution_count": 319,
      "outputs": [
        {
          "output_type": "execute_result",
          "data": {
            "text/plain": [
              "ok         3200\n",
              "default    1254\n",
              "unk           1\n",
              "Name: status, dtype: int64"
            ]
          },
          "metadata": {},
          "execution_count": 319
        }
      ]
    },
    {
      "cell_type": "code",
      "source": [
        "#Let us remove one unknown value as it is not important for our dataset\n",
        "df = df[df[\"status\"]!=\"unk\"]"
      ],
      "metadata": {
        "id": "hDdPGdEF2wdI"
      },
      "execution_count": 320,
      "outputs": []
    },
    {
      "cell_type": "markdown",
      "source": [
        "###Dataset Preparation"
      ],
      "metadata": {
        "id": "N91Dv4k83Rin"
      }
    },
    {
      "cell_type": "code",
      "source": [
        "#first split data into train, validation and test sets\n",
        "df_train_full , df_test = train_test_split(df , test_size = 0.2 , random_state=2)\n",
        "df_train , df_val = train_test_split(df_train_full , test_size = 0.25 , random_state=2)"
      ],
      "metadata": {
        "id": "lPKcokHL3TjR"
      },
      "execution_count": 321,
      "outputs": []
    },
    {
      "cell_type": "code",
      "source": [
        "print((len(df_train),len(df_val) , len(df_test)))"
      ],
      "metadata": {
        "colab": {
          "base_uri": "https://localhost:8080/"
        },
        "id": "p3YClWoS37IU",
        "outputId": "2ddb1380-47a8-40b2-b93a-aab3bb485dd2"
      },
      "execution_count": 322,
      "outputs": [
        {
          "output_type": "stream",
          "name": "stdout",
          "text": [
            "(2672, 891, 891)\n"
          ]
        }
      ]
    },
    {
      "cell_type": "code",
      "source": [
        "y_train = (df_train.status=='default').values\n",
        "y_val = (df_val.status=='default').values\n",
        "del(df_train['status'])\n",
        "del(df_val['status'])"
      ],
      "metadata": {
        "id": "RmmTWJTp3_C4"
      },
      "execution_count": 323,
      "outputs": []
    },
    {
      "cell_type": "code",
      "source": [
        "#now to prepare our X first we need to fill  null values in our columns\n",
        "df_train = df_train.fillna(0)\n",
        "df_val = df_val.fillna(0) "
      ],
      "metadata": {
        "id": "WMY9CVDu4rbN"
      },
      "execution_count": 324,
      "outputs": []
    },
    {
      "cell_type": "code",
      "source": [
        "#now we will do one hot encoding to our categorical variables\n",
        "train_dict  = df_train.to_dict(\"records\")\n",
        "val_dict = df_val.to_dict(\"records\")\n",
        "train_dict[0]"
      ],
      "metadata": {
        "colab": {
          "base_uri": "https://localhost:8080/"
        },
        "id": "qqT7mBYC5D2U",
        "outputId": "50f89cab-66c2-4d91-efbb-df353e36509e"
      },
      "execution_count": 325,
      "outputs": [
        {
          "output_type": "execute_result",
          "data": {
            "text/plain": [
              "{'age': 27,\n",
              " 'amount': 400,\n",
              " 'assets': 0.0,\n",
              " 'debt': 0.0,\n",
              " 'expenses': 58,\n",
              " 'home': 'rent',\n",
              " 'income': 133.0,\n",
              " 'job': 'fixed',\n",
              " 'marital': 'married',\n",
              " 'price': 1136,\n",
              " 'records': 'no',\n",
              " 'seniority': 0,\n",
              " 'time': 60}"
            ]
          },
          "metadata": {},
          "execution_count": 325
        }
      ]
    },
    {
      "cell_type": "code",
      "source": [
        "#now we can use this list of dictionaries to use in DictVectorizer\n",
        "dv = DictVectorizer(sparse = False)\n",
        "X_train = dv.fit_transform(train_dict)\n",
        "X_val = dv.transform(val_dict)"
      ],
      "metadata": {
        "id": "KC9O5Uim5Z29"
      },
      "execution_count": 326,
      "outputs": []
    },
    {
      "cell_type": "markdown",
      "source": [
        "##Decision Tree Classifier"
      ],
      "metadata": {
        "id": "DJT2a9Q16bND"
      }
    },
    {
      "cell_type": "code",
      "source": [
        "dt = DecisionTreeClassifier()\n",
        "dt.fit(X_train , y_train)"
      ],
      "metadata": {
        "colab": {
          "base_uri": "https://localhost:8080/"
        },
        "id": "PwqSGx8d6doy",
        "outputId": "a3a16efd-4429-4744-95b6-229c640faba0"
      },
      "execution_count": 327,
      "outputs": [
        {
          "output_type": "execute_result",
          "data": {
            "text/plain": [
              "DecisionTreeClassifier()"
            ]
          },
          "metadata": {},
          "execution_count": 327
        }
      ]
    },
    {
      "cell_type": "markdown",
      "source": [
        "##Evaluation"
      ],
      "metadata": {
        "id": "rm3ZyH446ybb"
      }
    },
    {
      "cell_type": "markdown",
      "source": [
        "###AUC Score"
      ],
      "metadata": {
        "id": "Gf11BUl766zA"
      }
    },
    {
      "cell_type": "code",
      "source": [
        "#we will now calculate auc score to evalute our model\n",
        "y_pred = dt.predict_proba(X_train)[:,1]\n",
        "roc_auc_score(y_train, y_pred)"
      ],
      "metadata": {
        "colab": {
          "base_uri": "https://localhost:8080/"
        },
        "id": "wRhVT9Bd60HH",
        "outputId": "521e3852-fbe8-4951-bc99-4d9e63503ea5"
      },
      "execution_count": 328,
      "outputs": [
        {
          "output_type": "execute_result",
          "data": {
            "text/plain": [
              "1.0"
            ]
          },
          "metadata": {},
          "execution_count": 328
        }
      ]
    },
    {
      "cell_type": "code",
      "source": [
        "#we can see that this gives us score of 100%. now check on validations set"
      ],
      "metadata": {
        "id": "f24rOLKD7itp"
      },
      "execution_count": 329,
      "outputs": []
    },
    {
      "cell_type": "code",
      "source": [
        "y_pred = dt.predict_proba(X_val)[:,1]\n",
        "roc_auc_score(y_val ,y_pred)"
      ],
      "metadata": {
        "colab": {
          "base_uri": "https://localhost:8080/"
        },
        "id": "_qz3GwH47ra8",
        "outputId": "ae164620-d05d-4280-f82d-12a5035baeb3"
      },
      "execution_count": 330,
      "outputs": [
        {
          "output_type": "execute_result",
          "data": {
            "text/plain": [
              "0.6601121540899672"
            ]
          },
          "metadata": {},
          "execution_count": 330
        }
      ]
    },
    {
      "cell_type": "code",
      "source": [
        "#we can see that our auc score fell to 65% while predicting validation set, it is a case of overfitting"
      ],
      "metadata": {
        "id": "6sK1W_ghWG_c"
      },
      "execution_count": 331,
      "outputs": []
    },
    {
      "cell_type": "code",
      "source": [
        "#now let us tune the max_depth of our decision tree to reduce its complexity\n",
        "dt = DecisionTreeClassifier(max_depth = 2)\n",
        "dt.fit(X_train , y_train)"
      ],
      "metadata": {
        "colab": {
          "base_uri": "https://localhost:8080/"
        },
        "id": "7FEesKpX7y60",
        "outputId": "dc10c1f3-4654-4bd5-e6c2-2e11e8c802a2"
      },
      "execution_count": 332,
      "outputs": [
        {
          "output_type": "execute_result",
          "data": {
            "text/plain": [
              "DecisionTreeClassifier(max_depth=2)"
            ]
          },
          "metadata": {},
          "execution_count": 332
        }
      ]
    },
    {
      "cell_type": "code",
      "source": [
        "#we can also visualize this tree\n",
        "tree_text = export_text(dt , feature_names=dv.feature_names_)\n",
        "print(tree_text)"
      ],
      "metadata": {
        "colab": {
          "base_uri": "https://localhost:8080/"
        },
        "id": "sXksGtoaXAZ6",
        "outputId": "be37c4fc-a6ed-49b0-928d-a0768eaa3959"
      },
      "execution_count": 333,
      "outputs": [
        {
          "output_type": "stream",
          "name": "stdout",
          "text": [
            "|--- seniority <= 2.50\n",
            "|   |--- job=fixed <= 0.50\n",
            "|   |   |--- class: True\n",
            "|   |--- job=fixed >  0.50\n",
            "|   |   |--- class: False\n",
            "|--- seniority >  2.50\n",
            "|   |--- records=no <= 0.50\n",
            "|   |   |--- class: False\n",
            "|   |--- records=no >  0.50\n",
            "|   |   |--- class: False\n",
            "\n"
          ]
        }
      ]
    },
    {
      "cell_type": "code",
      "source": [
        "#now let us see auc score\n",
        "y_pred = dt.predict_proba(X_train)[:,1]\n",
        "auc_train= roc_auc_score(y_train , y_pred)\n",
        "y_pred = dt.predict_proba(X_val)[:,1]\n",
        "auc_val = roc_auc_score(y_val , y_pred)\n",
        "print(f'train auc score: {auc_train}\\nvalidation auc score: {auc_val}')\n",
        "\n"
      ],
      "metadata": {
        "colab": {
          "base_uri": "https://localhost:8080/"
        },
        "id": "BMm8u7uxXtaa",
        "outputId": "f3c629ff-583a-47fb-9231-68cffc7161ea"
      },
      "execution_count": 334,
      "outputs": [
        {
          "output_type": "stream",
          "name": "stdout",
          "text": [
            "train auc score: 0.7196853699496197\n",
            "validation auc score: 0.726276971839571\n"
          ]
        }
      ]
    },
    {
      "cell_type": "code",
      "source": [
        "#We can see that train auc score dropped but validation auc score increased, this mean the model is \n",
        "#not overfitting the data"
      ],
      "metadata": {
        "id": "4erE2C-XY1ru"
      },
      "execution_count": 335,
      "outputs": []
    },
    {
      "cell_type": "code",
      "source": [
        "#Now let us see for other depths\n",
        "for d in [1,2,3,4,5,6,7,8,9,10,15,20,None]:\n",
        "  dt = DecisionTreeClassifier(max_depth = d)\n",
        "  dt.fit(X_train , y_train)\n",
        "  y_pred = dt.predict_proba(X_val)[:,1]\n",
        "  auc = roc_auc_score(y_val , y_pred)\n",
        "  print(f'{d} ---> {auc}')"
      ],
      "metadata": {
        "colab": {
          "base_uri": "https://localhost:8080/"
        },
        "id": "YLSKFxbdZNvq",
        "outputId": "de0af859-accd-4fde-950c-a63a9ff689ad"
      },
      "execution_count": 336,
      "outputs": [
        {
          "output_type": "stream",
          "name": "stdout",
          "text": [
            "1 ---> 0.6442642935511398\n",
            "2 ---> 0.726276971839571\n",
            "3 ---> 0.7538004388638303\n",
            "4 ---> 0.7618188467633792\n",
            "5 ---> 0.7644794587346092\n",
            "6 ---> 0.7485858832134584\n",
            "7 ---> 0.735730830184079\n",
            "8 ---> 0.7049341704254541\n",
            "9 ---> 0.6809856150188955\n",
            "10 ---> 0.6715744239912227\n",
            "15 ---> 0.6422497866634158\n",
            "20 ---> 0.6511733512129708\n",
            "None ---> 0.6413354870169451\n"
          ]
        }
      ]
    },
    {
      "cell_type": "code",
      "source": [
        "#we can see that best three values of depth are 5 , 4 , 3\n",
        "#now we will check best value for parameter min_sample_leaf\n",
        "\n",
        "for d in [3,4,5]:\n",
        "  print('depth: %s'%d)\n",
        "  for s in [1, 5, 10, 15, 20, 50, 100, 200]:\n",
        "    dt = DecisionTreeClassifier(max_depth = d , min_samples_leaf = s)\n",
        "    dt.fit(X_train,y_train)\n",
        "    y_pred = dt.predict_proba(X_val)[:,1]\n",
        "    auc = roc_auc_score(y_val , y_pred)\n",
        "    print('%s --> %.3f' %(s,auc))\n",
        "  print()"
      ],
      "metadata": {
        "colab": {
          "base_uri": "https://localhost:8080/"
        },
        "id": "-GKTB1HHclO2",
        "outputId": "ac2fbc7f-f1b3-40e8-b328-58c8fe67a371"
      },
      "execution_count": 337,
      "outputs": [
        {
          "output_type": "stream",
          "name": "stdout",
          "text": [
            "depth: 3\n",
            "1 --> 0.754\n",
            "5 --> 0.754\n",
            "10 --> 0.754\n",
            "15 --> 0.754\n",
            "20 --> 0.754\n",
            "50 --> 0.754\n",
            "100 --> 0.732\n",
            "200 --> 0.744\n",
            "\n",
            "depth: 4\n",
            "1 --> 0.762\n",
            "5 --> 0.762\n",
            "10 --> 0.757\n",
            "15 --> 0.757\n",
            "20 --> 0.758\n",
            "50 --> 0.772\n",
            "100 --> 0.738\n",
            "200 --> 0.744\n",
            "\n",
            "depth: 5\n",
            "1 --> 0.764\n",
            "5 --> 0.769\n",
            "10 --> 0.769\n",
            "15 --> 0.770\n",
            "20 --> 0.767\n",
            "50 --> 0.780\n",
            "100 --> 0.748\n",
            "200 --> 0.753\n",
            "\n"
          ]
        }
      ]
    },
    {
      "cell_type": "code",
      "source": [
        "#we can see that max auc score (78%) can be acieved by depth = 5 and and sample leaf = 50 "
      ],
      "metadata": {
        "id": "bDEAUfdJd3mQ"
      },
      "execution_count": 338,
      "outputs": []
    },
    {
      "cell_type": "code",
      "source": [
        "dt = DecisionTreeClassifier(max_depth=5 , min_samples_leaf = 50)\n",
        "dt.fit(X_train, y_train)"
      ],
      "metadata": {
        "colab": {
          "base_uri": "https://localhost:8080/"
        },
        "id": "efkpZPMWezbr",
        "outputId": "2980a5c7-88c8-402b-d5d7-73e2acdfd5af"
      },
      "execution_count": 339,
      "outputs": [
        {
          "output_type": "execute_result",
          "data": {
            "text/plain": [
              "DecisionTreeClassifier(max_depth=5, min_samples_leaf=50)"
            ]
          },
          "metadata": {},
          "execution_count": 339
        }
      ]
    },
    {
      "cell_type": "markdown",
      "source": [
        "##Random Forest Classifer"
      ],
      "metadata": {
        "id": "MfNfi3ZRfble"
      }
    },
    {
      "cell_type": "code",
      "source": [
        "rf = RandomForestClassifier(n_estimators = 10)\n",
        "rf.fit(X_train , y_train)"
      ],
      "metadata": {
        "colab": {
          "base_uri": "https://localhost:8080/"
        },
        "id": "YLid_34fffRp",
        "outputId": "26b9ae51-3429-423f-c057-f1645dae2b6d"
      },
      "execution_count": 340,
      "outputs": [
        {
          "output_type": "execute_result",
          "data": {
            "text/plain": [
              "RandomForestClassifier(n_estimators=10)"
            ]
          },
          "metadata": {},
          "execution_count": 340
        }
      ]
    },
    {
      "cell_type": "markdown",
      "source": [
        "###Evaluation"
      ],
      "metadata": {
        "id": "xpUfBcEhf4iv"
      }
    },
    {
      "cell_type": "code",
      "source": [
        "y_pred = rf.predict_proba(X_val)[:,1]\n",
        "roc_auc_score(y_val, y_pred)"
      ],
      "metadata": {
        "colab": {
          "base_uri": "https://localhost:8080/"
        },
        "id": "PqB16-R9f5q4",
        "outputId": "ac7e2414-5eb4-44cd-e254-c72812324da5"
      },
      "execution_count": 341,
      "outputs": [
        {
          "output_type": "execute_result",
          "data": {
            "text/plain": [
              "0.7886322077288797"
            ]
          },
          "metadata": {},
          "execution_count": 341
        }
      ]
    },
    {
      "cell_type": "code",
      "source": [
        "#we can see that our auc score is 77.8% let us look for different values of n_estimator"
      ],
      "metadata": {
        "id": "G6a864_zgGX4"
      },
      "execution_count": 342,
      "outputs": []
    },
    {
      "cell_type": "code",
      "source": [
        "aucs= []\n",
        "for n in range(10,201,10):\n",
        "  rf = RandomForestClassifier(n_estimators = n , random_state = 3)\n",
        "  rf.fit(X_train , y_train)\n",
        "  y_pred = rf.predict_proba(X_val)[:,1]\n",
        "  auc = roc_auc_score(y_val, y_pred)\n",
        "  aucs.append(auc)\n"
      ],
      "metadata": {
        "id": "LcQvraYGgYcT"
      },
      "execution_count": 343,
      "outputs": []
    },
    {
      "cell_type": "code",
      "source": [
        "plt.plot(range(10,201,10) , aucs)\n",
        "plt.xlabel(\"n_estimators\")\n",
        "plt.ylabel(\"AUCs\")\n"
      ],
      "metadata": {
        "colab": {
          "base_uri": "https://localhost:8080/",
          "height": 297
        },
        "id": "KkDiDOjSg6xt",
        "outputId": "51c9b85b-e1a7-4992-a634-5f4ab2102e84"
      },
      "execution_count": 344,
      "outputs": [
        {
          "output_type": "execute_result",
          "data": {
            "text/plain": [
              "Text(0, 0.5, 'AUCs')"
            ]
          },
          "metadata": {},
          "execution_count": 344
        },
        {
          "output_type": "display_data",
          "data": {
            "text/plain": [
              "<Figure size 432x288 with 1 Axes>"
            ],
            "image/png": "[encoded data removed]"
          },
          "metadata": {
            "needs_background": "light"
          }
        }
      ]
    },
    {
      "cell_type": "code",
      "source": [
        "#we can see that after around 130 estimators the value doesnt grow much"
      ],
      "metadata": {
        "id": "L6Eb2Cq5hVoU"
      },
      "execution_count": 345,
      "outputs": []
    },
    {
      "cell_type": "code",
      "source": [
        "#now let us see tune the values for other parameter in RandomForestClassifier\n",
        "all_aucs={}\n",
        "\n",
        "for d in [5,10,20]:\n",
        "  print('depth %s'%d)\n",
        "  aucs = []\n",
        "  for i in range(10, 201 , 10):\n",
        "    rf = RandomForestClassifier(n_estimators = i , max_depth = d , random_state = 1)\n",
        "    rf.fit(X_train,y_train)\n",
        "    y_pred = rf.predict_proba(X_val)[:,1]\n",
        "    auc = roc_auc_score(y_val, y_pred)\n",
        "    print('%s --> %.3f'%(i,auc))\n",
        "    aucs.append(auc)\n",
        "  \n",
        "  all_aucs[d] = aucs\n",
        "  print()"
      ],
      "metadata": {
        "colab": {
          "base_uri": "https://localhost:8080/"
        },
        "id": "P0GA_u0IhsE2",
        "outputId": "697e04eb-0050-4fed-f391-1dffcf71aa01"
      },
      "execution_count": 346,
      "outputs": [
        {
          "output_type": "stream",
          "name": "stdout",
          "text": [
            "depth 5\n",
            "10 --> 0.826\n",
            "20 --> 0.835\n",
            "30 --> 0.834\n",
            "40 --> 0.835\n",
            "50 --> 0.836\n",
            "60 --> 0.835\n",
            "70 --> 0.835\n",
            "80 --> 0.836\n",
            "90 --> 0.835\n",
            "100 --> 0.835\n",
            "110 --> 0.835\n",
            "120 --> 0.835\n",
            "130 --> 0.834\n",
            "140 --> 0.835\n",
            "150 --> 0.834\n",
            "160 --> 0.835\n",
            "170 --> 0.835\n",
            "180 --> 0.835\n",
            "190 --> 0.835\n",
            "200 --> 0.835\n",
            "\n",
            "depth 10\n",
            "10 --> 0.832\n",
            "20 --> 0.836\n",
            "30 --> 0.836\n",
            "40 --> 0.837\n",
            "50 --> 0.838\n",
            "60 --> 0.838\n",
            "70 --> 0.838\n",
            "80 --> 0.839\n",
            "90 --> 0.839\n",
            "100 --> 0.837\n",
            "110 --> 0.837\n",
            "120 --> 0.837\n",
            "130 --> 0.836\n",
            "140 --> 0.836\n",
            "150 --> 0.836\n",
            "160 --> 0.836\n",
            "170 --> 0.836\n",
            "180 --> 0.835\n",
            "190 --> 0.835\n",
            "200 --> 0.835\n",
            "\n",
            "depth 20\n",
            "10 --> 0.794\n",
            "20 --> 0.817\n",
            "30 --> 0.814\n",
            "40 --> 0.821\n",
            "50 --> 0.821\n",
            "60 --> 0.821\n",
            "70 --> 0.823\n",
            "80 --> 0.823\n",
            "90 --> 0.824\n",
            "100 --> 0.824\n",
            "110 --> 0.825\n",
            "120 --> 0.824\n",
            "130 --> 0.825\n",
            "140 --> 0.824\n",
            "150 --> 0.826\n",
            "160 --> 0.824\n",
            "170 --> 0.825\n",
            "180 --> 0.826\n",
            "190 --> 0.826\n",
            "200 --> 0.825\n",
            "\n"
          ]
        }
      ]
    },
    {
      "cell_type": "code",
      "source": [
        "num_trees = list(range(10,201,10))\n",
        "plt.plot(num_trees , all_aucs[5] , label = 'depth=5')\n",
        "plt.plot(num_trees , all_aucs[10] , label = 'depth=10')\n",
        "plt.plot(num_trees , all_aucs[20] , label = 'depth=20')\n",
        "plt.title(\"Number of Estimators vs AUC\")\n",
        "plt.xlabel(\"Number of Estimators\")\n",
        "plt.ylabel(\"AUC\")\n",
        "plt.legend()"
      ],
      "metadata": {
        "colab": {
          "base_uri": "https://localhost:8080/",
          "height": 312
        },
        "id": "gmbaIZ4YkojA",
        "outputId": "b640db2f-0652-4cff-86dc-355054f6c0a4"
      },
      "execution_count": 347,
      "outputs": [
        {
          "output_type": "execute_result",
          "data": {
            "text/plain": [
              "<matplotlib.legend.Legend at 0x7fef1da7d590>"
            ]
          },
          "metadata": {},
          "execution_count": 347
        },
        {
          "output_type": "display_data",
          "data": {
            "text/plain": [
              "<Figure size 432x288 with 1 Axes>"
            ],
            "image/png": "[encoded data removed]"
          },
          "metadata": {
            "needs_background": "light"
          }
        }
      ]
    },
    {
      "cell_type": "code",
      "source": [
        "#with depth = 10 our auc score goes to 84% , on other depth we cannot achieve this score"
      ],
      "metadata": {
        "id": "etehx_2SlWSm"
      },
      "execution_count": 348,
      "outputs": []
    },
    {
      "cell_type": "code",
      "source": [
        "#now we will tune min_samples_leaf\n",
        "all_aucs={}\n",
        "\n",
        "for s in [3,5,10]:\n",
        "  print('sample %s'%s)\n",
        "  aucs = []\n",
        "  for i in range(10, 201 , 10):\n",
        "    rf = RandomForestClassifier(n_estimators = i , max_depth = 10 ,min_samples_leaf=s, random_state = 1)\n",
        "    rf.fit(X_train,y_train)\n",
        "    y_pred = rf.predict_proba(X_val)[:,1]\n",
        "    auc = roc_auc_score(y_val, y_pred)\n",
        "    print('%s --> %.3f'%(i,auc))\n",
        "    aucs.append(auc)\n",
        "  all_aucs[s] = aucs\n",
        "  print()"
      ],
      "metadata": {
        "colab": {
          "base_uri": "https://localhost:8080/"
        },
        "id": "P1YZhgCYl3jt",
        "outputId": "bca99f62-09cc-4c97-b3f3-2615da8bfc9f"
      },
      "execution_count": 349,
      "outputs": [
        {
          "output_type": "stream",
          "name": "stdout",
          "text": [
            "sample 3\n",
            "10 --> 0.815\n",
            "20 --> 0.833\n",
            "30 --> 0.830\n",
            "40 --> 0.829\n",
            "50 --> 0.831\n",
            "60 --> 0.831\n",
            "70 --> 0.834\n",
            "80 --> 0.834\n",
            "90 --> 0.834\n",
            "100 --> 0.835\n",
            "110 --> 0.836\n",
            "120 --> 0.836\n",
            "130 --> 0.835\n",
            "140 --> 0.835\n",
            "150 --> 0.835\n",
            "160 --> 0.836\n",
            "170 --> 0.836\n",
            "180 --> 0.836\n",
            "190 --> 0.836\n",
            "200 --> 0.836\n",
            "\n",
            "sample 5\n",
            "10 --> 0.817\n",
            "20 --> 0.832\n",
            "30 --> 0.834\n",
            "40 --> 0.835\n",
            "50 --> 0.835\n",
            "60 --> 0.835\n",
            "70 --> 0.836\n",
            "80 --> 0.839\n",
            "90 --> 0.838\n",
            "100 --> 0.838\n",
            "110 --> 0.838\n",
            "120 --> 0.837\n",
            "130 --> 0.836\n",
            "140 --> 0.836\n",
            "150 --> 0.836\n",
            "160 --> 0.836\n",
            "170 --> 0.836\n",
            "180 --> 0.837\n",
            "190 --> 0.837\n",
            "200 --> 0.837\n",
            "\n",
            "sample 10\n",
            "10 --> 0.819\n",
            "20 --> 0.826\n",
            "30 --> 0.827\n",
            "40 --> 0.833\n",
            "50 --> 0.834\n",
            "60 --> 0.834\n",
            "70 --> 0.836\n",
            "80 --> 0.836\n",
            "90 --> 0.836\n",
            "100 --> 0.837\n",
            "110 --> 0.836\n",
            "120 --> 0.835\n",
            "130 --> 0.836\n",
            "140 --> 0.836\n",
            "150 --> 0.836\n",
            "160 --> 0.837\n",
            "170 --> 0.837\n",
            "180 --> 0.837\n",
            "190 --> 0.837\n",
            "200 --> 0.837\n",
            "\n"
          ]
        }
      ]
    },
    {
      "cell_type": "code",
      "source": [
        "num_trees = list(range(10,201,10))\n",
        "plt.plot(num_trees , all_aucs[3] , label = 'sample=3')\n",
        "plt.plot(num_trees , all_aucs[5] , label = 'sample=5')\n",
        "plt.plot(num_trees , all_aucs[10] , label = 'sample=10')\n",
        "plt.title(\"Number of Estimators vs AUC\")\n",
        "plt.xlabel(\"Number of Estimators\")\n",
        "plt.ylabel(\"AUC\")\n",
        "plt.legend()"
      ],
      "metadata": {
        "colab": {
          "base_uri": "https://localhost:8080/",
          "height": 312
        },
        "id": "GT2oswTUlUL-",
        "outputId": "809b22f8-88c2-4998-a697-942c4e7111ef"
      },
      "execution_count": 350,
      "outputs": [
        {
          "output_type": "execute_result",
          "data": {
            "text/plain": [
              "<matplotlib.legend.Legend at 0x7fef1dbbe810>"
            ]
          },
          "metadata": {},
          "execution_count": 350
        },
        {
          "output_type": "display_data",
          "data": {
            "text/plain": [
              "<Figure size 432x288 with 1 Axes>"
            ],
            "image/png": "[encoded data removed]"
          },
          "metadata": {
            "needs_background": "light"
          }
        }
      ]
    },
    {
      "cell_type": "code",
      "source": [
        "#we can see that best auc can be achieved bu min_samples_leaf = 5 \n",
        "#so our best parameters are max_depth = 10 , min_samples_leaf = 5"
      ],
      "metadata": {
        "id": "mVlp6rtmggfS"
      },
      "execution_count": 351,
      "outputs": []
    },
    {
      "cell_type": "code",
      "source": [
        "rf = RandomForestClassifier(n_estimators = 200 , max_depth = 10 , min_samples_leaf = 5 , random_state = 1)\n",
        "rf.fit(X_train , y_train)"
      ],
      "metadata": {
        "colab": {
          "base_uri": "https://localhost:8080/"
        },
        "id": "VdJL9X_fosF5",
        "outputId": "f8eed27e-1d09-4268-e808-29eec0b4cd72"
      },
      "execution_count": 352,
      "outputs": [
        {
          "output_type": "execute_result",
          "data": {
            "text/plain": [
              "RandomForestClassifier(max_depth=10, min_samples_leaf=5, n_estimators=200,\n",
              "                       random_state=1)"
            ]
          },
          "metadata": {},
          "execution_count": 352
        }
      ]
    },
    {
      "cell_type": "markdown",
      "source": [
        "##Gradient Boosting"
      ],
      "metadata": {
        "id": "gbGbAJIWGNPG"
      }
    },
    {
      "cell_type": "code",
      "source": [
        "#first we will need to convert our train and val set to dmatrix , a special datatype use to give as input to xgboost\n",
        "dtrain = xgb.DMatrix(X_train , label= y_train , feature_names=dv.feature_names_)\n",
        "dval = xgb.DMatrix(X_val , label = y_val , feature_names=dv.feature_names_)"
      ],
      "metadata": {
        "id": "Fb5SZWm-GU8m"
      },
      "execution_count": 353,
      "outputs": []
    },
    {
      "cell_type": "code",
      "source": [
        "#now we will look for parameter of xgboost\n",
        "xgbparams = {\n",
        "    'eta':0.3,\n",
        "    'max_depth':6,\n",
        "    'min_child_weight' : 1,\n",
        "    'objective':'binary:logistic',\n",
        "    'nthread':8,\n",
        "    'seed':1,\n",
        "    'silent':1\n",
        "}"
      ],
      "metadata": {
        "id": "wA1cyJ9VHeaO"
      },
      "execution_count": 354,
      "outputs": []
    },
    {
      "cell_type": "code",
      "source": [
        "#now we will train our xgb model\n",
        "model = xgb.train(xgbparams , dtrain , num_boost_round = 10 )"
      ],
      "metadata": {
        "id": "2y_KEzpTLFww"
      },
      "execution_count": 355,
      "outputs": []
    },
    {
      "cell_type": "code",
      "source": [
        "y_pred = model.predict(dval)\n",
        "y_pred[:10]"
      ],
      "metadata": {
        "colab": {
          "base_uri": "https://localhost:8080/"
        },
        "id": "VDrB3ESWNZlr",
        "outputId": "79a70aca-2d70-4f1d-992b-a4c2dc526eee"
      },
      "execution_count": 356,
      "outputs": [
        {
          "output_type": "execute_result",
          "data": {
            "text/plain": [
              "array([0.23491752, 0.18245752, 0.1169696 , 0.9392717 , 0.48931825,\n",
              "       0.18239342, 0.10014149, 0.08230317, 0.08700099, 0.18377766],\n",
              "      dtype=float32)"
            ]
          },
          "metadata": {},
          "execution_count": 356
        }
      ]
    },
    {
      "cell_type": "code",
      "source": [
        "#now we calculate auc score\n",
        "roc_auc_score(y_val , y_pred)"
      ],
      "metadata": {
        "colab": {
          "base_uri": "https://localhost:8080/"
        },
        "id": "SMuqu23BNhXB",
        "outputId": "417142dc-a1df-4c45-ee1a-82877529bb7f"
      },
      "execution_count": 357,
      "outputs": [
        {
          "output_type": "execute_result",
          "data": {
            "text/plain": [
              "0.8260941119102767"
            ]
          },
          "metadata": {},
          "execution_count": 357
        }
      ]
    },
    {
      "cell_type": "code",
      "source": [
        "#it is a good result but slightly worse than our random forest model."
      ],
      "metadata": {
        "id": "4aBNo6UONqJ7"
      },
      "execution_count": 358,
      "outputs": []
    },
    {
      "cell_type": "markdown",
      "source": [
        "###Evaluation"
      ],
      "metadata": {
        "id": "-1sF3bM6ONi-"
      }
    },
    {
      "cell_type": "code",
      "source": [
        "#to get idea how auc changes for different number of trees we can create a watchlist\n",
        "watchlist = [(dtrain, 'train') , (dval , 'val')]\n",
        "xgbparams = {\n",
        "     'eta':0.3,\n",
        "    'max_depth':6,\n",
        "    'min_child_weight' : 1,\n",
        "    'objective':'binary:logistic',\n",
        "    'eval_metric':'auc',\n",
        "    'nthread':8,\n",
        "    'seed':1,\n",
        "    'silent':1\n",
        "\n",
        "}"
      ],
      "metadata": {
        "id": "M3p24EBLOO-q"
      },
      "execution_count": 359,
      "outputs": []
    },
    {
      "cell_type": "code",
      "source": [
        "#now train the model\n",
        "model = xgb.train(xgbparams, dtrain , num_boost_round = 100, evals = watchlist , verbose_eval = 10)"
      ],
      "metadata": {
        "colab": {
          "base_uri": "https://localhost:8080/"
        },
        "id": "pm52CjXfO1xW",
        "outputId": "c554e60b-99f2-41d1-f35f-9887f14152bd"
      },
      "execution_count": 360,
      "outputs": [
        {
          "output_type": "stream",
          "name": "stdout",
          "text": [
            "[0]\ttrain-auc:0.85751\tval-auc:0.761002\n",
            "[10]\ttrain-auc:0.957698\tval-auc:0.823272\n",
            "[20]\ttrain-auc:0.976873\tval-auc:0.82393\n",
            "[30]\ttrain-auc:0.986627\tval-auc:0.824064\n",
            "[40]\ttrain-auc:0.992112\tval-auc:0.819408\n",
            "[50]\ttrain-auc:0.997114\tval-auc:0.819127\n",
            "[60]\ttrain-auc:0.998443\tval-auc:0.821011\n",
            "[70]\ttrain-auc:0.999384\tval-auc:0.820194\n",
            "[80]\ttrain-auc:0.999729\tval-auc:0.817506\n",
            "[90]\ttrain-auc:0.999888\tval-auc:0.81806\n",
            "[99]\ttrain-auc:0.999933\tval-auc:0.81839\n"
          ]
        }
      ]
    },
    {
      "cell_type": "code",
      "source": [
        "train_auc = [0.85751 , 0.957698,0.976873,0.986627,0.992112,0.997114,0.998443,0.999384,0.999729,0.999888,0.999933]\n",
        "val_auc = [0.761002,0.823272,0.82393,0.824064,0.819408,0.819127,0.821011,0.820194,0.817506,0.81806,0.81839]\n",
        "n_of_trees = np.arange(0,101, 10)"
      ],
      "metadata": {
        "id": "6X5GiFp0P2pn"
      },
      "execution_count": 361,
      "outputs": []
    },
    {
      "cell_type": "code",
      "source": [
        "plt.plot(n_of_trees , train_auc , label = \"Train AUC\")\n",
        "plt.plot(n_of_trees , val_auc , label = \"Validation AUC\")\n",
        "plt.xlabel(\"Number of trees\")\n",
        "plt.ylabel(\"AUC\")\n",
        "plt.title(\"Number of trees vs AUC Score\")\n",
        "plt.legend()\n",
        "\n"
      ],
      "metadata": {
        "colab": {
          "base_uri": "https://localhost:8080/",
          "height": 312
        },
        "id": "cydd52OlSjft",
        "outputId": "ab339726-0d20-4829-ba54-66e1167f9dee"
      },
      "execution_count": 362,
      "outputs": [
        {
          "output_type": "execute_result",
          "data": {
            "text/plain": [
              "<matplotlib.legend.Legend at 0x7fef1dac72d0>"
            ]
          },
          "metadata": {},
          "execution_count": 362
        },
        {
          "output_type": "display_data",
          "data": {
            "text/plain": [
              "<Figure size 432x288 with 1 Axes>"
            ],
            "image/png": "[encoded data removed]"
          },
          "metadata": {
            "needs_background": "light"
          }
        }
      ]
    },
    {
      "cell_type": "code",
      "source": [
        "#we can see that as number of trees increases the auc for training set also increases because each new tree learn \n",
        "#from the mistakes of previous tree but in validation set for first 15 trees the auc increases but after that \n",
        "#it does'nt change much. It is the case of overfitting. "
      ],
      "metadata": {
        "id": "Vnm4ejjbTGJT"
      },
      "execution_count": 363,
      "outputs": []
    },
    {
      "cell_type": "markdown",
      "source": [
        "####Parameter Tuning"
      ],
      "metadata": {
        "id": "67pRqvRkVA6B"
      }
    },
    {
      "cell_type": "code",
      "source": [
        "#we need to change 'eta' parameter as our dataset is small , the eta value should be 0.1"
      ],
      "metadata": {
        "id": "wPdVY85IVDRG"
      },
      "execution_count": 364,
      "outputs": []
    },
    {
      "cell_type": "code",
      "source": [
        "save = {}\n",
        "model = xgb.train(xgbparams , dtrain , num_boost_round = 500 ,verbose_eval = 200, evals = watchlist , evals_result=save)\n",
        "n_of_trees = np.arange(0,500,10)\n",
        "fig, ax = plt.subplots()\n",
        "plt.plot(n_of_trees , save['val']['auc'][::10] , label = \"eta=0.3\" )\n",
        "\n",
        "\n",
        "xgbparams = {\n",
        "     'eta':0.05,\n",
        "    'max_depth':6,\n",
        "    'min_child_weight' : 1,\n",
        "    'objective':'binary:logistic',\n",
        "    'eval_metric':'auc',\n",
        "    'nthread':8,\n",
        "    'seed':1,\n",
        "    'silent':1\n",
        "\n",
        "}\n",
        "model = xgb.train(xgbparams , dtrain , num_boost_round = 500  ,verbose_eval = 200, evals = watchlist , evals_result=save)\n",
        "plt.plot(n_of_trees , save['val']['auc'][::10] , label = \"eta=0.05\" )\n",
        "plt.xlabel(\"Number of trees\")\n",
        "plt.ylabel(\"AUC\")\n",
        "plt.title('The effect of eta on model')\n",
        "plt.legend()\n",
        "plt.show()\n"
      ],
      "metadata": {
        "colab": {
          "base_uri": "https://localhost:8080/",
          "height": 434
        },
        "id": "ZHvQN1InVZ6f",
        "outputId": "d8b93e68-b6d7-44f2-c5c8-081f8ab35778"
      },
      "execution_count": 365,
      "outputs": [
        {
          "output_type": "stream",
          "name": "stdout",
          "text": [
            "[0]\ttrain-auc:0.85751\tval-auc:0.761002\n",
            "[200]\ttrain-auc:1\tval-auc:0.818457\n",
            "[400]\ttrain-auc:1\tval-auc:0.817396\n",
            "[499]\ttrain-auc:1\tval-auc:0.816549\n",
            "[0]\ttrain-auc:0.85751\tval-auc:0.761002\n",
            "[200]\ttrain-auc:0.986977\tval-auc:0.822723\n",
            "[400]\ttrain-auc:0.998616\tval-auc:0.81533\n",
            "[499]\ttrain-auc:0.999658\tval-auc:0.811874\n"
          ]
        },
        {
          "output_type": "display_data",
          "data": {
            "text/plain": [
              "<Figure size 432x288 with 1 Axes>"
            ],
            "image/png": "[encoded data removed]"
          },
          "metadata": {
            "needs_background": "light"
          }
        }
      ]
    },
    {
      "cell_type": "code",
      "source": [
        "#now we can tune max_depth , the default value is 6 so we can try 3 and 10 as other values\n"
      ],
      "metadata": {
        "id": "0myuR8bOXfeU"
      },
      "execution_count": 366,
      "outputs": []
    },
    {
      "cell_type": "code",
      "source": [
        "xgbparams['max_depth'] = 6\n",
        "model = xgb.train(xgbparams ,dtrain , num_boost_round = 500,verbose_eval = 500, evals = watchlist , evals_result=save )\n",
        "plt.plot(n_of_trees , save['val']['auc'][::10] , label = \"max_depth = 6\")\n",
        "xgbparams['max_depth'] = 3\n",
        "model = xgb.train(xgbparams ,dtrain , num_boost_round = 500,verbose_eval = 500, evals = watchlist , evals_result=save )\n",
        "plt.plot(n_of_trees , save['val']['auc'][::10] , label = \"max_depth = 3\")\n",
        "xgbparams['max_depth'] = 10\n",
        "model = xgb.train(xgbparams ,dtrain , num_boost_round = 500,verbose_eval = 500, evals = watchlist , evals_result=save )\n",
        "plt.plot(n_of_trees , save['val']['auc'][::10] , label = \"max_depth = 10\")\n",
        "plt.xlabel(\"Number of trees\")\n",
        "plt.ylabel(\"AUC\")\n",
        "plt.title(\"Effect of max_depth on model\")\n",
        "plt.legend()\n",
        "\n"
      ],
      "metadata": {
        "colab": {
          "base_uri": "https://localhost:8080/",
          "height": 416
        },
        "id": "BARVF9KvWhyj",
        "outputId": "a6f202df-a9f0-4f21-b77f-cf7732f1410b"
      },
      "execution_count": 367,
      "outputs": [
        {
          "output_type": "stream",
          "name": "stdout",
          "text": [
            "[0]\ttrain-auc:0.85751\tval-auc:0.761002\n",
            "[499]\ttrain-auc:0.999658\tval-auc:0.811874\n",
            "[0]\ttrain-auc:0.767788\tval-auc:0.7538\n",
            "[499]\ttrain-auc:0.943984\tval-auc:0.831098\n",
            "[0]\ttrain-auc:0.920762\tval-auc:0.765848\n",
            "[499]\ttrain-auc:1\tval-auc:0.814086\n"
          ]
        },
        {
          "output_type": "execute_result",
          "data": {
            "text/plain": [
              "<matplotlib.legend.Legend at 0x7fef1d915850>"
            ]
          },
          "metadata": {},
          "execution_count": 367
        },
        {
          "output_type": "display_data",
          "data": {
            "text/plain": [
              "<Figure size 432x288 with 1 Axes>"
            ],
            "image/png": "[encoded data removed]"
          },
          "metadata": {
            "needs_background": "light"
          }
        }
      ]
    },
    {
      "cell_type": "code",
      "source": [
        "#we can see that best value for depth is 3\n",
        "#now we will tune min_child_weight\n",
        "\n",
        "xgbparams[\"max_depth\"] = 3\n",
        "xgbparams[\"min_child_weight\"] = 10\n",
        "model = xgb.train(xgbparams ,dtrain , num_boost_round = 500,verbose_eval = 500, evals = watchlist , evals_result=save )\n",
        "plt.plot(n_of_trees , save['val']['auc'][::10] , label = \"min_child_weight = 10\")\n",
        "\n",
        "xgbparams[\"min_child_weight\"] = 30\n",
        "model = xgb.train(xgbparams ,dtrain , num_boost_round = 500,verbose_eval = 500, evals = watchlist , evals_result=save )\n",
        "plt.plot(n_of_trees , save['val']['auc'][::10] , label = \"min_child_weight = 30\")\n",
        "\n",
        "xgbparams[\"min_child_weight\"] = 1\n",
        "model = xgb.train(xgbparams ,dtrain , num_boost_round = 500,verbose_eval = 500, evals = watchlist , evals_result=save )\n",
        "plt.plot(n_of_trees , save['val']['auc'][::10] , label = \"min_child_weight = 1\")\n",
        "\n",
        "plt.xlabel(\"Number of trees\")\n",
        "plt.ylabel(\"AUC\")\n",
        "plt.title(\"Effect of min_child_weight on model\")\n",
        "plt.legend()\n"
      ],
      "metadata": {
        "colab": {
          "base_uri": "https://localhost:8080/",
          "height": 416
        },
        "id": "5HqfK0t7feUT",
        "outputId": "1d39a3cd-8879-4062-ecef-0f335b67f55c"
      },
      "execution_count": 368,
      "outputs": [
        {
          "output_type": "stream",
          "name": "stdout",
          "text": [
            "[0]\ttrain-auc:0.767788\tval-auc:0.7538\n",
            "[499]\ttrain-auc:0.929304\tval-auc:0.837748\n",
            "[0]\ttrain-auc:0.767501\tval-auc:0.729623\n",
            "[499]\ttrain-auc:0.90689\tval-auc:0.838815\n",
            "[0]\ttrain-auc:0.767788\tval-auc:0.7538\n",
            "[499]\ttrain-auc:0.943984\tval-auc:0.831098\n"
          ]
        },
        {
          "output_type": "execute_result",
          "data": {
            "text/plain": [
              "<matplotlib.legend.Legend at 0x7fef1d7b6490>"
            ]
          },
          "metadata": {},
          "execution_count": 368
        },
        {
          "output_type": "display_data",
          "data": {
            "text/plain": [
              "<Figure size 432x288 with 1 Axes>"
            ],
            "image/png": "[encoded data removed]"
          },
          "metadata": {
            "needs_background": "light"
          }
        }
      ]
    },
    {
      "cell_type": "code",
      "source": [
        "#we can see that there is not much difference so we will go with default value that is 1"
      ],
      "metadata": {
        "id": "ljC_thDngaQT"
      },
      "execution_count": 369,
      "outputs": []
    },
    {
      "cell_type": "code",
      "source": [
        "#so our final parameters are\n",
        "xgbparams = {\n",
        " 'eta': 0.05,\n",
        " 'max_depth': 3,\n",
        " 'min_child_weight': 1,\n",
        " 'objective': 'binary:logistic',\n",
        " 'eval_metric': 'auc',\n",
        " 'nthread': 8,\n",
        " 'seed': 1,\n",
        " 'silent': 1\n",
        "}"
      ],
      "metadata": {
        "id": "3EaR53Yhh6ZC"
      },
      "execution_count": 370,
      "outputs": []
    },
    {
      "cell_type": "code",
      "source": [
        "#but we still have to select number of trees.\n",
        "model = xgb.train(xgbparams ,dtrain , num_boost_round = 500,verbose_eval = 10, evals = watchlist , evals_result=save )\n"
      ],
      "metadata": {
        "colab": {
          "base_uri": "https://localhost:8080/"
        },
        "id": "zj39CMLmiHdi",
        "outputId": "28f2bb7c-618e-4dbf-cac6-0b1b3b789065"
      },
      "execution_count": 371,
      "outputs": [
        {
          "output_type": "stream",
          "name": "stdout",
          "text": [
            "[0]\ttrain-auc:0.767788\tval-auc:0.7538\n",
            "[10]\ttrain-auc:0.817585\tval-auc:0.809664\n",
            "[20]\ttrain-auc:0.841019\tval-auc:0.814857\n",
            "[30]\ttrain-auc:0.853779\tval-auc:0.820413\n",
            "[40]\ttrain-auc:0.863524\tval-auc:0.824055\n",
            "[50]\ttrain-auc:0.87068\tval-auc:0.827057\n",
            "[60]\ttrain-auc:0.877141\tval-auc:0.828685\n",
            "[70]\ttrain-auc:0.882143\tval-auc:0.830023\n",
            "[80]\ttrain-auc:0.886402\tval-auc:0.833725\n",
            "[90]\ttrain-auc:0.890253\tval-auc:0.835329\n",
            "[100]\ttrain-auc:0.893629\tval-auc:0.835847\n",
            "[110]\ttrain-auc:0.896186\tval-auc:0.83563\n",
            "[120]\ttrain-auc:0.898532\tval-auc:0.835935\n",
            "[130]\ttrain-auc:0.901114\tval-auc:0.836471\n",
            "[140]\ttrain-auc:0.903481\tval-auc:0.836724\n",
            "[150]\ttrain-auc:0.905624\tval-auc:0.836737\n",
            "[160]\ttrain-auc:0.907933\tval-auc:0.836749\n",
            "[170]\ttrain-auc:0.909923\tval-auc:0.836292\n",
            "[180]\ttrain-auc:0.911413\tval-auc:0.836615\n",
            "[190]\ttrain-auc:0.912764\tval-auc:0.835969\n",
            "[200]\ttrain-auc:0.914411\tval-auc:0.836255\n",
            "[210]\ttrain-auc:0.915793\tval-auc:0.835926\n",
            "[220]\ttrain-auc:0.917135\tval-auc:0.835969\n",
            "[230]\ttrain-auc:0.918788\tval-auc:0.835219\n",
            "[240]\ttrain-auc:0.919935\tval-auc:0.835347\n",
            "[250]\ttrain-auc:0.921138\tval-auc:0.835304\n",
            "[260]\ttrain-auc:0.922419\tval-auc:0.835377\n",
            "[270]\ttrain-auc:0.923596\tval-auc:0.835505\n",
            "[280]\ttrain-auc:0.924534\tval-auc:0.83506\n",
            "[290]\ttrain-auc:0.925506\tval-auc:0.834847\n",
            "[300]\ttrain-auc:0.926549\tval-auc:0.834756\n",
            "[310]\ttrain-auc:0.927699\tval-auc:0.834317\n",
            "[320]\ttrain-auc:0.928517\tval-auc:0.834426\n",
            "[330]\ttrain-auc:0.92939\tval-auc:0.834433\n",
            "[340]\ttrain-auc:0.930368\tval-auc:0.834463\n",
            "[350]\ttrain-auc:0.931429\tval-auc:0.834554\n",
            "[360]\ttrain-auc:0.932492\tval-auc:0.834737\n",
            "[370]\ttrain-auc:0.933528\tval-auc:0.83481\n",
            "[380]\ttrain-auc:0.934416\tval-auc:0.834561\n",
            "[390]\ttrain-auc:0.935554\tval-auc:0.833957\n",
            "[400]\ttrain-auc:0.936679\tval-auc:0.833707\n",
            "[410]\ttrain-auc:0.937905\tval-auc:0.833433\n",
            "[420]\ttrain-auc:0.938589\tval-auc:0.833122\n",
            "[430]\ttrain-auc:0.939173\tval-auc:0.832823\n",
            "[440]\ttrain-auc:0.939743\tval-auc:0.832775\n",
            "[450]\ttrain-auc:0.940392\tval-auc:0.832689\n",
            "[460]\ttrain-auc:0.94123\tval-auc:0.8325\n",
            "[470]\ttrain-auc:0.941616\tval-auc:0.832189\n",
            "[480]\ttrain-auc:0.942586\tval-auc:0.83144\n",
            "[490]\ttrain-auc:0.943212\tval-auc:0.831245\n",
            "[499]\ttrain-auc:0.943984\tval-auc:0.831098\n"
          ]
        }
      ]
    },
    {
      "cell_type": "code",
      "source": [
        "plt.plot(n_of_trees , save['val']['auc'][::10])\n",
        "plt.axvline(x=save['val']['auc'].index(max(save['val']['auc'])) , linestyle='dashed' , color = 'gray')\n",
        "plt.title(\"Number of trees vs AUC\")\n",
        "plt.xlabel(\"Number of trees\")\n",
        "plt.ylabel(\"AUC\")\n",
        "plt.legend()"
      ],
      "metadata": {
        "colab": {
          "base_uri": "https://localhost:8080/",
          "height": 330
        },
        "id": "62JT9MyUi6dH",
        "outputId": "8a1af925-ed6e-4b20-a251-09cdfd11fe54"
      },
      "execution_count": 372,
      "outputs": [
        {
          "output_type": "stream",
          "name": "stderr",
          "text": [
            "No handles with labels found to put in legend.\n"
          ]
        },
        {
          "output_type": "execute_result",
          "data": {
            "text/plain": [
              "<matplotlib.legend.Legend at 0x7fef1d7c1150>"
            ]
          },
          "metadata": {},
          "execution_count": 372
        },
        {
          "output_type": "display_data",
          "data": {
            "text/plain": [
              "<Figure size 432x288 with 1 Axes>"
            ],
            "image/png": "[encoded data removed]"
          },
          "metadata": {
            "needs_background": "light"
          }
        }
      ]
    },
    {
      "cell_type": "code",
      "source": [
        "#the max auc score is for number of trees = 150"
      ],
      "metadata": {
        "id": "5Hxo_OcsjT5d"
      },
      "execution_count": 373,
      "outputs": []
    },
    {
      "cell_type": "code",
      "source": [
        "#now we will train our model finally\n",
        "model = xgb.train(xgbparams , dtrain , num_boost_round = 150 , evals = watchlist , evals_result=save)"
      ],
      "metadata": {
        "id": "YlWkb1b2kmrJ",
        "colab": {
          "base_uri": "https://localhost:8080/"
        },
        "outputId": "ab47b886-8964-4d6d-ca1b-35acc556aa31"
      },
      "execution_count": 374,
      "outputs": [
        {
          "output_type": "stream",
          "name": "stdout",
          "text": [
            "[0]\ttrain-auc:0.767788\tval-auc:0.7538\n",
            "[1]\ttrain-auc:0.779406\tval-auc:0.756043\n",
            "[2]\ttrain-auc:0.78383\tval-auc:0.781501\n",
            "[3]\ttrain-auc:0.787119\tval-auc:0.775027\n",
            "[4]\ttrain-auc:0.79518\tval-auc:0.782104\n",
            "[5]\ttrain-auc:0.806207\tval-auc:0.792451\n",
            "[6]\ttrain-auc:0.807854\tval-auc:0.798891\n",
            "[7]\ttrain-auc:0.814331\tval-auc:0.801518\n",
            "[8]\ttrain-auc:0.816436\tval-auc:0.807363\n",
            "[9]\ttrain-auc:0.817293\tval-auc:0.807924\n",
            "[10]\ttrain-auc:0.817585\tval-auc:0.809664\n",
            "[11]\ttrain-auc:0.82636\tval-auc:0.810005\n",
            "[12]\ttrain-auc:0.827677\tval-auc:0.810319\n",
            "[13]\ttrain-auc:0.830365\tval-auc:0.811532\n",
            "[14]\ttrain-auc:0.834173\tval-auc:0.811124\n",
            "[15]\ttrain-auc:0.835558\tval-auc:0.812547\n",
            "[16]\ttrain-auc:0.83741\tval-auc:0.812331\n",
            "[17]\ttrain-auc:0.839547\tval-auc:0.81159\n",
            "[18]\ttrain-auc:0.839427\tval-auc:0.813212\n",
            "[19]\ttrain-auc:0.840403\tval-auc:0.813748\n",
            "[20]\ttrain-auc:0.841019\tval-auc:0.814857\n",
            "[21]\ttrain-auc:0.842769\tval-auc:0.816412\n",
            "[22]\ttrain-auc:0.84369\tval-auc:0.816503\n",
            "[23]\ttrain-auc:0.846737\tval-auc:0.81746\n",
            "[24]\ttrain-auc:0.847496\tval-auc:0.817253\n",
            "[25]\ttrain-auc:0.84824\tval-auc:0.816692\n",
            "[26]\ttrain-auc:0.848824\tval-auc:0.816826\n",
            "[27]\ttrain-auc:0.849646\tval-auc:0.818594\n",
            "[28]\ttrain-auc:0.85226\tval-auc:0.819197\n",
            "[29]\ttrain-auc:0.852815\tval-auc:0.820026\n",
            "[30]\ttrain-auc:0.853779\tval-auc:0.820413\n",
            "[31]\ttrain-auc:0.854919\tval-auc:0.819999\n",
            "[32]\ttrain-auc:0.856924\tval-auc:0.819968\n",
            "[33]\ttrain-auc:0.857584\tval-auc:0.820697\n",
            "[34]\ttrain-auc:0.857739\tval-auc:0.821629\n",
            "[35]\ttrain-auc:0.859227\tval-auc:0.821538\n",
            "[36]\ttrain-auc:0.85943\tval-auc:0.821818\n",
            "[37]\ttrain-auc:0.860468\tval-auc:0.821654\n",
            "[38]\ttrain-auc:0.861168\tval-auc:0.821983\n",
            "[39]\ttrain-auc:0.862316\tval-auc:0.822547\n",
            "[40]\ttrain-auc:0.863524\tval-auc:0.824055\n",
            "[41]\ttrain-auc:0.863764\tval-auc:0.824409\n",
            "[42]\ttrain-auc:0.864254\tval-auc:0.824613\n",
            "[43]\ttrain-auc:0.865261\tval-auc:0.823802\n",
            "[44]\ttrain-auc:0.86637\tval-auc:0.824134\n",
            "[45]\ttrain-auc:0.866757\tval-auc:0.825165\n",
            "[46]\ttrain-auc:0.867561\tval-auc:0.826262\n",
            "[47]\ttrain-auc:0.86873\tval-auc:0.825942\n",
            "[48]\ttrain-auc:0.869973\tval-auc:0.826716\n",
            "[49]\ttrain-auc:0.870363\tval-auc:0.82621\n",
            "[50]\ttrain-auc:0.87068\tval-auc:0.827057\n",
            "[51]\ttrain-auc:0.871461\tval-auc:0.826917\n",
            "[52]\ttrain-auc:0.872498\tval-auc:0.827158\n",
            "[53]\ttrain-auc:0.873161\tval-auc:0.828276\n",
            "[54]\ttrain-auc:0.873879\tval-auc:0.828654\n",
            "[55]\ttrain-auc:0.874736\tval-auc:0.828471\n",
            "[56]\ttrain-auc:0.87546\tval-auc:0.828002\n",
            "[57]\ttrain-auc:0.875436\tval-auc:0.828813\n",
            "[58]\ttrain-auc:0.875841\tval-auc:0.82827\n",
            "[59]\ttrain-auc:0.876158\tval-auc:0.829526\n",
            "[60]\ttrain-auc:0.877141\tval-auc:0.828685\n",
            "[61]\ttrain-auc:0.878029\tval-auc:0.828404\n",
            "[62]\ttrain-auc:0.878565\tval-auc:0.829233\n",
            "[63]\ttrain-auc:0.879206\tval-auc:0.828983\n",
            "[64]\ttrain-auc:0.879994\tval-auc:0.82902\n",
            "[65]\ttrain-auc:0.880186\tval-auc:0.829812\n",
            "[66]\ttrain-auc:0.880619\tval-auc:0.829361\n",
            "[67]\ttrain-auc:0.881205\tval-auc:0.82927\n",
            "[68]\ttrain-auc:0.881976\tval-auc:0.829639\n",
            "[69]\ttrain-auc:0.881901\tval-auc:0.830272\n",
            "[70]\ttrain-auc:0.882143\tval-auc:0.830023\n",
            "[71]\ttrain-auc:0.88262\tval-auc:0.830504\n",
            "[72]\ttrain-auc:0.882934\tval-auc:0.831327\n",
            "[73]\ttrain-auc:0.883792\tval-auc:0.831376\n",
            "[74]\ttrain-auc:0.884032\tval-auc:0.831406\n",
            "[75]\ttrain-auc:0.884455\tval-auc:0.832278\n",
            "[76]\ttrain-auc:0.884833\tval-auc:0.832461\n",
            "[77]\ttrain-auc:0.88512\tval-auc:0.832577\n",
            "[78]\ttrain-auc:0.885598\tval-auc:0.832808\n",
            "[79]\ttrain-auc:0.886201\tval-auc:0.833207\n",
            "[80]\ttrain-auc:0.886402\tval-auc:0.833725\n",
            "[81]\ttrain-auc:0.886766\tval-auc:0.833866\n",
            "[82]\ttrain-auc:0.887288\tval-auc:0.833701\n",
            "[83]\ttrain-auc:0.88752\tval-auc:0.834003\n",
            "[84]\ttrain-auc:0.887898\tval-auc:0.834692\n",
            "[85]\ttrain-auc:0.888398\tval-auc:0.834749\n",
            "[86]\ttrain-auc:0.888722\tval-auc:0.834597\n",
            "[87]\ttrain-auc:0.88903\tval-auc:0.834402\n",
            "[88]\ttrain-auc:0.889467\tval-auc:0.83492\n",
            "[89]\ttrain-auc:0.889803\tval-auc:0.83514\n",
            "[90]\ttrain-auc:0.890253\tval-auc:0.835329\n",
            "[91]\ttrain-auc:0.890681\tval-auc:0.835426\n",
            "[92]\ttrain-auc:0.89109\tval-auc:0.835737\n",
            "[93]\ttrain-auc:0.891329\tval-auc:0.835499\n",
            "[94]\ttrain-auc:0.891651\tval-auc:0.835377\n",
            "[95]\ttrain-auc:0.891832\tval-auc:0.835743\n",
            "[96]\ttrain-auc:0.892222\tval-auc:0.835475\n",
            "[97]\ttrain-auc:0.892555\tval-auc:0.835889\n",
            "[98]\ttrain-auc:0.892904\tval-auc:0.836194\n",
            "[99]\ttrain-auc:0.893278\tval-auc:0.835871\n",
            "[100]\ttrain-auc:0.893629\tval-auc:0.835847\n",
            "[101]\ttrain-auc:0.89396\tval-auc:0.836261\n",
            "[102]\ttrain-auc:0.894289\tval-auc:0.83645\n",
            "[103]\ttrain-auc:0.894626\tval-auc:0.836127\n",
            "[104]\ttrain-auc:0.89474\tval-auc:0.835993\n",
            "[105]\ttrain-auc:0.895064\tval-auc:0.835828\n",
            "[106]\ttrain-auc:0.895291\tval-auc:0.836066\n",
            "[107]\ttrain-auc:0.895524\tval-auc:0.835764\n",
            "[108]\ttrain-auc:0.895812\tval-auc:0.835844\n",
            "[109]\ttrain-auc:0.896098\tval-auc:0.835691\n",
            "[110]\ttrain-auc:0.896186\tval-auc:0.83563\n",
            "[111]\ttrain-auc:0.896374\tval-auc:0.835905\n",
            "[112]\ttrain-auc:0.896698\tval-auc:0.835947\n",
            "[113]\ttrain-auc:0.897071\tval-auc:0.835984\n",
            "[114]\ttrain-auc:0.89734\tval-auc:0.835807\n",
            "[115]\ttrain-auc:0.897516\tval-auc:0.835472\n",
            "[116]\ttrain-auc:0.897622\tval-auc:0.835819\n",
            "[117]\ttrain-auc:0.897739\tval-auc:0.835892\n",
            "[118]\ttrain-auc:0.897936\tval-auc:0.835825\n",
            "[119]\ttrain-auc:0.898236\tval-auc:0.835508\n",
            "[120]\ttrain-auc:0.898532\tval-auc:0.835935\n",
            "[121]\ttrain-auc:0.898874\tval-auc:0.836264\n",
            "[122]\ttrain-auc:0.899075\tval-auc:0.836222\n",
            "[123]\ttrain-auc:0.899414\tval-auc:0.8361\n",
            "[124]\ttrain-auc:0.899643\tval-auc:0.835959\n",
            "[125]\ttrain-auc:0.899866\tval-auc:0.836093\n",
            "[126]\ttrain-auc:0.900307\tval-auc:0.836039\n",
            "[127]\ttrain-auc:0.900614\tval-auc:0.836228\n",
            "[128]\ttrain-auc:0.900701\tval-auc:0.83663\n",
            "[129]\ttrain-auc:0.900941\tval-auc:0.836605\n",
            "[130]\ttrain-auc:0.901114\tval-auc:0.836471\n",
            "[131]\ttrain-auc:0.901297\tval-auc:0.836276\n",
            "[132]\ttrain-auc:0.901603\tval-auc:0.836008\n",
            "[133]\ttrain-auc:0.901926\tval-auc:0.836002\n",
            "[134]\ttrain-auc:0.902158\tval-auc:0.836404\n",
            "[135]\ttrain-auc:0.902491\tval-auc:0.836273\n",
            "[136]\ttrain-auc:0.902788\tval-auc:0.836353\n",
            "[137]\ttrain-auc:0.902807\tval-auc:0.836103\n",
            "[138]\ttrain-auc:0.902958\tval-auc:0.836401\n",
            "[139]\ttrain-auc:0.903135\tval-auc:0.836511\n",
            "[140]\ttrain-auc:0.903481\tval-auc:0.836724\n",
            "[141]\ttrain-auc:0.903699\tval-auc:0.836804\n",
            "[142]\ttrain-auc:0.903874\tval-auc:0.836584\n",
            "[143]\ttrain-auc:0.904112\tval-auc:0.836407\n",
            "[144]\ttrain-auc:0.904453\tval-auc:0.836115\n",
            "[145]\ttrain-auc:0.904676\tval-auc:0.836316\n",
            "[146]\ttrain-auc:0.904763\tval-auc:0.836255\n",
            "[147]\ttrain-auc:0.905011\tval-auc:0.836316\n",
            "[148]\ttrain-auc:0.905265\tval-auc:0.836286\n",
            "[149]\ttrain-auc:0.905561\tval-auc:0.836304\n"
          ]
        }
      ]
    },
    {
      "cell_type": "code",
      "source": [
        "#Now we will compare all of our model aucs\n"
      ],
      "metadata": {
        "id": "ZzQ_UatpD5xU"
      },
      "execution_count": 375,
      "outputs": []
    },
    {
      "cell_type": "code",
      "source": [
        "y_test = (df_test.status=='default').values\n",
        "del(df_test['status'])\n"
      ],
      "metadata": {
        "id": "8CSlRJT5jKXl"
      },
      "execution_count": 376,
      "outputs": []
    },
    {
      "cell_type": "code",
      "source": [
        "df_test = df_test.fillna(0)\n",
        "test_dict = df_test.to_dict(\"records\")\n"
      ],
      "metadata": {
        "id": "U9WHr3nbFJrn"
      },
      "execution_count": 377,
      "outputs": []
    },
    {
      "cell_type": "code",
      "source": [
        "X_test = dv.transform(test_dict)\n",
        "X_test[0]"
      ],
      "metadata": {
        "colab": {
          "base_uri": "https://localhost:8080/"
        },
        "id": "HKVvi1EIFc4g",
        "outputId": "5b23b55f-343f-45cb-e07e-a22f9813c9af"
      },
      "execution_count": 378,
      "outputs": [
        {
          "output_type": "execute_result",
          "data": {
            "text/plain": [
              "array([3.900e+01, 1.000e+03, 3.000e+03, 0.000e+00, 4.500e+01, 0.000e+00,\n",
              "       0.000e+00, 1.000e+00, 0.000e+00, 0.000e+00, 0.000e+00, 0.000e+00,\n",
              "       9.500e+01, 0.000e+00, 1.000e+00, 0.000e+00, 0.000e+00, 0.000e+00,\n",
              "       0.000e+00, 1.000e+00, 0.000e+00, 0.000e+00, 0.000e+00, 0.000e+00,\n",
              "       1.058e+03, 1.000e+00, 0.000e+00, 1.000e+01, 6.000e+01])"
            ]
          },
          "metadata": {},
          "execution_count": 378
        }
      ]
    },
    {
      "cell_type": "code",
      "source": [
        "y_pred = dt.predict_proba(X_test)[:,1]\n",
        "auc_dt = roc_auc_score(y_test , y_pred)\n",
        "auc_dt\n"
      ],
      "metadata": {
        "colab": {
          "base_uri": "https://localhost:8080/"
        },
        "id": "v3LTE5HcFlpA",
        "outputId": "f183e539-96a8-4a4b-b464-4038ebcdf45e"
      },
      "execution_count": 379,
      "outputs": [
        {
          "output_type": "execute_result",
          "data": {
            "text/plain": [
              "0.7862066697362362"
            ]
          },
          "metadata": {},
          "execution_count": 379
        }
      ]
    },
    {
      "cell_type": "code",
      "source": [
        "y_pred = rf.predict_proba(X_test)[:,1]\n",
        "auc_rf = roc_auc_score(y_test , y_pred)\n",
        "auc_rf"
      ],
      "metadata": {
        "colab": {
          "base_uri": "https://localhost:8080/"
        },
        "id": "JzPIkI2pF3nO",
        "outputId": "3b67f43f-8184-41c3-b05f-58663cfef9ff"
      },
      "execution_count": 380,
      "outputs": [
        {
          "output_type": "execute_result",
          "data": {
            "text/plain": [
              "0.8250805762020653"
            ]
          },
          "metadata": {},
          "execution_count": 380
        }
      ]
    },
    {
      "cell_type": "code",
      "source": [
        "dtest = xgb.DMatrix(X_test,label= y_train , feature_names=dv.feature_names_)\n",
        "y_pred = model.predict(dtest)\n",
        "auc_model = roc_auc_score(y_test , y_pred)\n",
        "auc_model"
      ],
      "metadata": {
        "colab": {
          "base_uri": "https://localhost:8080/"
        },
        "id": "5Tnx7mrpGUnZ",
        "outputId": "9daafa2f-e125-4885-f5b3-a9979d37a2ae"
      },
      "execution_count": 381,
      "outputs": [
        {
          "output_type": "execute_result",
          "data": {
            "text/plain": [
              "0.83247714266921"
            ]
          },
          "metadata": {},
          "execution_count": 381
        }
      ]
    },
    {
      "cell_type": "code",
      "source": [
        "#we can also visualize this\n",
        "sns.barplot( [\"DecisionTree\" , \"RandomForest\" , \"XGBoost\"], [auc_dt,auc_rf,auc_model] )"
      ],
      "metadata": {
        "colab": {
          "base_uri": "https://localhost:8080/",
          "height": 337
        },
        "id": "PrNrGkvnIIGi",
        "outputId": "f583d418-0471-40b4-f814-a15af101a9f0"
      },
      "execution_count": 382,
      "outputs": [
        {
          "output_type": "stream",
          "name": "stderr",
          "text": [
            "/usr/local/lib/python3.7/dist-packages/seaborn/_decorators.py:43: FutureWarning: Pass the following variables as keyword args: x, y. From version 0.12, the only valid positional argument will be `data`, and passing other arguments without an explicit keyword will result in an error or misinterpretation.\n",
            "  FutureWarning\n"
          ]
        },
        {
          "output_type": "execute_result",
          "data": {
            "text/plain": [
              "<matplotlib.axes._subplots.AxesSubplot at 0x7fef1d7f5a90>"
            ]
          },
          "metadata": {},
          "execution_count": 382
        },
        {
          "output_type": "display_data",
          "data": {
            "text/plain": [
              "<Figure size 432x288 with 1 Axes>"
            ],
            "image/png": "[encoded data removed]"
          },
          "metadata": {
            "needs_background": "light"
          }
        }
      ]
    },
    {
      "cell_type": "code",
      "source": [
        "#we can see that the best model is xgboost "
      ],
      "metadata": {
        "id": "WNHgIlbqK-PB"
      },
      "execution_count": 383,
      "outputs": []
    },
    {
      "cell_type": "code",
      "source": [
        "#now let us save our model\n",
        "with open('credit_model.bin','wb') as f_out:\n",
        "  pickle.dump((dv,model), f_out)"
      ],
      "metadata": {
        "id": "hvdzELsPKDe2"
      },
      "execution_count": 386,
      "outputs": []
    },
    {
      "cell_type": "code",
      "source": [
        "person  = {'age': 41,\n",
        " 'amount': 1100,\n",
        " 'assets': 4000.0,\n",
        " 'debt': 30.0,\n",
        " 'expenses': 75,\n",
        " 'home': 'private',\n",
        " 'income': 80.0,\n",
        " 'job': 'partime',\n",
        " 'marital': 'married',\n",
        " 'price': 1409,\n",
        " 'records': 'no',\n",
        " 'seniority': 1,\n",
        " 'status': 'default',\n",
        " 'time': 48}\n",
        "\n",
        "url = 'http://localhost:9696/predict' #A\n",
        "response = requests.post(url, json=person) #B\n",
        "result = response.json()\n",
        "\n",
        "result"
      ],
      "metadata": {
        "colab": {
          "base_uri": "https://localhost:8080/"
        },
        "id": "pZvJYzH8XDK3",
        "outputId": "3abf730a-2e58-4eb6-b62d-779871242702"
      },
      "execution_count": 393,
      "outputs": [
        {
          "output_type": "execute_result",
          "data": {
            "text/plain": [
              "{'default': True, 'default probablity': 0.5387210249900818}"
            ]
          },
          "metadata": {},
          "execution_count": 393
        }
      ]
    },
    {
      "cell_type": "markdown",
      "source": [
        "We can see that our model correctly predicted that the person is going default. \n",
        "WE have trained using decision tree , random tree and xgboost to predict the status of the person. We then did parameter tuning to find the best parameter for our model. We compared model trained with different parameters with the help of visuals. We found that the best model is xgboost. So we saved the model and serve it on web using Flask to get real world predictions."
      ],
      "metadata": {
        "id": "9U_Ig6LPZQnP"
      }
    }
  ]
}