{
  "nbformat": 4,
  "nbformat_minor": 0,
  "metadata": {
    "colab": {
      "name": "Difficult_words_from_url",
      "provenance": [],
      "authorship_tag": "ABX9TyNmXh33QFzSKKDA42OOqmhe",
      "include_colab_link": true
    },
    "kernelspec": {
      "name": "python3",
      "display_name": "Python 3"
    },
    "language_info": {
      "name": "python"
    }
  },
  "cells": [
    {
      "cell_type": "markdown",
      "metadata": {
        "id": "view-in-github",
        "colab_type": "text"
      },
      "source": [
        "<a href=\"https://colab.research.google.com/github/saif-byte/DataSciencePortfolio/blob/main/Difficult_words_from_url.ipynb\" target=\"_parent\"><img src=\"https://colab.research.google.com/assets/colab-badge.svg\" alt=\"Open In Colab\"/></a>"
      ]
    },
    {
      "cell_type": "code",
      "source": [
        "import requests\n",
        "import pandas as pd \n",
        "from bs4 import BeautifulSoup, SoupStrainer\n",
        "import re\n",
        "from urllib.request import urlopen\n",
        "import nltk\n",
        "from nltk.corpus import words \n",
        "from googlesearch import search\n",
        "import urllib\n",
        "import time\n"
      ],
      "metadata": {
        "id": "wU4UpseiJ8-R"
      },
      "execution_count": 15,
      "outputs": []
    },
    {
      "cell_type": "code",
      "execution_count": 16,
      "metadata": {
        "id": "PME7ypiBQcap"
      },
      "outputs": [],
      "source": [
        "\n",
        "english_most_common_10k = 'https://raw.githubusercontent.com/first20hours/google-10000-english/master/google-10000-english-usa-no-swears.txt'\n",
        "\n",
        "# Get the file of 10 k most common words from TXT file in a github repo\n",
        "response = requests.get(english_most_common_10k)\n",
        "data = response.text\n",
        "\n",
        "df = pd.read_csv(\"world-cities.csv\")\n",
        "cities = list(df[\"name\"])\n",
        "set_of_common_words = {x for x in data.split('\\n')}\n",
        "\n",
        "# Once we have the set of common words, we can just check.\n",
        "# The check is in average case O(1) operation,\n",
        "# but you can use for example some sort of search three with O(log(n)) complexity\n",
        "def separator(g_list):\n",
        "  newlist=set()\n",
        "  i =0\n",
        "  for word in g_list:\n",
        "      n_word = word\n",
        "      n_word = n_word.lower()\n",
        "      if n_word not in set_of_common_words and n_word not in cities:\n",
        "          newlist.add(word)\n",
        "      \n",
        "      i+=1\n",
        "  return newlist"
      ]
    },
    {
      "cell_type": "code",
      "source": [
        "\n",
        "\n",
        "content = requests.get('https://www.dawn.com').content\n",
        "links = []\n",
        "for link in BeautifulSoup(content, parse_only=SoupStrainer('a')):\n",
        "  \n",
        "  if hasattr(link, \"href\"):\n",
        "    links.append(link['href'])\n",
        "links = [x for x in links if x.startswith(\"http\")]\n"
      ],
      "metadata": {
        "id": "OWn1I9iKcMl_"
      },
      "execution_count": 17,
      "outputs": []
    },
    {
      "cell_type": "code",
      "source": [
        "\n",
        "url = \"https://www.dawn.com/news/1681250/choosing-the-street\"\n",
        "r  = requests.get(url)\n",
        "htmlContent = r.content\n",
        "#print(htmlContent)\n",
        "soup = BeautifulSoup(htmlContent)\n",
        "#print(soup.prettify())\n",
        "title = soup.title\n",
        "#print(title)\n",
        "paras = soup.find_all(\"p\",{\"class\":\"\"})\n",
        "text_org = \"\"\n",
        "for i in paras:\n",
        "  text_org+=i.get_text()\n",
        "#print(text)\n",
        "text = re.sub(\"[^A-Za-z]\", \" \", text_org)\n",
        "text = text.split()"
      ],
      "metadata": {
        "id": "ADaZ6HEAYSgL"
      },
      "execution_count": 18,
      "outputs": []
    },
    {
      "cell_type": "code",
      "source": [
        "for w in text:\n",
        "  if w not in words.words():\n",
        "    text.remove(w)\n"
      ],
      "metadata": {
        "id": "Dg7xyeaJJm9F"
      },
      "execution_count": 19,
      "outputs": []
    },
    {
      "cell_type": "code",
      "source": [
        "diff_words = separator(text)\n"
      ],
      "metadata": {
        "id": "rw1bwYqhQhAO"
      },
      "execution_count": 20,
      "outputs": []
    },
    {
      "cell_type": "code",
      "source": [
        "diff_words"
      ],
      "metadata": {
        "colab": {
          "base_uri": "https://localhost:8080/"
        },
        "id": "4W5zYMe9Ug4u",
        "outputId": "1ed468cf-5515-48fb-bf21-2f12787098eb"
      },
      "execution_count": 21,
      "outputs": [
        {
          "output_type": "execute_result",
          "data": {
            "text/plain": [
              "{'Depar',\n",
              " 'Pakhtunkhwa',\n",
              " 'accord',\n",
              " 'alarmingly',\n",
              " 'alleviation',\n",
              " 'arose',\n",
              " 'begging',\n",
              " 'cannot',\n",
              " 'cial',\n",
              " 'continuum',\n",
              " 'critically',\n",
              " 'drift',\n",
              " 'exploit',\n",
              " 'exploitation',\n",
              " 'holistic',\n",
              " 'instructed',\n",
              " 'labour',\n",
              " 'misuse',\n",
              " 'neglect',\n",
              " 'reputable',\n",
              " 'resp',\n",
              " 'rounded',\n",
              " 'seemingly',\n",
              " 'shrinking',\n",
              " 'straightforward',\n",
              " 'subset',\n",
              " 'tead',\n",
              " 'unfathomable'}"
            ]
          },
          "metadata": {},
          "execution_count": 21
        }
      ]
    },
    {
      "cell_type": "code",
      "source": [
        "def google_scrape(url):\n",
        "    thepage = urllib.request.urlopen(url)\n",
        "    soup = BeautifulSoup(thepage, \"html.parser\")\n",
        "    return soup.title.text\n",
        "def search_w(w):\n",
        "  i = 1\n",
        "  query = f'{w} meaning merriam webster'\n",
        "  for url in search(query, stop=1):\n",
        "      a = google_scrape(url)\n",
        "      print (f'{w} meanings and defination' )\n",
        "      \n",
        "      html = urllib.request.urlopen(url, timeout=10).read().decode('UTF-8')\n",
        "\n",
        "      soup = BeautifulSoup(html)\n",
        "      div = soup.find('span', class_=\"dtText\")\n",
        "      try:\n",
        "      \n",
        "        print(f'{div.get_text()}\\n')\n",
        "\n",
        "      except Exception as e:\n",
        "         continue\n",
        "      print(f\"The Sentence in which {w} is used:\\n\")\n",
        "      print(f'{get_sent(w)}\\n')\n",
        "    #print (div)\n",
        "    #i += 1"
      ],
      "metadata": {
        "id": "cfAQLwdo9bdg"
      },
      "execution_count": 22,
      "outputs": []
    },
    {
      "cell_type": "code",
      "source": [
        "def get_sent(w):\n",
        "  return [sentence + '.' for sentence in text_org.split('.') if w in sentence]\n"
      ],
      "metadata": {
        "id": "UPRpv7D5BS6J"
      },
      "execution_count": 23,
      "outputs": []
    },
    {
      "cell_type": "code",
      "source": [
        "for i in diff_words:\n",
        "  search_w(i)\n",
        "  time.sleep(2)"
      ],
      "metadata": {
        "colab": {
          "base_uri": "https://localhost:8080/"
        },
        "id": "8djT5Jtg_YYA",
        "outputId": "d636d209-0047-470e-c432-daea7274513a"
      },
      "execution_count": 24,
      "outputs": [
        {
          "output_type": "stream",
          "name": "stdout",
          "text": [
            "rounded meanings and defination\n",
            ": having every part of the surface or circumference equidistant from the center\n",
            "\n",
            "The Sentence in which rounded is used:\n",
            "\n",
            "[' Even if rounded up and taken through a system which places them in institutions with everything that they seemingly lack — shelter, food, opportunities to learn — they may resist or even try to run away.']\n",
            "\n",
            "critically meanings and defination\n",
            ": inclined to criticize severely and unfavorably\n",
            "\n",
            "The Sentence in which critically is used:\n",
            "\n",
            "['This is an opportunity to really explore the varied experiences of children; critically re-examine the systems of support available; review fractures in coordination between different departments; and to assess whether the welfare approach alone is enough.']\n",
            "\n",
            "reputable meanings and defination\n",
            ": enjoying good repute : held in esteem\n",
            "\n",
            "The Sentence in which reputable is used:\n",
            "\n",
            "['WHY would children, given an option, ever want to stay on the streets?This question arose when speaking to staff from a reputable organisation in Peshawar, with decades of experience in outreach and rehabilitation for children who live or work on the streets.']\n",
            "\n",
            "exploit meanings and defination\n",
            ": deed, act\n",
            "\n",
            "The Sentence in which exploit is used:\n",
            "\n",
            "[' The streets of Peshawar offer a range of serious protection risks including sexual exploitation and abuse, and exposure to alarmingly high incidence of substance misuse.', ' This could include prevention of violence at the family level; connecting with poverty alleviation programmes; action against organised networks that exploit children; or the establishment of ‘one-stop’ drop-in facilities where they can access learning, hygiene, or referrals to other services including drug rehabilitation.']\n",
            "\n",
            "cannot meanings and defination\n",
            ": can not\n",
            "\n",
            "The Sentence in which cannot is used:\n",
            "\n",
            "[' Residential institutions alone cannot reach every child and may not also be the right fit for every case.']\n",
            "\n",
            "accord meanings and defination\n",
            ": to grant or give especially as appropriate, due, or earned\n",
            "\n",
            "The Sentence in which accord is used:\n",
            "\n",
            "[' It takes special skills to engage with that subset of ‘street children’ — or the more nuanced term, ‘street-connected’ children — who have left home of their own accord and drift between urban spaces.']\n",
            "\n",
            "cial meanings and defination\n",
            ": involving allies or confederates\n",
            "\n",
            "The Sentence in which cial is used:\n",
            "\n",
            "[' It takes special skills to engage with that subset of ‘street children’ — or the more nuanced term, ‘street-connected’ children — who have left home of their own accord and drift between urban spaces.', ' One positive directive from the court has been to ask the Social Welfare Department to produce a detailed report about the issues faced by such children, as well as the state of current welfare facilities.', ' Children with experience of the streets, especially those who have lived independently, have a strong sense of agency.', ' Ins\\xadtead, the first step should be for the So\\xad\\xadcial Welfare Depar\\xadtment to gather — as instructed by the court — enough information to determine an appropriate resp\\xadonse, and set up the continuum of services children may need.']\n",
            "\n",
            "labour meanings and defination\n",
            ": expenditure of physical or mental effort especially when difficult or compulsory\n",
            "\n",
            "The Sentence in which labour is used:\n",
            "\n",
            "[' Stakeholder consultation should complement efforts to gather useful, disaggregated data around how many children are out of school, how many are in hazardous labour, how many are physically on the streets and why.']\n",
            "\n",
            "misuse meanings and defination\n",
            ": to use incorrectly : misapply\n",
            "\n",
            "The Sentence in which misuse is used:\n",
            "\n",
            "[' The streets of Peshawar offer a range of serious protection risks including sexual exploitation and abuse, and exposure to alarmingly high incidence of substance misuse.']\n",
            "\n",
            "tead meanings and defination\n",
            ": a widely cultivated shrub (Camellia sinensis of the family Theaceae, the tea family) native to China, northern India, and southeastern Asia and having glossy green leaves and fragrant white flowers\n",
            "\n",
            "The Sentence in which tead is used:\n",
            "\n",
            "[' Ins\\xadtead, the first step should be for the So\\xad\\xadcial Welfare Depar\\xadtment to gather — as instructed by the court — enough information to determine an appropriate resp\\xadonse, and set up the continuum of services children may need.']\n",
            "\n",
            "seemingly meanings and defination\n",
            ": outwardly or apparently\n",
            "\n",
            "The Sentence in which seemingly is used:\n",
            "\n",
            "[' Even if rounded up and taken through a system which places them in institutions with everything that they seemingly lack — shelter, food, opportunities to learn — they may resist or even try to run away.']\n",
            "\n",
            "instructed meanings and defination\n",
            ": to give knowledge to : teach, train\n",
            "\n",
            "The Sentence in which instructed is used:\n",
            "\n",
            "[' Ins\\xadtead, the first step should be for the So\\xad\\xadcial Welfare Depar\\xadtment to gather — as instructed by the court — enough information to determine an appropriate resp\\xadonse, and set up the continuum of services children may need.']\n",
            "\n",
            "Pakhtunkhwa meanings and defination\n",
            ": a member of a people of eastern and southern Afghanistan and adjacent parts of Pakistan\n",
            "\n",
            "The Sentence in which Pakhtunkhwa is used:\n",
            "\n",
            "['The welfare approach, as codified in law in the Khyber Pakhtunkhwa Child Protection and Welfare Act, 2010 (amended 2018), would offer to these children the safe shelter that seems at first glance to be the single most important element missing in their lives.']\n",
            "\n",
            "alleviation meanings and defination\n",
            ": relieve, lessen: such as\n",
            "\n",
            "The Sentence in which alleviation is used:\n",
            "\n",
            "[' This could include prevention of violence at the family level; connecting with poverty alleviation programmes; action against organised networks that exploit children; or the establishment of ‘one-stop’ drop-in facilities where they can access learning, hygiene, or referrals to other services including drug rehabilitation.']\n",
            "\n",
            "resp meanings and defination\n",
            ": of or relating to respiration\n",
            "\n",
            "The Sentence in which resp is used:\n",
            "\n",
            "['The Peshawar High Court recently took notice of the rising numbers of children on the streets, and responded to several petitions regarding the implementation of the child protection act.', ' Ins\\xadtead, the first step should be for the So\\xad\\xadcial Welfare Depar\\xadtment to gather — as instructed by the court — enough information to determine an appropriate resp\\xadonse, and set up the continuum of services children may need.', ' With a strong, informed response, there can be hope to design real alternatives for street-connected children.']\n",
            "\n",
            "continuum meanings and defination\n",
            ": a coherent whole characterized as a collection, sequence, or progression of values or elements varying by minute degrees\n",
            "\n",
            "The Sentence in which continuum is used:\n",
            "\n",
            "[' Ins\\xadtead, the first step should be for the So\\xad\\xadcial Welfare Depar\\xadtment to gather — as instructed by the court — enough information to determine an appropriate resp\\xadonse, and set up the continuum of services children may need.']\n",
            "\n",
            "unfathomable meanings and defination\n",
            ": not capable of being fathomed:\n",
            "\n",
            "The Sentence in which unfathomable is used:\n",
            "\n",
            "[' The streets, for some, are an unfathomable but very real choice.']\n",
            "\n",
            "exploitation meanings and defination\n",
            ": an act or instance of exploiting\n",
            "\n",
            "The Sentence in which exploitation is used:\n",
            "\n",
            "[' The streets of Peshawar offer a range of serious protection risks including sexual exploitation and abuse, and exposure to alarmingly high incidence of substance misuse.']\n",
            "\n",
            "begging meanings and defination\n",
            ": to ask for as a charity (see charity sense 1a)\n",
            "\n",
            "The Sentence in which begging is used:\n",
            "\n",
            "[' The KP Child Protection and Welfare Commission established under the act has the explicit mandate to offer welfare services, including shelter, to children found begging, living or working on the street or “facing extreme poverty”.']\n",
            "\n",
            "subset meanings and defination\n",
            ": a set each of whose elements is an element of an inclusive set\n",
            "\n",
            "The Sentence in which subset is used:\n",
            "\n",
            "[' It takes special skills to engage with that subset of ‘street children’ — or the more nuanced term, ‘street-connected’ children — who have left home of their own accord and drift between urban spaces.']\n",
            "\n",
            "neglect meanings and defination\n",
            ": to give little attention or respect to : disregard\n",
            "\n",
            "The Sentence in which neglect is used:\n",
            "\n",
            "['Every city context is unique, but in Peshawar children with loose family connections, who leave home due to violence or neglect, may find strong systems of peer support.']\n",
            "\n",
            "arose meanings and defination\n",
            ": to begin to occur or to exist : to come into being or to attention\n",
            "\n",
            "The Sentence in which arose is used:\n",
            "\n",
            "['WHY would children, given an option, ever want to stay on the streets?This question arose when speaking to staff from a reputable organisation in Peshawar, with decades of experience in outreach and rehabilitation for children who live or work on the streets.']\n",
            "\n",
            "straightforward meanings and defination\n",
            ": free from evasiveness or obscurity : exact, candid\n",
            "\n",
            "The Sentence in which straightforward is used:\n",
            "\n",
            "[' Experienced personnel can tell you the answers are not straightforward.']\n",
            "\n",
            "holistic meanings and defination\n",
            ": of or relating to holism\n",
            "\n",
            "The Sentence in which holistic is used:\n",
            "\n",
            "[' Those who argue for a holistic, rights-based approach say, it is not.']\n",
            "\n",
            "alarmingly meanings and defination\n",
            ": causing people to feel danger or alarm or to be worried or frightened\n",
            "\n",
            "The Sentence in which alarmingly is used:\n",
            "\n",
            "[' The streets of Peshawar offer a range of serious protection risks including sexual exploitation and abuse, and exposure to alarmingly high incidence of substance misuse.']\n",
            "\n",
            "Depar meanings and defination\n",
            ": to go away : leave\n",
            "\n",
            "The Sentence in which Depar is used:\n",
            "\n",
            "[' One positive directive from the court has been to ask the Social Welfare Department to produce a detailed report about the issues faced by such children, as well as the state of current welfare facilities.', ' Ins\\xadtead, the first step should be for the So\\xad\\xadcial Welfare Depar\\xadtment to gather — as instructed by the court — enough information to determine an appropriate resp\\xadonse, and set up the continuum of services children may need.']\n",
            "\n",
            "drift meanings and defination\n",
            ": the act of driving something along\n",
            "\n",
            "The Sentence in which drift is used:\n",
            "\n",
            "[' It takes special skills to engage with that subset of ‘street children’ — or the more nuanced term, ‘street-connected’ children — who have left home of their own accord and drift between urban spaces.']\n",
            "\n",
            "shrinking meanings and defination\n",
            ": to contract or curl up the body or part of it : huddle, cower\n",
            "\n",
            "The Sentence in which shrinking is used:\n",
            "\n",
            "[' The 12 protection units initially established with Unicef support could not be maintained upon donor exit, and the shrinking of civil society in Pakistan has meant that several facilities run by NGOs have also shut down.']\n",
            "\n"
          ]
        }
      ]
    }
  ]
}